{
  "nbformat": 4,
  "nbformat_minor": 0,
  "metadata": {
    "colab": {
      "name": "MAC_SistDist_Ex1_LDHJ.ipynb",
      "version": "0.3.2",
      "provenance": [],
      "collapsed_sections": [
        "umA2ktya9vrw",
        "2EOChIi02YaD",
        "tqdNxe6X9-mi",
        "jd7eV6QX3KpV",
        "3rG95BrN3UMq",
        "8s6C_YzTCmG7"
      ],
      "include_colab_link": true
    },
    "kernelspec": {
      "name": "python3",
      "display_name": "Python 3"
    }
  },
  "cells": [
    {
      "cell_type": "markdown",
      "metadata": {
        "id": "view-in-github",
        "colab_type": "text"
      },
      "source": [
        "<a href=\"https://colab.research.google.com/github/htapiagroup/sistemas-distribuidos-evaluacion-intersemestral-ark150/blob/master/MAC_SistDist_Ex1_LDHJ.ipynb\" target=\"_parent\"><img src=\"https://colab.research.google.com/assets/colab-badge.svg\" alt=\"Open In Colab\"/></a>"
      ]
    },
    {
      "cell_type": "markdown",
      "metadata": {
        "id": "4facps36SbDZ",
        "colab_type": "text"
      },
      "source": [
        "##Nombre: Luis Daniel Hernandez Jimenez\n",
        "\n",
        "Se realizo en conjunto con:\n",
        "\n",
        "David Cobos\n",
        "\n",
        "Samuel Baez Herrera\n",
        "\n",
        "Alexis Martinez Arteaga\n",
        "\n",
        "Lorrain Eugenio Giddings Soto\n",
        "\n",
        "Yoselin Aracely Campos Sacramento\n",
        "\n",
        "Ana Margarita Reyes Hernandez\n",
        "\n",
        "Aguilar Hernandez Joaquin\n",
        "\n",
        "Georgina Valenzuela Carrasco\n",
        "\n",
        "Adrian Sosa Medellin\n",
        "\n",
        "Horacio Tapia McClung"
      ]
    },
    {
      "cell_type": "markdown",
      "metadata": {
        "id": "umA2ktya9vrw",
        "colab_type": "text"
      },
      "source": [
        "#Punto 1\n",
        "Adquirir los datos.\n",
        "\n",
        "El conjunto de datos con el que van a trabajar esta disponibles en este enlace y consiste en 12 archivos de texto que tiene informacion del viajes de taxis en la ciudad de NY durante el 2013.\n",
        "\n",
        "En la red interna de LANIA usando cable la descarga del archivo comprimido desde el enlace tomó entre 5 y 10 minutos. Tomen sus provisiones\n",
        "\n",
        "El archivo comprimido tiene un tamaño de aproximadamente 4G, el tamaño de archivo mensual oscila entre 2.0 y 2.5G. La base de datos completa es de aproximadamente 30G.\n",
        "\n",
        "Una vez descargado el archivo pueden descomprimirlo usando la siguiente instruccion\n",
        "!7z x trip_data.7z -o/content/ sin embargo si intentan descomprimir todos los archivos en su sesion se van a terminar el espacio de disco disponible. \n",
        "\n",
        "En esta practica solo van a trabajar con datos correspondientes a los primeros cuatro meses."
      ]
    },
    {
      "cell_type": "code",
      "metadata": {
        "id": "W9NjXWdmXJui",
        "colab_type": "code",
        "outputId": "cffe7bc6-2bd0-44f0-f5a0-11f73463b407",
        "colab": {
          "base_uri": "https://localhost:8080/",
          "height": 121
        }
      },
      "source": [
        "# Ejecuta esta celda para activar Google Drive.\n",
        "from google.colab import drive\n",
        "drive.mount('/content/drive')"
      ],
      "execution_count": 1,
      "outputs": [
        {
          "output_type": "stream",
          "text": [
            "Go to this URL in a browser: https://accounts.google.com/o/oauth2/auth?client_id=947318989803-6bn6qk8qdgf4n4g3pfee6491hc0brc4i.apps.googleusercontent.com&redirect_uri=urn%3Aietf%3Awg%3Aoauth%3A2.0%3Aoob&scope=email%20https%3A%2F%2Fwww.googleapis.com%2Fauth%2Fdocs.test%20https%3A%2F%2Fwww.googleapis.com%2Fauth%2Fdrive%20https%3A%2F%2Fwww.googleapis.com%2Fauth%2Fdrive.photos.readonly%20https%3A%2F%2Fwww.googleapis.com%2Fauth%2Fpeopleapi.readonly&response_type=code\n",
            "\n",
            "Enter your authorization code:\n",
            "··········\n",
            "Mounted at /content/drive\n"
          ],
          "name": "stdout"
        }
      ]
    },
    {
      "cell_type": "code",
      "metadata": {
        "id": "PHjgQuVsYw7R",
        "colab_type": "code",
        "outputId": "89694f6a-6715-489a-f5b6-8a385d4192c6",
        "colab": {
          "base_uri": "https://localhost:8080/",
          "height": 34
        }
      },
      "source": [
        "cd drive/My\\ Drive/Colab\\ Notebooks/data"
      ],
      "execution_count": 2,
      "outputs": [
        {
          "output_type": "stream",
          "text": [
            "/content/drive/My Drive/Colab Notebooks/data\n"
          ],
          "name": "stdout"
        }
      ]
    },
    {
      "cell_type": "markdown",
      "metadata": {
        "id": "2EOChIi02YaD",
        "colab_type": "text"
      },
      "source": [
        "#Punto 2\n",
        "Una vez descargado el archivo pueden descomprimirlo usando la siguiente instruccion\n",
        "\n",
        "\n",
        "!7z x trip_data.7z -o/content/ sin embargo si intentan descomprimir todos los archivos en su sesion se van a terminar el espacio de disco disponible. En esta practica solo van a trabajar con datos correspondientes a los primeros cuatro meses."
      ]
    },
    {
      "cell_type": "code",
      "metadata": {
        "id": "pHQ6iBJTJqj4",
        "colab_type": "code",
        "colab": {}
      },
      "source": [
        "!wget https://archive.org/download/nycTaxiTripData2013/trip_data.7z"
      ],
      "execution_count": 0,
      "outputs": []
    },
    {
      "cell_type": "code",
      "metadata": {
        "id": "jtJ96K5veJgT",
        "colab_type": "code",
        "colab": {}
      },
      "source": [
        "!7z e trip_data.7z -o/content/drive/My\\ Drive/'Colab Notebooks'/data trip_data_1.csv"
      ],
      "execution_count": 0,
      "outputs": []
    },
    {
      "cell_type": "code",
      "metadata": {
        "id": "mfrTbnxMU9NP",
        "colab_type": "code",
        "colab": {}
      },
      "source": [
        "!7z x trip_data.7z "
      ],
      "execution_count": 0,
      "outputs": []
    },
    {
      "cell_type": "markdown",
      "metadata": {
        "id": "tqdNxe6X9-mi",
        "colab_type": "text"
      },
      "source": [
        "#Punto 3,4,5 \n",
        "\n",
        "Responder las siguientes preguntas:\n",
        "Cuantas columnas contiene cada archivo de datos descomprimido\n",
        "Cuantos renglones tiene cada archivo\n",
        "\n",
        "\n",
        "Identificar si existen renglones con errores en los datos, por ejemplo si hay columnas de mas (o de menos), si hay campos vacios, etc. Si se detectan renglones con errores:\n",
        "indicar claramente cuantos son los renglones con errores y a que archivos corresponden\n",
        "crear un nuevo conjunto de datos con los errores eliminados\n",
        "\n",
        "\n",
        "Crear un DataFrame usando la libreria pandas y responder lo siguiente:\n",
        "Indicar el tiempo en segundos, que tarda la libreria pandas en leer un archivo a un DataFrame\n",
        "Cual es la huella de memoria del proceso usado para generar el objeto DataFrame\n",
        "Cuanta memoria del sistema se usa para crear el objeto anterior\n",
        "Indicar el tiempo que tarda pandas en obtener el promedio de la distancia de viaje (trip_distance)"
      ]
    },
    {
      "cell_type": "code",
      "metadata": {
        "id": "UYQxv_-8TXw-",
        "colab_type": "code",
        "colab": {}
      },
      "source": [
        "import pandas as pd, time, gc"
      ],
      "execution_count": 0,
      "outputs": []
    },
    {
      "cell_type": "code",
      "metadata": {
        "id": "3oC1GcQGhByh",
        "colab_type": "code",
        "colab": {}
      },
      "source": [
        "import psutil, os"
      ],
      "execution_count": 0,
      "outputs": []
    },
    {
      "cell_type": "code",
      "metadata": {
        "id": "HvynEqmQPTNx",
        "colab_type": "code",
        "colab": {}
      },
      "source": [
        "gc.enable()"
      ],
      "execution_count": 0,
      "outputs": []
    },
    {
      "cell_type": "code",
      "metadata": {
        "id": "zixCeHkgh8Fy",
        "colab_type": "code",
        "colab": {}
      },
      "source": [
        "#from time import time"
      ],
      "execution_count": 0,
      "outputs": []
    },
    {
      "cell_type": "code",
      "metadata": {
        "id": "aN5hinaifNiS",
        "colab_type": "code",
        "colab": {}
      },
      "source": [
        "def huella_de_memoria():\n",
        "  '''regresa la memoria usada por un proceso en python'''\n",
        "  mem= psutil.Process(os.getpid()).memory_info().rss\n",
        "  return (mem / 1024**2)"
      ],
      "execution_count": 0,
      "outputs": []
    },
    {
      "cell_type": "code",
      "metadata": {
        "id": "GLFWIDFV_m-b",
        "colab_type": "code",
        "colab": {}
      },
      "source": [
        "archivos = 'trip_data_{:d}.csv'\n",
        "plantilla = [archivos.format(i) for i in range(1, 13)]"
      ],
      "execution_count": 0,
      "outputs": []
    },
    {
      "cell_type": "code",
      "metadata": {
        "id": "ThhJAdCgPFaS",
        "colab_type": "code",
        "colab": {}
      },
      "source": [
        "#aportacion adrian\n",
        "class datos():\n",
        "  def __init__(self):\n",
        "    self.name = \"\"\n",
        "    self.rows = 0\n",
        "    self.cols = 0\n",
        "    self.tiempo = 0\n",
        "    self.huellam = 0 \n",
        "    self.memoria= 0\n",
        "    self.empyreg = 0\n",
        "    self.tiempoprom = 0"
      ],
      "execution_count": 0,
      "outputs": []
    },
    {
      "cell_type": "code",
      "metadata": {
        "id": "Ur4iBgKvTOBw",
        "colab_type": "code",
        "colab": {}
      },
      "source": [
        "listaDatos=[]"
      ],
      "execution_count": 0,
      "outputs": []
    },
    {
      "cell_type": "code",
      "metadata": {
        "id": "kf1BOjep_qiI",
        "colab_type": "code",
        "colab": {}
      },
      "source": [
        "#aportacion de adrian\n",
        "for archivo in plantilla:\n",
        "  nom = \"nuevo_\" + archivo\n",
        "  if not os.path.exists(nom):\n",
        "    dato=datos()\n",
        "    t_start = time.time()\n",
        "    antesH = huella_de_memoria()\n",
        "    try:\n",
        "      df = pd.read_csv(archivo, usecols=[\"medallion\",  \"pickup_datetime\", \"dropoff_datetime\", \"passenger_count\", \"trip_time_in_secs\", \"trip_distance\", \"pickup_longitude\", \"pickup_latitude\", \"dropoff_longitude\", \"dropoff_latitude\"])\n",
        "    except :\n",
        "      pass\n",
        "    try:\n",
        "      df = pd.read_csv(archivo, usecols=[\"medallion\",  \" pickup_datetime\", \" dropoff_datetime\", \" passenger_count\", \" trip_time_in_secs\", \" trip_distance\", \" pickup_longitude\", \" pickup_latitude\", \" dropoff_longitude\", \" dropoff_latitude\"])\n",
        "    except :\n",
        "      pass\n",
        "    t_end = time.time()\n",
        "    despuesH = huella_de_memoria()\n",
        "    dato.name=archivo\n",
        "    forma=df.shape\n",
        "    dato.rows=forma[0]\n",
        "    dato.cols=forma[1]\n",
        "    dato.huellam=(despuesH-antesH)\n",
        "    dato.tiempo=(t_end-t_start)*1000\n",
        "    dato.memoria=df.memory_usage().sum()\n",
        "    df = df.rename(columns=lambda x: x.strip())\n",
        "    dato.empyreg = df.isna().sum()\n",
        "    df.dropna()\n",
        "    df = df.drop(df[df.passenger_count > 9].index)\n",
        "    forma=df.shape\n",
        "    c=forma[1]\n",
        "    if c>11:\n",
        "      del df['Unnamed: 0']\n",
        "    t_start = time.time()\n",
        "    df['trip_distance'].mean()\n",
        "    t_end = time.time()\n",
        "    dato.tiempoprom=(t_end-t_start)*1000\n",
        "    df.to_csv(nom)\n",
        "    listaDatos.append(dato)\n",
        "    df = ''\n",
        "    dato = ''\n",
        "    \n",
        "    "
      ],
      "execution_count": 0,
      "outputs": []
    },
    {
      "cell_type": "code",
      "metadata": {
        "id": "08zCmcukUnhh",
        "colab_type": "code",
        "outputId": "741a7cf5-496e-4a6a-c6da-f8d2019c743e",
        "colab": {
          "base_uri": "https://localhost:8080/",
          "height": 1000
        }
      },
      "source": [
        "#aportacion adrian\n",
        "for i in range(len(listaDatos)):\n",
        "  print(\"\\n\")\n",
        "  print(\"Archivo analizado: {}\".format(listaDatos[i].name))\n",
        "  print(\"El archivo tiene {} columnas y {} renglones\".format(listaDatos[i].cols, listaDatos[i].rows))\n",
        "  print(\"Numero de registros vacios:\\n{}\".format(listaDatos[i].empyreg))\n",
        "  print(\"--- se crea un nuevo conjunto de datos con los errores eliminados si los hay. ---\")\n",
        "  print(\"Tiempo de lectura del archivo {} ms\".format(listaDatos[i].tiempo))\n",
        "  print(\"Huella de memoria del archivo: {:.2f} Mb\".format(listaDatos[i].huellam))\n",
        "  print(\"Memoria del sistema usada para crear el archivo: {:.2f} Mb\".format((listaDatos[i].memoria)/(1024**2)))\n",
        "  print(\"Tiempo que tarda pandas en obtener el promedio de Trip_distance: {} ms\".format(listaDatos[i].tiempoprom))\n",
        "  print(\"-----------------------------------------------------------------------------------------\")"
      ],
      "execution_count": 0,
      "outputs": [
        {
          "output_type": "stream",
          "text": [
            "\n",
            "\n",
            "Archivo analizado: trip_data_1.csv\n",
            "El archivo tiene 10 columnas y 14776615 renglones\n",
            "Numero de registros vacios:\n",
            "medallion             0\n",
            "pickup_datetime       0\n",
            "dropoff_datetime      0\n",
            "passenger_count       0\n",
            "trip_time_in_secs     0\n",
            "trip_distance         0\n",
            "pickup_longitude      0\n",
            "pickup_latitude       0\n",
            "dropoff_longitude    86\n",
            "dropoff_latitude     86\n",
            "dtype: int64\n",
            "--- se crea un nuevo conjunto de datos con los errores eliminados si los hay. ---\n",
            "Tiempo de lectura del archivo 67505.06973266602 ms\n",
            "Huella de memoria del archivo: 3514.36 Mb\n",
            "Memoria del sistema usada para crear el archivo: 1127.37 Mb\n",
            "Tiempo que tarda pandas en obtener el promedio de Trip_distance: 29.013633728027344 ms\n",
            "-----------------------------------------------------------------------------------------\n",
            "\n",
            "\n",
            "Archivo analizado: trip_data_2.csv\n",
            "El archivo tiene 10 columnas y 13990176 renglones\n",
            "Numero de registros vacios:\n",
            "medallion              0\n",
            "pickup_datetime        0\n",
            "dropoff_datetime       0\n",
            "passenger_count        0\n",
            "trip_time_in_secs      0\n",
            "trip_distance          0\n",
            "pickup_longitude       0\n",
            "pickup_latitude        0\n",
            "dropoff_longitude    113\n",
            "dropoff_latitude     113\n",
            "dtype: int64\n",
            "--- se crea un nuevo conjunto de datos con los errores eliminados si los hay. ---\n",
            "Tiempo de lectura del archivo 79167.43278503418 ms\n",
            "Huella de memoria del archivo: -317.20 Mb\n",
            "Memoria del sistema usada para crear el archivo: 1067.37 Mb\n",
            "Tiempo que tarda pandas en obtener el promedio de Trip_distance: 26.26204490661621 ms\n",
            "-----------------------------------------------------------------------------------------\n",
            "\n",
            "\n",
            "Archivo analizado: trip_data_3.csv\n",
            "El archivo tiene 10 columnas y 15749228 renglones\n",
            "Numero de registros vacios:\n",
            "medallion              0\n",
            "pickup_datetime        0\n",
            "dropoff_datetime       0\n",
            "passenger_count        0\n",
            "trip_time_in_secs      0\n",
            "trip_distance          0\n",
            "pickup_longitude       0\n",
            "pickup_latitude        0\n",
            "dropoff_longitude    293\n",
            "dropoff_latitude     293\n",
            "dtype: int64\n",
            "--- se crea un nuevo conjunto de datos con los errores eliminados si los hay. ---\n",
            "Tiempo de lectura del archivo 90939.05806541443 ms\n",
            "Huella de memoria del archivo: 495.89 Mb\n",
            "Memoria del sistema usada para crear el archivo: 1201.57 Mb\n",
            "Tiempo que tarda pandas en obtener el promedio de Trip_distance: 28.96571159362793 ms\n",
            "-----------------------------------------------------------------------------------------\n",
            "\n",
            "\n",
            "Archivo analizado: trip_data_4.csv\n",
            "El archivo tiene 10 columnas y 15100468 renglones\n",
            "Numero de registros vacios:\n",
            "medallion              0\n",
            "pickup_datetime        0\n",
            "dropoff_datetime       0\n",
            "passenger_count        0\n",
            "trip_time_in_secs      0\n",
            "trip_distance          0\n",
            "pickup_longitude       0\n",
            "pickup_latitude        0\n",
            "dropoff_longitude    146\n",
            "dropoff_latitude     146\n",
            "dtype: int64\n",
            "--- se crea un nuevo conjunto de datos con los errores eliminados si los hay. ---\n",
            "Tiempo de lectura del archivo 82446.66194915771 ms\n",
            "Huella de memoria del archivo: 353.45 Mb\n",
            "Memoria del sistema usada para crear el archivo: 1152.07 Mb\n",
            "Tiempo que tarda pandas en obtener el promedio de Trip_distance: 27.278661727905273 ms\n",
            "-----------------------------------------------------------------------------------------\n",
            "\n",
            "\n",
            "Archivo analizado: trip_data_5.csv\n",
            "El archivo tiene 10 columnas y 15285049 renglones\n",
            "Numero de registros vacios:\n",
            "medallion             0\n",
            "pickup_datetime       0\n",
            "dropoff_datetime      0\n",
            "passenger_count       0\n",
            "trip_time_in_secs     0\n",
            "trip_distance         0\n",
            "pickup_longitude      0\n",
            "pickup_latitude       0\n",
            "dropoff_longitude    39\n",
            "dropoff_latitude     39\n",
            "dtype: int64\n",
            "--- se crea un nuevo conjunto de datos con los errores eliminados si los hay. ---\n",
            "Tiempo de lectura del archivo 90305.15480041504 ms\n",
            "Huella de memoria del archivo: -390.18 Mb\n",
            "Memoria del sistema usada para crear el archivo: 1166.16 Mb\n",
            "Tiempo que tarda pandas en obtener el promedio de Trip_distance: 27.561426162719727 ms\n",
            "-----------------------------------------------------------------------------------------\n",
            "\n",
            "\n",
            "Archivo analizado: trip_data_6.csv\n",
            "El archivo tiene 10 columnas y 14385456 renglones\n",
            "Numero de registros vacios:\n",
            "medallion              0\n",
            "pickup_datetime        0\n",
            "dropoff_datetime       0\n",
            "passenger_count        0\n",
            "trip_time_in_secs      0\n",
            "trip_distance          0\n",
            "pickup_longitude       0\n",
            "pickup_latitude        0\n",
            "dropoff_longitude    338\n",
            "dropoff_latitude     338\n",
            "dtype: int64\n",
            "--- se crea un nuevo conjunto de datos con los errores eliminados si los hay. ---\n",
            "Tiempo de lectura del archivo 83740.93890190125 ms\n",
            "Huella de memoria del archivo: -752.09 Mb\n",
            "Memoria del sistema usada para crear el archivo: 1097.52 Mb\n",
            "Tiempo que tarda pandas en obtener el promedio de Trip_distance: 26.85379981994629 ms\n",
            "-----------------------------------------------------------------------------------------\n",
            "\n",
            "\n",
            "Archivo analizado: trip_data_7.csv\n",
            "El archivo tiene 10 columnas y 13823840 renglones\n",
            "Numero de registros vacios:\n",
            "medallion              0\n",
            "pickup_datetime        0\n",
            "dropoff_datetime       0\n",
            "passenger_count        0\n",
            "trip_time_in_secs      0\n",
            "trip_distance          0\n",
            "pickup_longitude       0\n",
            "pickup_latitude        0\n",
            "dropoff_longitude    698\n",
            "dropoff_latitude     698\n",
            "dtype: int64\n",
            "--- se crea un nuevo conjunto de datos con los errores eliminados si los hay. ---\n",
            "Tiempo de lectura del archivo 70823.13895225525 ms\n",
            "Huella de memoria del archivo: -24.02 Mb\n",
            "Memoria del sistema usada para crear el archivo: 1054.68 Mb\n",
            "Tiempo que tarda pandas en obtener el promedio de Trip_distance: 26.03936195373535 ms\n",
            "-----------------------------------------------------------------------------------------\n",
            "\n",
            "\n",
            "Archivo analizado: trip_data_8.csv\n",
            "El archivo tiene 10 columnas y 12597109 renglones\n",
            "Numero de registros vacios:\n",
            "medallion             0\n",
            "pickup_datetime       0\n",
            "dropoff_datetime      0\n",
            "passenger_count       0\n",
            "trip_time_in_secs     0\n",
            "trip_distance         0\n",
            "pickup_longitude      0\n",
            "pickup_latitude       0\n",
            "dropoff_longitude    45\n",
            "dropoff_latitude     45\n",
            "dtype: int64\n",
            "--- se crea un nuevo conjunto de datos con los errores eliminados si los hay. ---\n",
            "Tiempo de lectura del archivo 71573.18615913391 ms\n",
            "Huella de memoria del archivo: 526.72 Mb\n",
            "Memoria del sistema usada para crear el archivo: 961.08 Mb\n",
            "Tiempo que tarda pandas en obtener el promedio de Trip_distance: 22.482872009277344 ms\n",
            "-----------------------------------------------------------------------------------------\n",
            "\n",
            "\n",
            "Archivo analizado: trip_data_9.csv\n",
            "El archivo tiene 10 columnas y 14107693 renglones\n",
            "Numero de registros vacios:\n",
            "medallion             0\n",
            "pickup_datetime       0\n",
            "dropoff_datetime      0\n",
            "passenger_count       0\n",
            "trip_time_in_secs     0\n",
            "trip_distance         0\n",
            "pickup_longitude      0\n",
            "pickup_latitude       0\n",
            "dropoff_longitude    78\n",
            "dropoff_latitude     78\n",
            "dtype: int64\n",
            "--- se crea un nuevo conjunto de datos con los errores eliminados si los hay. ---\n",
            "Tiempo de lectura del archivo 81302.13570594788 ms\n",
            "Huella de memoria del archivo: -222.30 Mb\n",
            "Memoria del sistema usada para crear el archivo: 1076.33 Mb\n",
            "Tiempo que tarda pandas en obtener el promedio de Trip_distance: 25.115966796875 ms\n",
            "-----------------------------------------------------------------------------------------\n",
            "\n",
            "\n",
            "Archivo analizado: trip_data_10.csv\n",
            "El archivo tiene 10 columnas y 15004556 renglones\n",
            "Numero de registros vacios:\n",
            "medallion              0\n",
            "pickup_datetime        0\n",
            "dropoff_datetime       0\n",
            "passenger_count        0\n",
            "trip_time_in_secs      0\n",
            "trip_distance          0\n",
            "pickup_longitude       0\n",
            "pickup_latitude        0\n",
            "dropoff_longitude    736\n",
            "dropoff_latitude     736\n",
            "dtype: int64\n",
            "--- se crea un nuevo conjunto de datos con los errores eliminados si los hay. ---\n",
            "Tiempo de lectura del archivo 87366.45674705505 ms\n",
            "Huella de memoria del archivo: 614.67 Mb\n",
            "Memoria del sistema usada para crear el archivo: 1144.76 Mb\n",
            "Tiempo que tarda pandas en obtener el promedio de Trip_distance: 27.904510498046875 ms\n",
            "-----------------------------------------------------------------------------------------\n",
            "\n",
            "\n",
            "Archivo analizado: trip_data_11.csv\n",
            "El archivo tiene 10 columnas y 14388451 renglones\n",
            "Numero de registros vacios:\n",
            "medallion              0\n",
            "pickup_datetime        0\n",
            "dropoff_datetime       0\n",
            "passenger_count        0\n",
            "trip_time_in_secs      0\n",
            "trip_distance          0\n",
            "pickup_longitude       0\n",
            "pickup_latitude        0\n",
            "dropoff_longitude    754\n",
            "dropoff_latitude     754\n",
            "dtype: int64\n",
            "--- se crea un nuevo conjunto de datos con los errores eliminados si los hay. ---\n",
            "Tiempo de lectura del archivo 131133.65149497986 ms\n",
            "Huella de memoria del archivo: 127.64 Mb\n",
            "Memoria del sistema usada para crear el archivo: 1097.75 Mb\n",
            "Tiempo que tarda pandas en obtener el promedio de Trip_distance: 26.483774185180664 ms\n",
            "-----------------------------------------------------------------------------------------\n",
            "\n",
            "\n",
            "Archivo analizado: trip_data_12.csv\n",
            "El archivo tiene 10 columnas y 13971118 renglones\n",
            "Numero de registros vacios:\n",
            "medallion              0\n",
            "pickup_datetime        0\n",
            "dropoff_datetime       0\n",
            "passenger_count        0\n",
            "trip_time_in_secs      0\n",
            "trip_distance          0\n",
            "pickup_longitude       0\n",
            "pickup_latitude        0\n",
            "dropoff_longitude    112\n",
            "dropoff_latitude     112\n",
            "dtype: int64\n",
            "--- se crea un nuevo conjunto de datos con los errores eliminados si los hay. ---\n",
            "Tiempo de lectura del archivo 138747.97701835632 ms\n",
            "Huella de memoria del archivo: 1411.22 Mb\n",
            "Memoria del sistema usada para crear el archivo: 1065.91 Mb\n",
            "Tiempo que tarda pandas en obtener el promedio de Trip_distance: 25.92182159423828 ms\n",
            "-----------------------------------------------------------------------------------------\n"
          ],
          "name": "stdout"
        }
      ]
    },
    {
      "cell_type": "code",
      "metadata": {
        "id": "73XTxJp4WYM_",
        "colab_type": "code",
        "colab": {}
      },
      "source": [
        "df.columns"
      ],
      "execution_count": 0,
      "outputs": []
    },
    {
      "cell_type": "code",
      "metadata": {
        "id": "Z8TIWCR0g2_C",
        "colab_type": "code",
        "colab": {}
      },
      "source": [
        "a = huella_de_memoria()\n",
        "print('huella de memoria ',a,' mb')"
      ],
      "execution_count": 0,
      "outputs": []
    },
    {
      "cell_type": "code",
      "metadata": {
        "id": "V2xSW1sHfeen",
        "colab_type": "code",
        "colab": {}
      },
      "source": [
        "t_start = time.time()\n",
        "antesH = huella_de_memoria()\n",
        "df = pd.read_csv('trip_data_1.csv')\n",
        "t_end = time.time()\n",
        "despuesH = huella_de_memoria()\n",
        "print('memoria al final del proceso', (despuesH-antesH))\n",
        "print('pd.read_csv(): {} s'.format(t_end-t_start)) # time [s]"
      ],
      "execution_count": 0,
      "outputs": []
    },
    {
      "cell_type": "code",
      "metadata": {
        "id": "GQcXMM_W7ZmE",
        "colab_type": "code",
        "colab": {}
      },
      "source": [
        "b = huella_de_memoria()\n",
        "print('huella de memoria ',b,' mb')"
      ],
      "execution_count": 0,
      "outputs": []
    },
    {
      "cell_type": "markdown",
      "metadata": {
        "id": "Esw-Ll_1jgbu",
        "colab_type": "text"
      },
      "source": [
        "LA cantidad usada para la contruccion del objeto es de 4964.09 gb"
      ]
    },
    {
      "cell_type": "markdown",
      "metadata": {
        "id": "SHaU7pag-FOa",
        "colab_type": "text"
      },
      "source": [
        "Responder las siguientes preguntas:\n",
        "\n",
        "Cuantas columnas contiene cada archivo de datos descomprimido\n",
        "\n",
        "Cuantos renglones tiene cada archivo"
      ]
    },
    {
      "cell_type": "code",
      "metadata": {
        "id": "ylQ-EuTMi1Pz",
        "colab_type": "code",
        "colab": {}
      },
      "source": [
        "df.columns"
      ],
      "execution_count": 0,
      "outputs": []
    },
    {
      "cell_type": "code",
      "metadata": {
        "id": "YehxgXv8m2q1",
        "colab_type": "code",
        "outputId": "a567a001-6875-4ceb-b367-2869a36d3f92",
        "colab": {
          "base_uri": "https://localhost:8080/",
          "height": 34
        }
      },
      "source": [
        "df.shape"
      ],
      "execution_count": 0,
      "outputs": [
        {
          "output_type": "execute_result",
          "data": {
            "text/plain": [
              "(14776615, 14)"
            ]
          },
          "metadata": {
            "tags": []
          },
          "execution_count": 15
        }
      ]
    },
    {
      "cell_type": "markdown",
      "metadata": {
        "id": "n-PLpDVE-Kgh",
        "colab_type": "text"
      },
      "source": [
        "Identificar si existen renglones con errores en los datos, por ejemplo si hay columnas de mas (o de menos), si hay campos vacios, etc. Si se detectan renglones con errores:\n",
        "\n",
        "indicar claramente cuantos son los renglones con errores y a que archivos corresponden\n",
        "\n",
        "crear un nuevo conjunto de datos con los errores eliminados"
      ]
    },
    {
      "cell_type": "code",
      "metadata": {
        "id": "2zryKvUMo5u4",
        "colab_type": "code",
        "outputId": "3a35d21a-a428-4235-ce3a-eb18887f21c5",
        "colab": {
          "base_uri": "https://localhost:8080/",
          "height": 202
        }
      },
      "source": [
        "df['passenger_count'].value_counts()"
      ],
      "execution_count": 0,
      "outputs": [
        {
          "output_type": "execute_result",
          "data": {
            "text/plain": [
              "1      10471701\n",
              "2       1986196\n",
              "5        920006\n",
              "3        597485\n",
              "6        520066\n",
              "4        280992\n",
              "0           166\n",
              "255           1\n",
              "208           1\n",
              "9             1\n",
              "Name: passenger_count, dtype: int64"
            ]
          },
          "metadata": {
            "tags": []
          },
          "execution_count": 16
        }
      ]
    },
    {
      "cell_type": "code",
      "metadata": {
        "id": "uVw5aXUyq3Et",
        "colab_type": "code",
        "outputId": "b1322976-a2ec-457d-9ac1-e631d1e7b160",
        "colab": {
          "base_uri": "https://localhost:8080/",
          "height": 269
        }
      },
      "source": [
        "#Aportacion de samuel\n",
        "df.isnull().sum()"
      ],
      "execution_count": 0,
      "outputs": [
        {
          "output_type": "execute_result",
          "data": {
            "text/plain": [
              "medallion                   0\n",
              "hack_license                0\n",
              "vendor_id                   0\n",
              "rate_code                   0\n",
              "store_and_fwd_flag    7326207\n",
              "pickup_datetime             0\n",
              "dropoff_datetime            0\n",
              "passenger_count             0\n",
              "trip_time_in_secs           0\n",
              "trip_distance               0\n",
              "pickup_longitude            0\n",
              "pickup_latitude             0\n",
              "dropoff_longitude          86\n",
              "dropoff_latitude           86\n",
              "dtype: int64"
            ]
          },
          "metadata": {
            "tags": []
          },
          "execution_count": 20
        }
      ]
    },
    {
      "cell_type": "code",
      "metadata": {
        "id": "yVaeMk-Ur9am",
        "colab_type": "code",
        "outputId": "7517834a-b656-461b-f540-70da977338a6",
        "colab": {
          "base_uri": "https://localhost:8080/",
          "height": 269
        }
      },
      "source": [
        "#aportacion de samuel\n",
        "df.isna().sum()"
      ],
      "execution_count": 0,
      "outputs": [
        {
          "output_type": "execute_result",
          "data": {
            "text/plain": [
              "medallion                   0\n",
              "hack_license                0\n",
              "vendor_id                   0\n",
              "rate_code                   0\n",
              "store_and_fwd_flag    7326207\n",
              "pickup_datetime             0\n",
              "dropoff_datetime            0\n",
              "passenger_count             0\n",
              "trip_time_in_secs           0\n",
              "trip_distance               0\n",
              "pickup_longitude            0\n",
              "pickup_latitude             0\n",
              "dropoff_longitude          86\n",
              "dropoff_latitude           86\n",
              "dtype: int64"
            ]
          },
          "metadata": {
            "tags": []
          },
          "execution_count": 21
        }
      ]
    },
    {
      "cell_type": "code",
      "metadata": {
        "id": "5CWXUlpsp9sV",
        "colab_type": "code",
        "colab": {}
      },
      "source": [
        "#aportacion de samuel\n",
        "df=df.dropna(subset=['dropoff_longitude','dropoff_latitude'], how='all')"
      ],
      "execution_count": 0,
      "outputs": []
    },
    {
      "cell_type": "code",
      "metadata": {
        "id": "zz5LUZvOT86C",
        "colab_type": "code",
        "colab": {}
      },
      "source": [
        "df = df.drop(df[df.passenger_count > 9].index)"
      ],
      "execution_count": 0,
      "outputs": []
    },
    {
      "cell_type": "code",
      "metadata": {
        "id": "dpKeqMa0wNvA",
        "colab_type": "code",
        "outputId": "03d858ad-1c63-4a9f-d52a-c9b3efabd9a2",
        "colab": {
          "base_uri": "https://localhost:8080/",
          "height": 34
        }
      },
      "source": [
        "df.shape"
      ],
      "execution_count": 0,
      "outputs": [
        {
          "output_type": "execute_result",
          "data": {
            "text/plain": [
              "(14776527, 14)"
            ]
          },
          "metadata": {
            "tags": []
          },
          "execution_count": 24
        }
      ]
    },
    {
      "cell_type": "code",
      "metadata": {
        "id": "-sKvMns0xp4Q",
        "colab_type": "code",
        "colab": {}
      },
      "source": [
        "#aportacion de Lorrain\n",
        "del df['store_and_fwd_flag']"
      ],
      "execution_count": 0,
      "outputs": []
    },
    {
      "cell_type": "code",
      "metadata": {
        "id": "fQ_JzdMIxxrY",
        "colab_type": "code",
        "outputId": "303fcefb-eeb3-4a31-f5dd-49bf1ca9b90c",
        "colab": {
          "base_uri": "https://localhost:8080/",
          "height": 101
        }
      },
      "source": [
        "df.columns"
      ],
      "execution_count": 0,
      "outputs": [
        {
          "output_type": "execute_result",
          "data": {
            "text/plain": [
              "Index(['medallion', 'hack_license', 'vendor_id', 'rate_code',\n",
              "       'pickup_datetime', 'dropoff_datetime', 'passenger_count',\n",
              "       'trip_time_in_secs', 'trip_distance', 'pickup_longitude',\n",
              "       'pickup_latitude', 'dropoff_longitude', 'dropoff_latitude'],\n",
              "      dtype='object')"
            ]
          },
          "metadata": {
            "tags": []
          },
          "execution_count": 26
        }
      ]
    },
    {
      "cell_type": "markdown",
      "metadata": {
        "id": "FaoQOj6z-Sm3",
        "colab_type": "text"
      },
      "source": [
        "Indicar el tiempo que tarda pandas en obtener el promedio de la distancia de viaje (trip_distance)"
      ]
    },
    {
      "cell_type": "code",
      "metadata": {
        "id": "MuopT6xxz6_P",
        "colab_type": "code",
        "outputId": "5b2e1c07-7744-4dd3-98ae-7ac82ad27746",
        "colab": {
          "base_uri": "https://localhost:8080/",
          "height": 67
        }
      },
      "source": [
        "%%time\n",
        "df['trip_distance'].mean()"
      ],
      "execution_count": 0,
      "outputs": [
        {
          "output_type": "stream",
          "text": [
            "CPU times: user 28.4 ms, sys: 0 ns, total: 28.4 ms\n",
            "Wall time: 30.8 ms\n"
          ],
          "name": "stdout"
        },
        {
          "output_type": "execute_result",
          "data": {
            "text/plain": [
              "2.7709920578769722"
            ]
          },
          "metadata": {
            "tags": []
          },
          "execution_count": 27
        }
      ]
    },
    {
      "cell_type": "code",
      "metadata": {
        "id": "qZ4EUHbP18at",
        "colab_type": "code",
        "colab": {}
      },
      "source": [
        "#aportacion Alexis & Samuel\n",
        "promedio= df['trip_distance']!=0"
      ],
      "execution_count": 0,
      "outputs": []
    },
    {
      "cell_type": "code",
      "metadata": {
        "id": "A58MGgUC2CO5",
        "colab_type": "code",
        "outputId": "e9aedf25-959b-4fc8-cec7-430a7a10435b",
        "colab": {
          "base_uri": "https://localhost:8080/",
          "height": 67
        }
      },
      "source": [
        "%%time\n",
        "promedio.mean()"
      ],
      "execution_count": 0,
      "outputs": [
        {
          "output_type": "stream",
          "text": [
            "CPU times: user 28.4 ms, sys: 1.04 ms, total: 29.4 ms\n",
            "Wall time: 31 ms\n"
          ],
          "name": "stdout"
        },
        {
          "output_type": "execute_result",
          "data": {
            "text/plain": [
              "0.994363425181032"
            ]
          },
          "metadata": {
            "tags": []
          },
          "execution_count": 29
        }
      ]
    },
    {
      "cell_type": "markdown",
      "metadata": {
        "id": "W0dxJv6kAnwE",
        "colab_type": "text"
      },
      "source": [
        "#punto 6\n",
        "\n",
        "Todos los pasos siguientes deben realizarse usando la libreria dask\n",
        "\n",
        "Indicar el tiempo que tarda en obtener el promedio de la distancia de viaje (trip_distance)\n",
        "\n",
        "R:  CPU times: user 52.6 s, sys: 4.18 s, total: 56.8 s\n",
        "Wall time: 50.2 s\n",
        "\n",
        "Indicar el tiempo que tarda en obtener el promedio de la duracion de viaje (trip_time_in_secs)\n",
        "\n",
        "R: CPU times: user 53.6 s, sys: 3.8 s, total: 57.4 s\n",
        "Wall time: 38.8 s\n",
        "\n",
        "Con las columnas pickup_datetime y dropoff_datetime como objetos temporales, crear una nueva columna en los dataframes que se llame duracion y compararla renglon a renglon con la columna trip_time_in_secs\n",
        "\n",
        "Definir un viaje_largo como aquellos en los que la duracion del viaje (trip_time_in_secs) sea mayor a 20 minutos."
      ]
    },
    {
      "cell_type": "code",
      "metadata": {
        "id": "DTdCkCnqAxNa",
        "colab_type": "code",
        "colab": {}
      },
      "source": [
        "import dask.dataframe as da"
      ],
      "execution_count": 0,
      "outputs": []
    },
    {
      "cell_type": "code",
      "metadata": {
        "id": "rn9jQREMCG20",
        "colab_type": "code",
        "colab": {}
      },
      "source": [
        "dd = da.read_csv('nuevo_trip_data_1.csv')"
      ],
      "execution_count": 0,
      "outputs": []
    },
    {
      "cell_type": "code",
      "metadata": {
        "id": "WePrjky2Ds8h",
        "colab_type": "code",
        "outputId": "63b7ba0f-4544-469f-b1f5-988e1f51c2e7",
        "colab": {
          "base_uri": "https://localhost:8080/",
          "height": 67
        }
      },
      "source": [
        "%%time\n",
        "dd['trip_distance'].mean().compute()"
      ],
      "execution_count": 0,
      "outputs": [
        {
          "output_type": "stream",
          "text": [
            "CPU times: user 52.6 s, sys: 4.18 s, total: 56.8 s\n",
            "Wall time: 50.2 s\n"
          ],
          "name": "stdout"
        },
        {
          "output_type": "execute_result",
          "data": {
            "text/plain": [
              "2.7709759306818147"
            ]
          },
          "metadata": {
            "tags": []
          },
          "execution_count": 8
        }
      ]
    },
    {
      "cell_type": "code",
      "metadata": {
        "id": "qyInudk4CHAi",
        "colab_type": "code",
        "outputId": "68d92c99-4c9e-42a9-fd6d-c5da9d3ea12a",
        "colab": {
          "base_uri": "https://localhost:8080/",
          "height": 50
        }
      },
      "source": [
        "%%time\n",
        "promediodask= dd['trip_distance']!=0"
      ],
      "execution_count": 0,
      "outputs": [
        {
          "output_type": "stream",
          "text": [
            "CPU times: user 1.87 ms, sys: 0 ns, total: 1.87 ms\n",
            "Wall time: 1.88 ms\n"
          ],
          "name": "stdout"
        }
      ]
    },
    {
      "cell_type": "code",
      "metadata": {
        "id": "zlg8h04FCHFl",
        "colab_type": "code",
        "outputId": "80582815-4770-4808-f7b0-a73e1a3421f5",
        "colab": {
          "base_uri": "https://localhost:8080/",
          "height": 67
        }
      },
      "source": [
        "%%time\n",
        "promediodask.mean().compute()"
      ],
      "execution_count": 0,
      "outputs": [
        {
          "output_type": "stream",
          "text": [
            "CPU times: user 1min 1s, sys: 7.72 s, total: 1min 9s\n",
            "Wall time: 48.3 s\n"
          ],
          "name": "stdout"
        },
        {
          "output_type": "execute_result",
          "data": {
            "text/plain": [
              "0.994357571067528"
            ]
          },
          "metadata": {
            "tags": []
          },
          "execution_count": 34
        }
      ]
    },
    {
      "cell_type": "code",
      "metadata": {
        "id": "03UcyE0xFThT",
        "colab_type": "code",
        "outputId": "aa9bf448-0f2b-499f-b665-58387988f429",
        "colab": {
          "base_uri": "https://localhost:8080/",
          "height": 67
        }
      },
      "source": [
        "%%time\n",
        "dd['trip_time_in_secs'].mean().compute()"
      ],
      "execution_count": 0,
      "outputs": [
        {
          "output_type": "stream",
          "text": [
            "CPU times: user 53.6 s, sys: 3.8 s, total: 57.4 s\n",
            "Wall time: 38.8 s\n"
          ],
          "name": "stdout"
        },
        {
          "output_type": "execute_result",
          "data": {
            "text/plain": [
              "683.4236490459621"
            ]
          },
          "metadata": {
            "tags": []
          },
          "execution_count": 9
        }
      ]
    },
    {
      "cell_type": "code",
      "metadata": {
        "id": "hnSWKOK0GdHY",
        "colab_type": "code",
        "colab": {}
      },
      "source": [
        "promediodasktiempo= dd['trip_time_in_secs']!=0"
      ],
      "execution_count": 0,
      "outputs": []
    },
    {
      "cell_type": "code",
      "metadata": {
        "id": "C8_vNaQnFTpg",
        "colab_type": "code",
        "outputId": "ab8b77a2-855c-44da-b21a-bf8cfcca493e",
        "colab": {
          "base_uri": "https://localhost:8080/",
          "height": 67
        }
      },
      "source": [
        "%%time\n",
        "promediodasktiempo.mean().compute()"
      ],
      "execution_count": 0,
      "outputs": [
        {
          "output_type": "stream",
          "text": [
            "CPU times: user 1min, sys: 7.84 s, total: 1min 8s\n",
            "Wall time: 48 s\n"
          ],
          "name": "stdout"
        },
        {
          "output_type": "execute_result",
          "data": {
            "text/plain": [
              "0.9976865472911083"
            ]
          },
          "metadata": {
            "tags": []
          },
          "execution_count": 37
        }
      ]
    },
    {
      "cell_type": "markdown",
      "metadata": {
        "id": "Sb--dGtMIWlo",
        "colab_type": "text"
      },
      "source": [
        "df['tip_fraction']= df['tip_amount']/(df['total_amount']-df['tip_amount'])\n",
        "\n",
        "df['tpep_dropoff_datetime']= pd.to_datetime(df['tpep_dropoff_datetime'])"
      ]
    },
    {
      "cell_type": "code",
      "metadata": {
        "id": "aiHlxUCRNZAh",
        "colab_type": "code",
        "colab": {}
      },
      "source": [
        "dd['pickup_datetime']=da.to_datetime(dd['pickup_datetime'])"
      ],
      "execution_count": 0,
      "outputs": []
    },
    {
      "cell_type": "code",
      "metadata": {
        "id": "mseKN7QqNkGz",
        "colab_type": "code",
        "colab": {}
      },
      "source": [
        "dd['dropoff_datetime']=da.to_datetime(dd['dropoff_datetime'])"
      ],
      "execution_count": 0,
      "outputs": []
    },
    {
      "cell_type": "code",
      "metadata": {
        "id": "XSaI3pMtSski",
        "colab_type": "code",
        "colab": {}
      },
      "source": [
        "#viajes = da.from_pandas((df['dropoff_datetime']-df['pickup_datetime']), npartitions=1)"
      ],
      "execution_count": 0,
      "outputs": []
    },
    {
      "cell_type": "code",
      "metadata": {
        "id": "YMDbBA1QgfnQ",
        "colab_type": "code",
        "colab": {}
      },
      "source": [
        "dd['viajes']=dd['dropoff_datetime']-dd['pickup_datetime']"
      ],
      "execution_count": 0,
      "outputs": []
    },
    {
      "cell_type": "code",
      "metadata": {
        "id": "KON2sBajUcZm",
        "colab_type": "code",
        "outputId": "cbe2dba6-9b9c-4129-ddf5-1c671fc2b506",
        "colab": {
          "base_uri": "https://localhost:8080/",
          "height": 101
        }
      },
      "source": [
        "dd.columns"
      ],
      "execution_count": 0,
      "outputs": [
        {
          "output_type": "execute_result",
          "data": {
            "text/plain": [
              "Index(['Unnamed: 0', 'medallion', 'pickup_datetime', 'dropoff_datetime',\n",
              "       'passenger_count', 'trip_time_in_secs', 'trip_distance',\n",
              "       'pickup_longitude', 'pickup_latitude', 'dropoff_longitude',\n",
              "       'dropoff_latitude', 'viajesLargos', 'viajes'],\n",
              "      dtype='object')"
            ]
          },
          "metadata": {
            "tags": []
          },
          "execution_count": 36
        }
      ]
    },
    {
      "cell_type": "code",
      "metadata": {
        "id": "K2k5uIRKGZ73",
        "colab_type": "code",
        "outputId": "b6797754-5de6-411f-ffcb-023d2b6503f6",
        "colab": {
          "base_uri": "https://localhost:8080/",
          "height": 316
        }
      },
      "source": [
        "dd.head()"
      ],
      "execution_count": 0,
      "outputs": [
        {
          "output_type": "execute_result",
          "data": {
            "text/html": [
              "<div>\n",
              "<style scoped>\n",
              "    .dataframe tbody tr th:only-of-type {\n",
              "        vertical-align: middle;\n",
              "    }\n",
              "\n",
              "    .dataframe tbody tr th {\n",
              "        vertical-align: top;\n",
              "    }\n",
              "\n",
              "    .dataframe thead th {\n",
              "        text-align: right;\n",
              "    }\n",
              "</style>\n",
              "<table border=\"1\" class=\"dataframe\">\n",
              "  <thead>\n",
              "    <tr style=\"text-align: right;\">\n",
              "      <th></th>\n",
              "      <th>Unnamed: 0</th>\n",
              "      <th>medallion</th>\n",
              "      <th>pickup_datetime</th>\n",
              "      <th>dropoff_datetime</th>\n",
              "      <th>passenger_count</th>\n",
              "      <th>trip_time_in_secs</th>\n",
              "      <th>trip_distance</th>\n",
              "      <th>pickup_longitude</th>\n",
              "      <th>pickup_latitude</th>\n",
              "      <th>dropoff_longitude</th>\n",
              "      <th>dropoff_latitude</th>\n",
              "      <th>viajesLargos</th>\n",
              "      <th>viajes</th>\n",
              "    </tr>\n",
              "  </thead>\n",
              "  <tbody>\n",
              "    <tr>\n",
              "      <th>0</th>\n",
              "      <td>0</td>\n",
              "      <td>D7D598CD99978BD012A87A76A7C891B7</td>\n",
              "      <td>2013-12-01 00:13:00</td>\n",
              "      <td>2013-12-01 00:31:00</td>\n",
              "      <td>1</td>\n",
              "      <td>1080</td>\n",
              "      <td>3.90</td>\n",
              "      <td>-73.979340</td>\n",
              "      <td>40.776653</td>\n",
              "      <td>-73.981865</td>\n",
              "      <td>40.734280</td>\n",
              "      <td>n</td>\n",
              "      <td>00:18:00</td>\n",
              "    </tr>\n",
              "    <tr>\n",
              "      <th>1</th>\n",
              "      <td>1</td>\n",
              "      <td>5455D5FF2BD94D10B304A15D4B7F2735</td>\n",
              "      <td>2013-12-01 00:40:00</td>\n",
              "      <td>2013-12-01 00:48:00</td>\n",
              "      <td>6</td>\n",
              "      <td>480</td>\n",
              "      <td>3.20</td>\n",
              "      <td>-73.939674</td>\n",
              "      <td>40.726154</td>\n",
              "      <td>-73.985580</td>\n",
              "      <td>40.718075</td>\n",
              "      <td>n</td>\n",
              "      <td>00:08:00</td>\n",
              "    </tr>\n",
              "    <tr>\n",
              "      <th>2</th>\n",
              "      <td>2</td>\n",
              "      <td>93D6821F86A12B537C5EADBDFB432CA7</td>\n",
              "      <td>2013-12-01 02:21:00</td>\n",
              "      <td>2013-12-01 02:30:00</td>\n",
              "      <td>5</td>\n",
              "      <td>540</td>\n",
              "      <td>3.28</td>\n",
              "      <td>-73.958755</td>\n",
              "      <td>40.768078</td>\n",
              "      <td>-73.958755</td>\n",
              "      <td>40.768078</td>\n",
              "      <td>n</td>\n",
              "      <td>00:09:00</td>\n",
              "    </tr>\n",
              "    <tr>\n",
              "      <th>3</th>\n",
              "      <td>3</td>\n",
              "      <td>0C107B532C1207A74F0D8609B9E092FF</td>\n",
              "      <td>2013-12-01 02:14:00</td>\n",
              "      <td>2013-12-01 02:22:00</td>\n",
              "      <td>1</td>\n",
              "      <td>480</td>\n",
              "      <td>1.84</td>\n",
              "      <td>-73.978836</td>\n",
              "      <td>40.724194</td>\n",
              "      <td>-73.979736</td>\n",
              "      <td>40.743412</td>\n",
              "      <td>n</td>\n",
              "      <td>00:08:00</td>\n",
              "    </tr>\n",
              "    <tr>\n",
              "      <th>4</th>\n",
              "      <td>4</td>\n",
              "      <td>801C69A08B51470871A8110F8B0505EE</td>\n",
              "      <td>2013-12-01 04:45:00</td>\n",
              "      <td>2013-12-01 04:50:00</td>\n",
              "      <td>1</td>\n",
              "      <td>300</td>\n",
              "      <td>1.02</td>\n",
              "      <td>-73.991364</td>\n",
              "      <td>40.735073</td>\n",
              "      <td>-73.978943</td>\n",
              "      <td>40.734600</td>\n",
              "      <td>n</td>\n",
              "      <td>00:05:00</td>\n",
              "    </tr>\n",
              "  </tbody>\n",
              "</table>\n",
              "</div>"
            ],
            "text/plain": [
              "   Unnamed: 0                         medallion  ... viajesLargos   viajes\n",
              "0           0  D7D598CD99978BD012A87A76A7C891B7  ...            n 00:18:00\n",
              "1           1  5455D5FF2BD94D10B304A15D4B7F2735  ...            n 00:08:00\n",
              "2           2  93D6821F86A12B537C5EADBDFB432CA7  ...            n 00:09:00\n",
              "3           3  0C107B532C1207A74F0D8609B9E092FF  ...            n 00:08:00\n",
              "4           4  801C69A08B51470871A8110F8B0505EE  ...            n 00:05:00\n",
              "\n",
              "[5 rows x 13 columns]"
            ]
          },
          "metadata": {
            "tags": []
          },
          "execution_count": 37
        }
      ]
    },
    {
      "cell_type": "code",
      "metadata": {
        "id": "YhFKVGybZ600",
        "colab_type": "code",
        "colab": {}
      },
      "source": [
        "dd['viajesLargos']=dd['trip_time_in_secs']"
      ],
      "execution_count": 0,
      "outputs": []
    },
    {
      "cell_type": "code",
      "metadata": {
        "id": "UTt__z-n5bRY",
        "colab_type": "code",
        "colab": {}
      },
      "source": [
        "dd['viajesLargos']=dd.viajesLargos.map(lambda viajesLargos: 'y' if viajesLargos>1200 else 'n')"
      ],
      "execution_count": 0,
      "outputs": []
    },
    {
      "cell_type": "code",
      "metadata": {
        "id": "fMNeBCrx5y74",
        "colab_type": "code",
        "outputId": "fb6f84af-eb94-406b-f058-4991fc904054",
        "colab": {
          "base_uri": "https://localhost:8080/",
          "height": 101
        }
      },
      "source": [
        "dd.columns"
      ],
      "execution_count": 0,
      "outputs": [
        {
          "output_type": "execute_result",
          "data": {
            "text/plain": [
              "Index(['Unnamed: 0', 'medallion', 'pickup_datetime', 'dropoff_datetime',\n",
              "       'passenger_count', 'trip_time_in_secs', 'trip_distance',\n",
              "       'pickup_longitude', 'pickup_latitude', 'dropoff_longitude',\n",
              "       'dropoff_latitude', 'viajes', 'viajesLargos'],\n",
              "      dtype='object')"
            ]
          },
          "metadata": {
            "tags": []
          },
          "execution_count": 18
        }
      ]
    },
    {
      "cell_type": "code",
      "metadata": {
        "id": "U2CCM7Yf51w8",
        "colab_type": "code",
        "colab": {}
      },
      "source": [
        "dd.compute()"
      ],
      "execution_count": 0,
      "outputs": []
    },
    {
      "cell_type": "code",
      "metadata": {
        "id": "ioqg-aFW6TlI",
        "colab_type": "code",
        "outputId": "4a430f12-13d7-499f-b670-f3204c727316",
        "colab": {
          "base_uri": "https://localhost:8080/",
          "height": 67
        }
      },
      "source": [
        "dd['viajesLargos'].value_counts().compute()"
      ],
      "execution_count": 0,
      "outputs": [
        {
          "output_type": "execute_result",
          "data": {
            "text/plain": [
              "n    13061376\n",
              "y     1715237\n",
              "Name: viajesLargos, dtype: int64"
            ]
          },
          "metadata": {
            "tags": []
          },
          "execution_count": 23
        }
      ]
    },
    {
      "cell_type": "markdown",
      "metadata": {
        "id": "jd7eV6QX3KpV",
        "colab_type": "text"
      },
      "source": [
        "#Punto 7\n",
        "Contar el numero de viajes largos en cada archivo"
      ]
    },
    {
      "cell_type": "code",
      "metadata": {
        "id": "Fh_nGSZkJuga",
        "colab_type": "code",
        "colab": {}
      },
      "source": [
        "archivos = 'nuevo_trip_data_{:d}.csv'\n",
        "plantilla = [archivos.format(i) for i in range(1, 13)]"
      ],
      "execution_count": 0,
      "outputs": []
    },
    {
      "cell_type": "code",
      "metadata": {
        "id": "ilot-ExBJ-xU",
        "colab_type": "code",
        "colab": {}
      },
      "source": [
        "listaViajesLargos=[]"
      ],
      "execution_count": 0,
      "outputs": []
    },
    {
      "cell_type": "code",
      "metadata": {
        "id": "ZR5QLxBoJzQR",
        "colab_type": "code",
        "colab": {}
      },
      "source": [
        "for archivo in plantilla:\n",
        "  dd=da.read_csv(archivo)\n",
        "  dd['viajesLargos']=dd['trip_time_in_secs']\n",
        "  dd['viajesLargos']=dd.viajesLargos.map(lambda viajesLargos: 'y' if viajesLargos>1200 else 'n')\n",
        "  listaViajesLargos.append(dd['viajesLargos'].value_counts().compute())"
      ],
      "execution_count": 0,
      "outputs": []
    },
    {
      "cell_type": "code",
      "metadata": {
        "id": "Sdtfl3q8Kx3T",
        "colab_type": "code",
        "outputId": "0045bca1-44c9-4a1b-d01c-149651fdc562",
        "colab": {
          "base_uri": "https://localhost:8080/",
          "height": 218
        }
      },
      "source": [
        "for i in range(len(listaViajesLargos)):\n",
        "  print('nuevo_trip_data_',i+1,' # de viajes largos: ',listaViajesLargos[i].y)"
      ],
      "execution_count": 0,
      "outputs": [
        {
          "output_type": "stream",
          "text": [
            "nuevo_trip_data_ 1  # de viajes largos:  1715237\n",
            "nuevo_trip_data_ 2  # de viajes largos:  1768887\n",
            "nuevo_trip_data_ 3  # de viajes largos:  2111850\n",
            "nuevo_trip_data_ 4  # de viajes largos:  2264701\n",
            "nuevo_trip_data_ 5  # de viajes largos:  2552684\n",
            "nuevo_trip_data_ 6  # de viajes largos:  2400513\n",
            "nuevo_trip_data_ 7  # de viajes largos:  2084036\n",
            "nuevo_trip_data_ 8  # de viajes largos:  1919857\n",
            "nuevo_trip_data_ 9  # de viajes largos:  2417638\n",
            "nuevo_trip_data_ 10  # de viajes largos:  2545155\n",
            "nuevo_trip_data_ 11  # de viajes largos:  2373698\n",
            "nuevo_trip_data_ 12  # de viajes largos:  2428514\n"
          ],
          "name": "stdout"
        }
      ]
    },
    {
      "cell_type": "markdown",
      "metadata": {
        "id": "3rG95BrN3UMq",
        "colab_type": "text"
      },
      "source": [
        "#Punto 8\n",
        "De los viajes largos, identificar el numero de taxis diferentes (la columna medallion contiene un numeroque identificada a cada uno de los vehiculos). Que vehiculos son los que mas viajes realizan en cada mes? Son el mismo vehiculo?\n",
        "\n",
        "R: el taxi que mas se repite es 20BA941F62CC07F1FA3EF3E122B1E9B2 pero no siempre es asi"
      ]
    },
    {
      "cell_type": "code",
      "metadata": {
        "id": "46bv05qfQd90",
        "colab_type": "code",
        "colab": {}
      },
      "source": [
        "listaMejoresTaxis=[]"
      ],
      "execution_count": 0,
      "outputs": []
    },
    {
      "cell_type": "code",
      "metadata": {
        "id": "qghhpmntQXDm",
        "colab_type": "code",
        "colab": {}
      },
      "source": [
        "for archivo in plantilla:\n",
        "  dd=da.read_csv(archivo)\n",
        "  tm=dd['medallion'].value_counts().compute()\n",
        "  listaMejoresTaxis.append(tm.index[0])\n",
        "  dd=''\n",
        "  tm=''"
      ],
      "execution_count": 0,
      "outputs": []
    },
    {
      "cell_type": "code",
      "metadata": {
        "id": "RyPp35SlSRlk",
        "colab_type": "code",
        "outputId": "71cde213-94ed-499f-f6d1-bce2c3cb5c49",
        "colab": {
          "base_uri": "https://localhost:8080/",
          "height": 218
        }
      },
      "source": [
        "for i in range(len(listaMejoresTaxis)):\n",
        "  print('nuevo_trip_data_',i+1,' id del mejor taxis: ',listaMejoresTaxis[i])"
      ],
      "execution_count": 0,
      "outputs": [
        {
          "output_type": "stream",
          "text": [
            "nuevo_trip_data_ 1  id del mejor taxis:  7E1346F23960CC18D7D129FA28B63A75\n",
            "nuevo_trip_data_ 2  id del mejor taxis:  0C9C589C0AD57ECCB633CB90A33DC37A\n",
            "nuevo_trip_data_ 3  id del mejor taxis:  19E063791B0DF5A558B8488180DDAB67\n",
            "nuevo_trip_data_ 4  id del mejor taxis:  19E063791B0DF5A558B8488180DDAB67\n",
            "nuevo_trip_data_ 5  id del mejor taxis:  20BA941F62CC07F1FA3EF3E122B1E9B2\n",
            "nuevo_trip_data_ 6  id del mejor taxis:  A4FC84D2662D988828DBD26B0948A413\n",
            "nuevo_trip_data_ 7  id del mejor taxis:  20BA941F62CC07F1FA3EF3E122B1E9B2\n",
            "nuevo_trip_data_ 8  id del mejor taxis:  20BA941F62CC07F1FA3EF3E122B1E9B2\n",
            "nuevo_trip_data_ 9  id del mejor taxis:  20BA941F62CC07F1FA3EF3E122B1E9B2\n",
            "nuevo_trip_data_ 10  id del mejor taxis:  20BA941F62CC07F1FA3EF3E122B1E9B2\n",
            "nuevo_trip_data_ 11  id del mejor taxis:  20BA941F62CC07F1FA3EF3E122B1E9B2\n",
            "nuevo_trip_data_ 12  id del mejor taxis:  F3E844649503D2A5A44DD729348E7336\n"
          ],
          "name": "stdout"
        }
      ]
    },
    {
      "cell_type": "code",
      "metadata": {
        "colab_type": "code",
        "id": "3jDsFtFN3sfy",
        "colab": {}
      },
      "source": [
        "#viajesdl=viajes.apply(madres, axis=1, meta=viajes)\n",
        "viajesdl=va.trip_time_in_secs.map(lambda trip_time_in_secs: 'y' if trip_time_in_secs>1200 else 'n')"
      ],
      "execution_count": 0,
      "outputs": []
    },
    {
      "cell_type": "code",
      "metadata": {
        "colab_type": "code",
        "id": "3kNwof1X3rzI",
        "colab": {}
      },
      "source": [
        "viajesdl"
      ],
      "execution_count": 0,
      "outputs": []
    },
    {
      "cell_type": "code",
      "metadata": {
        "colab_type": "code",
        "id": "zSGsvMR1WT2n",
        "colab": {}
      },
      "source": [
        "nuevo=nuevo.assign(Viajes_largos=viajesdl)"
      ],
      "execution_count": 0,
      "outputs": []
    },
    {
      "cell_type": "code",
      "metadata": {
        "colab_type": "code",
        "id": "RLeNibYxWTnm",
        "colab": {}
      },
      "source": [
        "type(nuevo)"
      ],
      "execution_count": 0,
      "outputs": []
    },
    {
      "cell_type": "code",
      "metadata": {
        "colab_type": "code",
        "id": "y-fLtaivWTYs",
        "colab": {}
      },
      "source": [
        "nuevo['Viajes_largos'].value_counts()"
      ],
      "execution_count": 0,
      "outputs": []
    },
    {
      "cell_type": "code",
      "metadata": {
        "colab_type": "code",
        "id": "VOHq1EJmWTLi",
        "colab": {}
      },
      "source": [
        "vjt=nuevo['medallion'].value_counts()"
      ],
      "execution_count": 0,
      "outputs": []
    },
    {
      "cell_type": "code",
      "metadata": {
        "colab_type": "code",
        "id": "ms78mKRhWTCx",
        "colab": {}
      },
      "source": [
        "vjtd=vjt.to_frame()"
      ],
      "execution_count": 0,
      "outputs": []
    },
    {
      "cell_type": "code",
      "metadata": {
        "colab_type": "code",
        "id": "XPr5FEgQWS7U",
        "colab": {}
      },
      "source": [
        "vjtd"
      ],
      "execution_count": 0,
      "outputs": []
    },
    {
      "cell_type": "code",
      "metadata": {
        "colab_type": "code",
        "id": "lhcky15AWSxa",
        "colab": {}
      },
      "source": [
        "type(vjt)"
      ],
      "execution_count": 0,
      "outputs": []
    },
    {
      "cell_type": "code",
      "metadata": {
        "colab_type": "code",
        "id": "ib5bXGckWSjH",
        "colab": {}
      },
      "source": [
        "vjtd.dtypes"
      ],
      "execution_count": 0,
      "outputs": []
    },
    {
      "cell_type": "code",
      "metadata": {
        "id": "zI_keEViQULr",
        "colab_type": "code",
        "colab": {}
      },
      "source": [
        "tm = vjtd.index[0]"
      ],
      "execution_count": 0,
      "outputs": []
    },
    {
      "cell_type": "code",
      "metadata": {
        "id": "82sMqzVzQeqE",
        "colab_type": "code",
        "colab": {}
      },
      "source": [
        "tm"
      ],
      "execution_count": 0,
      "outputs": []
    },
    {
      "cell_type": "code",
      "metadata": {
        "id": "TYmWnJ8ocz1U",
        "colab_type": "code",
        "colab": {}
      },
      "source": [
        "#viajesLargos.to_csv('/content/viajesLargos1*.csv')"
      ],
      "execution_count": 0,
      "outputs": []
    },
    {
      "cell_type": "markdown",
      "metadata": {
        "id": "8s6C_YzTCmG7",
        "colab_type": "text"
      },
      "source": [
        "#Punto 9\n",
        "Hacer una grafica temporal del numero total de pasajeros agregados por dias de la semana y despues por horas del dia. \n",
        "\n",
        "Sugerencia: agregar por el correspondiente periodo temporal y graficar. Que pueden observar de las graficas?\n",
        "\n"
      ]
    },
    {
      "cell_type": "code",
      "metadata": {
        "id": "eX2KAhpkMA3m",
        "colab_type": "code",
        "colab": {}
      },
      "source": [
        "import matplotlib.pyplot as plt"
      ],
      "execution_count": 0,
      "outputs": []
    },
    {
      "cell_type": "code",
      "metadata": {
        "id": "D1a7dJ7_771R",
        "colab_type": "code",
        "colab": {}
      },
      "source": [
        "archivos = 'nuevo_trip_data_{:d}.csv'\n",
        "plantilla = [archivos.format(i) for i in range(1, 13)]"
      ],
      "execution_count": 0,
      "outputs": []
    },
    {
      "cell_type": "code",
      "metadata": {
        "id": "-FGOENb-E2kh",
        "colab_type": "code",
        "colab": {}
      },
      "source": [
        "dd=da.read_csv('nuevo_trip_data_1.csv', usecols= [\"dropoff_datetime\", \"passenger_count\"])\n",
        "dd.columns\n",
        "dd['dropoff_datetime']=da.to_datetime(dd['dropoff_datetime'])\n",
        "dd['hour'] = dd['dropoff_datetime'].dt.hour\n",
        "#dd['weekday'] = dd['dropoff_datetime'].dt.weekday\n",
        "estePorHora=dd.groupby('hour')\n",
        "#estePorDia=dd.groupby('weekday')\n",
        "rt=estePorHora['passenger_count'].sum()\n",
        "rt.compute()\n",
        "plt.plot(d, label='nuevo_trip_data_1.csv')\n",
        "plt.legend(loc='center left', bbox_to_anchor=(1, 0.5))\n",
        "plt.show()"
      ],
      "execution_count": 0,
      "outputs": []
    },
    {
      "cell_type": "code",
      "metadata": {
        "id": "IMVv3bSQBaub",
        "colab_type": "code",
        "outputId": "35fe1feb-1022-459c-ae96-36f0f6fdffad",
        "colab": {
          "base_uri": "https://localhost:8080/",
          "height": 283
        }
      },
      "source": [
        "for archivo in plantilla:\n",
        "  dd=da.read_csv(archivo, usecols= [\"dropoff_datetime\", \"passenger_count\"])\n",
        "  dd['dropoff_datetime']=da.to_datetime(dd['dropoff_datetime'])\n",
        "  dd['hour'] = dd['dropoff_datetime'].dt.hour\n",
        "  #dd['weekday'] = dd['dropoff_datetime'].dt.weekday\n",
        "  estePorHora=dd.groupby('hour')\n",
        "  #estePorDia=dd.groupby('weekday')\n",
        "  rt=estePorHora['passenger_count'].sum()\n",
        "  d=rt.compute()\n",
        "  plt.plot(d, label=archivo)\n",
        "  dd=''\n",
        "  rt=''\n",
        "  estePorHora=''\n",
        "plt.xlabel('Horas del dia')\n",
        "plt.ylabel('Pasajeros por Hora')\n",
        "plt.legend(loc='center left', bbox_to_anchor=(1, 0.5))\n",
        "\n",
        "plt.show()"
      ],
      "execution_count": 20,
      "outputs": [
        {
          "output_type": "display_data",
          "data": {
            "image/png": "[encoded data removed]",
            "text/plain": [
              "<Figure size 432x288 with 1 Axes>"
            ]
          },
          "metadata": {
            "tags": []
          }
        }
      ]
    },
    {
      "cell_type": "code",
      "metadata": {
        "id": "ATMyZwDkKHpO",
        "colab_type": "code",
        "outputId": "5b6c0f67-b023-45c1-e3bc-f9ad99a5b249",
        "colab": {
          "base_uri": "https://localhost:8080/",
          "height": 283
        }
      },
      "source": [
        "for archivo in plantilla:\n",
        "  dd=da.read_csv(archivo, usecols= [\"dropoff_datetime\", \"passenger_count\"])\n",
        "  dd['dropoff_datetime']=da.to_datetime(dd['dropoff_datetime'])\n",
        "  #dd['hour'] = dd['dropoff_datetime'].dt.hour\n",
        "  dd['weekday'] = dd['dropoff_datetime'].dt.weekday\n",
        "  #estePorHora=dd.groupby('hour')\n",
        "  estePorDia=dd.groupby('weekday')\n",
        "  rt=estePorDia['passenger_count'].sum()\n",
        "  d=rt.compute()\n",
        "  plt.plot(d, label=archivo)\n",
        "  dd=''\n",
        "  rt=''\n",
        "  estePorDia=''\n",
        "plt.xlabel('Dias de la Semana')\n",
        "plt.ylabel('Pasajeros por Hora')\n",
        "plt.legend(loc='center left', bbox_to_anchor=(1, 0.5))\n",
        "\n",
        "plt.show()"
      ],
      "execution_count": 21,
      "outputs": [
        {
          "output_type": "display_data",
          "data": {
            "image/png": "[encoded data removed]",
            "text/plain": [
              "<Figure size 432x288 with 1 Axes>"
            ]
          },
          "metadata": {
            "tags": []
          }
        }
      ]
    },
    {
      "cell_type": "code",
      "metadata": {
        "id": "QQRj9hHE_Jej",
        "colab_type": "code",
        "colab": {}
      },
      "source": [
        "dd=da.read_csv('nuevo_trip_data_*.csv', usecols= [\"dropoff_datetime\", \"passenger_count\"])"
      ],
      "execution_count": 0,
      "outputs": []
    },
    {
      "cell_type": "code",
      "metadata": {
        "id": "FtPskqKc_XFY",
        "colab_type": "code",
        "colab": {}
      },
      "source": [
        "dd['dropoff_datetime']=da.to_datetime(dd['dropoff_datetime'])\n",
        "dd['dayyear'] = dd['dropoff_datetime'].dt.dayofyear"
      ],
      "execution_count": 0,
      "outputs": []
    },
    {
      "cell_type": "code",
      "metadata": {
        "id": "-fo2EM7U_tPO",
        "colab_type": "code",
        "colab": {
          "base_uri": "https://localhost:8080/",
          "height": 283
        },
        "outputId": "f9f73b8c-d4d9-4235-ce34-8076407f6c05"
      },
      "source": [
        "estePorDiaAño=dd.groupby('dayyear')\n",
        "rt=estePorDiaAño['passenger_count'].sum().compute()\n",
        "plt.plot(rt)\n",
        "plt.xlabel('Dias del año')\n",
        "plt.ylabel('Pasajeros por Hora')\n",
        "plt.legend(loc='center left', bbox_to_anchor=(1, 0.5))\n",
        "\n",
        "plt.show()"
      ],
      "execution_count": 109,
      "outputs": [
        {
          "output_type": "display_data",
          "data": {
            "image/png": "[encoded data removed]",
            "text/plain": [
              "<Figure size 432x288 with 1 Axes>"
            ]
          },
          "metadata": {
            "tags": []
          }
        }
      ]
    },
    {
      "cell_type": "code",
      "metadata": {
        "id": "C4XkQ4BMWktm",
        "colab_type": "code",
        "colab": {}
      },
      "source": [
        "dd=da.read_csv('nuevo_trip_data_1.csv' ,usecols=['dropoff_datetime','passenger_count'])"
      ],
      "execution_count": 0,
      "outputs": []
    },
    {
      "cell_type": "code",
      "metadata": {
        "id": "goMHO8j8ZRjC",
        "colab_type": "code",
        "colab": {}
      },
      "source": [
        "dtj=dd"
      ],
      "execution_count": 0,
      "outputs": []
    },
    {
      "cell_type": "code",
      "metadata": {
        "id": "EJkYZ51PY1bN",
        "colab_type": "code",
        "colab": {}
      },
      "source": [
        "#estos['dropoff_datetime'] = pd.to_datetime(estos['dropoff_datetime'])\n",
        "dd['dropoff_datetime']=da.to_datetime(dd['dropoff_datetime'])\n",
        "dd['hour'] = dd['dropoff_datetime'].dt.hour\n",
        "dd['weekday'] = dd['dropoff_datetime'].dt.weekday"
      ],
      "execution_count": 0,
      "outputs": []
    },
    {
      "cell_type": "code",
      "metadata": {
        "id": "q6HT8ErUcFeq",
        "colab_type": "code",
        "colab": {}
      },
      "source": [
        "estePorHora=dd.groupby('hour')\n",
        "estePorDia=dd.groupby('weekday')"
      ],
      "execution_count": 0,
      "outputs": []
    },
    {
      "cell_type": "code",
      "metadata": {
        "id": "u5NdlS1ycXbP",
        "colab_type": "code",
        "colab": {}
      },
      "source": [
        "estePorHora['passenger_count'].sum().compute().plot.line()\n",
        "#estePorDia['passenger_count'].sum().compute().plot.line()"
      ],
      "execution_count": 0,
      "outputs": []
    },
    {
      "cell_type": "code",
      "metadata": {
        "id": "7PChaGI9xvuD",
        "colab_type": "code",
        "colab": {}
      },
      "source": [
        "este='7E1346F23960CC18D7D129FA28B63A75'"
      ],
      "execution_count": 0,
      "outputs": []
    },
    {
      "cell_type": "code",
      "metadata": {
        "id": "K2pbJXynDMU_",
        "colab_type": "code",
        "colab": {}
      },
      "source": [
        "taxi=nuevo[nuevo.medallion==tm]"
      ],
      "execution_count": 0,
      "outputs": []
    },
    {
      "cell_type": "code",
      "metadata": {
        "id": "AAGBduCROo-A",
        "colab_type": "code",
        "colab": {}
      },
      "source": [
        "graf=nuevo"
      ],
      "execution_count": 0,
      "outputs": []
    },
    {
      "cell_type": "code",
      "metadata": {
        "id": "EqrtZp2iS7cs",
        "colab_type": "code",
        "outputId": "8dcbff60-b71e-4311-c310-73683b7bc978",
        "colab": {
          "base_uri": "https://localhost:8080/",
          "height": 34
        }
      },
      "source": [
        "type(graf)"
      ],
      "execution_count": 0,
      "outputs": [
        {
          "output_type": "execute_result",
          "data": {
            "text/plain": [
              "pandas.core.frame.DataFrame"
            ]
          },
          "metadata": {
            "tags": []
          },
          "execution_count": 75
        }
      ]
    },
    {
      "cell_type": "code",
      "metadata": {
        "id": "GJgAgRs0OsFc",
        "colab_type": "code",
        "colab": {}
      },
      "source": [
        "graf['hour'] = graf['dropoff_datetime'].dt.hour\n",
        "graf['weekday'] = graf['dropoff_datetime'].dt.weekday"
      ],
      "execution_count": 0,
      "outputs": []
    },
    {
      "cell_type": "code",
      "metadata": {
        "id": "-KlOWyZoO36Z",
        "colab_type": "code",
        "colab": {}
      },
      "source": [
        "grafPorHora=graf.groupby('hour')\n",
        "grafPorDia=graf.groupby('weekday')"
      ],
      "execution_count": 0,
      "outputs": []
    },
    {
      "cell_type": "code",
      "metadata": {
        "id": "58Wlo5l2Pm8n",
        "colab_type": "code",
        "colab": {}
      },
      "source": [
        "nuevo.plot.line(x='dropoff_datetime', y='passenger_count', figsize=(13,5))\n",
        "nuevo.plot.line(x='pickup_datetime', y='passenger_count', figsize=(13,5))"
      ],
      "execution_count": 0,
      "outputs": []
    },
    {
      "cell_type": "code",
      "metadata": {
        "id": "uG-05MZmPOQR",
        "colab_type": "code",
        "colab": {}
      },
      "source": [
        "grafPorHora['passenger_count'].sum().plot.line()\n",
        "#grafPorDia['passenger_count'].sum().plot.line()"
      ],
      "execution_count": 0,
      "outputs": []
    },
    {
      "cell_type": "code",
      "metadata": {
        "id": "bU042JJBH1Kk",
        "colab_type": "code",
        "colab": {}
      },
      "source": [
        "taxi.sample(frac=.50)"
      ],
      "execution_count": 0,
      "outputs": []
    },
    {
      "cell_type": "code",
      "metadata": {
        "id": "P_CAQscNDWEx",
        "colab_type": "code",
        "colab": {}
      },
      "source": [
        "taxi['hour'] = taxi['dropoff_datetime'].dt.hour\n",
        "taxi['weekday'] = taxi['dropoff_datetime'].dt.weekday"
      ],
      "execution_count": 0,
      "outputs": []
    },
    {
      "cell_type": "code",
      "metadata": {
        "id": "Yaj3flQ1DYpL",
        "colab_type": "code",
        "colab": {}
      },
      "source": [
        "taxiPorHora = taxi.groupby('hour')"
      ],
      "execution_count": 0,
      "outputs": []
    },
    {
      "cell_type": "code",
      "metadata": {
        "id": "uVnQ_JQSMChf",
        "colab_type": "code",
        "colab": {}
      },
      "source": [
        "taxiPorHora['passenger_count'].sum().plot.line()"
      ],
      "execution_count": 0,
      "outputs": []
    },
    {
      "cell_type": "markdown",
      "metadata": {
        "id": "MCs7v33zCsiB",
        "colab_type": "text"
      },
      "source": [
        "#Punto 10\n",
        "Elegir el vehiculo con mas viajes en cada mes y graficar en un mapa los sitios donde se suben pasajeros agrupados por\n",
        "dia de la semana (un color distinto para cada dia)\n",
        "hora del dia (un color distinto para cada intervalo de cuatro horas,00:00 - 03:59, 04:00--07:59, 08:00-11:59, etc.)\n",
        "\n",
        "Repetir para las posiciones donde se bajan los pasajeros para el mismo vehiculo."
      ]
    },
    {
      "cell_type": "code",
      "metadata": {
        "id": "kvuOroPZDsXE",
        "colab_type": "code",
        "colab": {}
      },
      "source": [
        "from bokeh.models import BoxZoomTool, ColumnDataSource\n",
        "from bokeh.plotting import figure, output_notebook, show"
      ],
      "execution_count": 0,
      "outputs": []
    },
    {
      "cell_type": "code",
      "metadata": {
        "id": "u8iY05XcEhId",
        "colab_type": "code",
        "colab": {}
      },
      "source": [
        "archivos = 'nuevo_trip_data_{:d}.csv'\n",
        "plantilla = [archivos.format(i) for i in range(1, 13)]"
      ],
      "execution_count": 0,
      "outputs": []
    },
    {
      "cell_type": "code",
      "metadata": {
        "id": "XcBJlhFxD_Mo",
        "colab_type": "code",
        "colab": {}
      },
      "source": [
        "NYC = x_range, y_range = ((-8242000,-8210000), (4965000,4990000))\n",
        "\n",
        "plot_width  = int(750)\n",
        "plot_height = int(plot_width//1.2)\n",
        "\n",
        "def base_plot(tools='pan,wheel_zoom,reset',plot_width=plot_width, plot_height=plot_height, **plot_args):\n",
        "    p = figure(tools=tools, plot_width=plot_width, plot_height=plot_height,\n",
        "        x_range=x_range, y_range=y_range, outline_line_color=None,\n",
        "        min_border=0, min_border_left=0, min_border_right=0,\n",
        "        min_border_top=0, min_border_bottom=0, **plot_args)\n",
        "\n",
        "    p.axis.visible = False\n",
        "    p.xgrid.grid_line_color = None\n",
        "    p.ygrid.grid_line_color = None\n",
        "\n",
        "    p.add_tools(BoxZoomTool(match_aspect=True))\n",
        "\n",
        "    return p\n",
        "\n",
        "options = dict(line_color=None, fill_color='blue', size=5)"
      ],
      "execution_count": 0,
      "outputs": []
    },
    {
      "cell_type": "code",
      "metadata": {
        "id": "-hVPJKPS7UET",
        "colab_type": "code",
        "colab": {}
      },
      "source": [
        "listasCafres=[\n",
        "\"7E1346F23960CC18D7D129FA28B63A75\",\n",
        "\"0C9C589C0AD57ECCB633CB90A33DC37A\",\n",
        "\"19E063791B0DF5A558B8488180DDAB67\",\n",
        "\"19E063791B0DF5A558B8488180DDAB67\",\n",
        "\"20BA941F62CC07F1FA3EF3E122B1E9B2\",\n",
        "\"A4FC84D2662D988828DBD26B0948A413\",\n",
        "\"20BA941F62CC07F1FA3EF3E122B1E9B2\",\n",
        "\"20BA941F62CC07F1FA3EF3E122B1E9B2\",\n",
        "\"20BA941F62CC07F1FA3EF3E122B1E9B2\",\n",
        "\"20BA941F62CC07F1FA3EF3E122B1E9B2\",\n",
        "\"20BA941F62CC07F1FA3EF3E122B1E9B2\",\n",
        "\"F3E844649503D2A5A44DD729348E7336\"]"
      ],
      "execution_count": 0,
      "outputs": []
    },
    {
      "cell_type": "code",
      "metadata": {
        "id": "75ZBRslxKquI",
        "colab_type": "code",
        "colab": {}
      },
      "source": [
        "dd=da.read_csv('nuevo_trip_data_1.csv', usecols= ['medallion', 'pickup_datetime','pickup_longitude', 'pickup_latitude'])\n",
        "dd=dd[dd.medallion==listasCafres[0]]"
      ],
      "execution_count": 0,
      "outputs": []
    },
    {
      "cell_type": "code",
      "metadata": {
        "id": "1E9lkh0BLFir",
        "colab_type": "code",
        "colab": {}
      },
      "source": [
        "dd[]"
      ],
      "execution_count": 0,
      "outputs": []
    },
    {
      "cell_type": "code",
      "metadata": {
        "id": "wvdd4Kp69Ek3",
        "colab_type": "code",
        "colab": {}
      },
      "source": [
        "\n",
        "project_projection = pyproj.Proj(\"+init=EPSG:4326\")  # wgs84\n",
        "google_projection = pyproj.Proj(\"+init=EPSG:3857\")  # default google projection\n",
        "dd.compute()\n",
        "longitude = dd['pickup_longitude']\n",
        "latitude = dd['pickup_latitude']\n",
        "\n",
        "x, y = pyproj.transform(google_projection, project_projection, longitude, latitude)"
      ],
      "execution_count": 0,
      "outputs": []
    },
    {
      "cell_type": "code",
      "metadata": {
        "id": "hTyw9NgISFal",
        "colab_type": "code",
        "colab": {}
      },
      "source": [
        "import math\n",
        "import numpy as np\n",
        "RADIUS = 6378137.0\n",
        "def lat2y(a):\n",
        "  return math.log(math.tan(math.pi / 4 + math.radians(a) / 2)) * RADIUS\n",
        "\n",
        "def lon2x(a):\n",
        "  return math.radians(a) * RADIUS"
      ],
      "execution_count": 0,
      "outputs": []
    },
    {
      "cell_type": "code",
      "metadata": {
        "id": "cxSY3b63TUi6",
        "colab_type": "code",
        "colab": {
          "base_uri": "https://localhost:8080/",
          "height": 34
        },
        "outputId": "18e02710-af3b-4c1d-b7bc-54164359c955"
      },
      "source": [
        "#dd=da.read_csv('nuevo_trip_data_1.csv', usecols= ['pickup_longitude', 'pickup_latitude'])\n",
        "#rt=dd.index[0]\n",
        "#-73.979340\t40.776653\n",
        "import numpy as np\n",
        "xl=lon2x(-73.979340)\n",
        "yl=lat2y(40.776653)\n",
        "type(xl)"
      ],
      "execution_count": 85,
      "outputs": [
        {
          "output_type": "execute_result",
          "data": {
            "text/plain": [
              "float"
            ]
          },
          "metadata": {
            "tags": []
          },
          "execution_count": 85
        }
      ]
    },
    {
      "cell_type": "code",
      "metadata": {
        "id": "J45vydpUdxtn",
        "colab_type": "code",
        "colab": {
          "base_uri": "https://localhost:8080/",
          "height": 672
        },
        "outputId": "3d8b882c-3597-4e8d-f1e5-4ba296be5b0f"
      },
      "source": [
        "from bokeh.tile_providers import STAMEN_TERRAIN\n",
        "output_notebook()\n",
        "\n",
        "\n",
        "p= base_plot()\n",
        "p.add_tile(STAMEN_TERRAIN)\n",
        "p.circle(x=xl, y=yl, **options)\n",
        "show(p)"
      ],
      "execution_count": 56,
      "outputs": [
        {
          "output_type": "display_data",
          "data": {
            "text/html": [
              "\n",
              "    <div class=\"bk-root\">\n",
              "        <a href=\"https://bokeh.pydata.org\" target=\"_blank\" class=\"bk-logo bk-logo-small bk-logo-notebook\"></a>\n",
              "        <span id=\"1435\">Loading BokehJS ...</span>\n",
              "    </div>"
            ]
          },
          "metadata": {
            "tags": []
          }
        },
        {
          "output_type": "display_data",
          "data": {
            "application/javascript": [
              "\n",
              "(function(root) {\n",
              "  function now() {\n",
              "    return new Date();\n",
              "  }\n",
              "\n",
              "  var force = true;\n",
              "\n",
              "  if (typeof (root._bokeh_onload_callbacks) === \"undefined\" || force === true) {\n",
              "    root._bokeh_onload_callbacks = [];\n",
              "    root._bokeh_is_loading = undefined;\n",
              "  }\n",
              "\n",
              "  var JS_MIME_TYPE = 'application/javascript';\n",
              "  var HTML_MIME_TYPE = 'text/html';\n",
              "  var EXEC_MIME_TYPE = 'application/vnd.bokehjs_exec.v0+json';\n",
              "  var CLASS_NAME = 'output_bokeh rendered_html';\n",
              "\n",
              "  /**\n",
              "   * Render data to the DOM node\n",
              "   */\n",
              "  function render(props, node) {\n",
              "    var script = document.createElement(\"script\");\n",
              "    node.appendChild(script);\n",
              "  }\n",
              "\n",
              "  /**\n",
              "   * Handle when an output is cleared or removed\n",
              "   */\n",
              "  function handleClearOutput(event, handle) {\n",
              "    var cell = handle.cell;\n",
              "\n",
              "    var id = cell.output_area._bokeh_element_id;\n",
              "    var server_id = cell.output_area._bokeh_server_id;\n",
              "    // Clean up Bokeh references\n",
              "    if (id != null && id in Bokeh.index) {\n",
              "      Bokeh.index[id].model.document.clear();\n",
              "      delete Bokeh.index[id];\n",
              "    }\n",
              "\n",
              "    if (server_id !== undefined) {\n",
              "      // Clean up Bokeh references\n",
              "      var cmd = \"from bokeh.io.state import curstate; print(curstate().uuid_to_server['\" + server_id + \"'].get_sessions()[0].document.roots[0]._id)\";\n",
              "      cell.notebook.kernel.execute(cmd, {\n",
              "        iopub: {\n",
              "          output: function(msg) {\n",
              "            var id = msg.content.text.trim();\n",
              "            if (id in Bokeh.index) {\n",
              "              Bokeh.index[id].model.document.clear();\n",
              "              delete Bokeh.index[id];\n",
              "            }\n",
              "          }\n",
              "        }\n",
              "      });\n",
              "      // Destroy server and session\n",
              "      var cmd = \"import bokeh.io.notebook as ion; ion.destroy_server('\" + server_id + \"')\";\n",
              "      cell.notebook.kernel.execute(cmd);\n",
              "    }\n",
              "  }\n",
              "\n",
              "  /**\n",
              "   * Handle when a new output is added\n",
              "   */\n",
              "  function handleAddOutput(event, handle) {\n",
              "    var output_area = handle.output_area;\n",
              "    var output = handle.output;\n",
              "\n",
              "    // limit handleAddOutput to display_data with EXEC_MIME_TYPE content only\n",
              "    if ((output.output_type != \"display_data\") || (!output.data.hasOwnProperty(EXEC_MIME_TYPE))) {\n",
              "      return\n",
              "    }\n",
              "\n",
              "    var toinsert = output_area.element.find(\".\" + CLASS_NAME.split(' ')[0]);\n",
              "\n",
              "    if (output.metadata[EXEC_MIME_TYPE][\"id\"] !== undefined) {\n",
              "      toinsert[toinsert.length - 1].firstChild.textContent = output.data[JS_MIME_TYPE];\n",
              "      // store reference to embed id on output_area\n",
              "      output_area._bokeh_element_id = output.metadata[EXEC_MIME_TYPE][\"id\"];\n",
              "    }\n",
              "    if (output.metadata[EXEC_MIME_TYPE][\"server_id\"] !== undefined) {\n",
              "      var bk_div = document.createElement(\"div\");\n",
              "      bk_div.innerHTML = output.data[HTML_MIME_TYPE];\n",
              "      var script_attrs = bk_div.children[0].attributes;\n",
              "      for (var i = 0; i < script_attrs.length; i++) {\n",
              "        toinsert[toinsert.length - 1].firstChild.setAttribute(script_attrs[i].name, script_attrs[i].value);\n",
              "      }\n",
              "      // store reference to server id on output_area\n",
              "      output_area._bokeh_server_id = output.metadata[EXEC_MIME_TYPE][\"server_id\"];\n",
              "    }\n",
              "  }\n",
              "\n",
              "  function register_renderer(events, OutputArea) {\n",
              "\n",
              "    function append_mime(data, metadata, element) {\n",
              "      // create a DOM node to render to\n",
              "      var toinsert = this.create_output_subarea(\n",
              "        metadata,\n",
              "        CLASS_NAME,\n",
              "        EXEC_MIME_TYPE\n",
              "      );\n",
              "      this.keyboard_manager.register_events(toinsert);\n",
              "      // Render to node\n",
              "      var props = {data: data, metadata: metadata[EXEC_MIME_TYPE]};\n",
              "      render(props, toinsert[toinsert.length - 1]);\n",
              "      element.append(toinsert);\n",
              "      return toinsert\n",
              "    }\n",
              "\n",
              "    /* Handle when an output is cleared or removed */\n",
              "    events.on('clear_output.CodeCell', handleClearOutput);\n",
              "    events.on('delete.Cell', handleClearOutput);\n",
              "\n",
              "    /* Handle when a new output is added */\n",
              "    events.on('output_added.OutputArea', handleAddOutput);\n",
              "\n",
              "    /**\n",
              "     * Register the mime type and append_mime function with output_area\n",
              "     */\n",
              "    OutputArea.prototype.register_mime_type(EXEC_MIME_TYPE, append_mime, {\n",
              "      /* Is output safe? */\n",
              "      safe: true,\n",
              "      /* Index of renderer in `output_area.display_order` */\n",
              "      index: 0\n",
              "    });\n",
              "  }\n",
              "\n",
              "  // register the mime type if in Jupyter Notebook environment and previously unregistered\n",
              "  if (root.Jupyter !== undefined) {\n",
              "    var events = require('base/js/events');\n",
              "    var OutputArea = require('notebook/js/outputarea').OutputArea;\n",
              "\n",
              "    if (OutputArea.prototype.mime_types().indexOf(EXEC_MIME_TYPE) == -1) {\n",
              "      register_renderer(events, OutputArea);\n",
              "    }\n",
              "  }\n",
              "\n",
              "  \n",
              "  if (typeof (root._bokeh_timeout) === \"undefined\" || force === true) {\n",
              "    root._bokeh_timeout = Date.now() + 5000;\n",
              "    root._bokeh_failed_load = false;\n",
              "  }\n",
              "\n",
              "  var NB_LOAD_WARNING = {'data': {'text/html':\n",
              "     \"<div style='background-color: #fdd'>\\n\"+\n",
              "     \"<p>\\n\"+\n",
              "     \"BokehJS does not appear to have successfully loaded. If loading BokehJS from CDN, this \\n\"+\n",
              "     \"may be due to a slow or bad network connection. Possible fixes:\\n\"+\n",
              "     \"</p>\\n\"+\n",
              "     \"<ul>\\n\"+\n",
              "     \"<li>re-rerun `output_notebook()` to attempt to load from CDN again, or</li>\\n\"+\n",
              "     \"<li>use INLINE resources instead, as so:</li>\\n\"+\n",
              "     \"</ul>\\n\"+\n",
              "     \"<code>\\n\"+\n",
              "     \"from bokeh.resources import INLINE\\n\"+\n",
              "     \"output_notebook(resources=INLINE)\\n\"+\n",
              "     \"</code>\\n\"+\n",
              "     \"</div>\"}};\n",
              "\n",
              "  function display_loaded() {\n",
              "    var el = document.getElementById(\"1435\");\n",
              "    if (el != null) {\n",
              "      el.textContent = \"BokehJS is loading...\";\n",
              "    }\n",
              "    if (root.Bokeh !== undefined) {\n",
              "      if (el != null) {\n",
              "        el.textContent = \"BokehJS \" + root.Bokeh.version + \" successfully loaded.\";\n",
              "      }\n",
              "    } else if (Date.now() < root._bokeh_timeout) {\n",
              "      setTimeout(display_loaded, 100)\n",
              "    }\n",
              "  }\n",
              "\n",
              "\n",
              "  function run_callbacks() {\n",
              "    try {\n",
              "      root._bokeh_onload_callbacks.forEach(function(callback) { callback() });\n",
              "    }\n",
              "    finally {\n",
              "      delete root._bokeh_onload_callbacks\n",
              "    }\n",
              "    console.info(\"Bokeh: all callbacks have finished\");\n",
              "  }\n",
              "\n",
              "  function load_libs(js_urls, callback) {\n",
              "    root._bokeh_onload_callbacks.push(callback);\n",
              "    if (root._bokeh_is_loading > 0) {\n",
              "      console.log(\"Bokeh: BokehJS is being loaded, scheduling callback at\", now());\n",
              "      return null;\n",
              "    }\n",
              "    if (js_urls == null || js_urls.length === 0) {\n",
              "      run_callbacks();\n",
              "      return null;\n",
              "    }\n",
              "    console.log(\"Bokeh: BokehJS not loaded, scheduling load and callback at\", now());\n",
              "    root._bokeh_is_loading = js_urls.length;\n",
              "    for (var i = 0; i < js_urls.length; i++) {\n",
              "      var url = js_urls[i];\n",
              "      var s = document.createElement('script');\n",
              "      s.src = url;\n",
              "      s.async = false;\n",
              "      s.onreadystatechange = s.onload = function() {\n",
              "        root._bokeh_is_loading--;\n",
              "        if (root._bokeh_is_loading === 0) {\n",
              "          console.log(\"Bokeh: all BokehJS libraries loaded\");\n",
              "          run_callbacks()\n",
              "        }\n",
              "      };\n",
              "      s.onerror = function() {\n",
              "        console.warn(\"failed to load library \" + url);\n",
              "      };\n",
              "      console.log(\"Bokeh: injecting script tag for BokehJS library: \", url);\n",
              "      document.getElementsByTagName(\"head\")[0].appendChild(s);\n",
              "    }\n",
              "  };var element = document.getElementById(\"1435\");\n",
              "  if (element == null) {\n",
              "    console.log(\"Bokeh: ERROR: autoload.js configured with elementid '1435' but no matching script tag was found. \")\n",
              "    return false;\n",
              "  }\n",
              "\n",
              "  var js_urls = [\"https://cdn.pydata.org/bokeh/release/bokeh-1.0.4.min.js\", \"https://cdn.pydata.org/bokeh/release/bokeh-widgets-1.0.4.min.js\", \"https://cdn.pydata.org/bokeh/release/bokeh-tables-1.0.4.min.js\", \"https://cdn.pydata.org/bokeh/release/bokeh-gl-1.0.4.min.js\"];\n",
              "\n",
              "  var inline_js = [\n",
              "    function(Bokeh) {\n",
              "      Bokeh.set_log_level(\"info\");\n",
              "    },\n",
              "    \n",
              "    function(Bokeh) {\n",
              "      \n",
              "    },\n",
              "    function(Bokeh) {\n",
              "      console.log(\"Bokeh: injecting CSS: https://cdn.pydata.org/bokeh/release/bokeh-1.0.4.min.css\");\n",
              "      Bokeh.embed.inject_css(\"https://cdn.pydata.org/bokeh/release/bokeh-1.0.4.min.css\");\n",
              "      console.log(\"Bokeh: injecting CSS: https://cdn.pydata.org/bokeh/release/bokeh-widgets-1.0.4.min.css\");\n",
              "      Bokeh.embed.inject_css(\"https://cdn.pydata.org/bokeh/release/bokeh-widgets-1.0.4.min.css\");\n",
              "      console.log(\"Bokeh: injecting CSS: https://cdn.pydata.org/bokeh/release/bokeh-tables-1.0.4.min.css\");\n",
              "      Bokeh.embed.inject_css(\"https://cdn.pydata.org/bokeh/release/bokeh-tables-1.0.4.min.css\");\n",
              "    }\n",
              "  ];\n",
              "\n",
              "  function run_inline_js() {\n",
              "    \n",
              "    if ((root.Bokeh !== undefined) || (force === true)) {\n",
              "      for (var i = 0; i < inline_js.length; i++) {\n",
              "        inline_js[i].call(root, root.Bokeh);\n",
              "      }if (force === true) {\n",
              "        display_loaded();\n",
              "      }} else if (Date.now() < root._bokeh_timeout) {\n",
              "      setTimeout(run_inline_js, 100);\n",
              "    } else if (!root._bokeh_failed_load) {\n",
              "      console.log(\"Bokeh: BokehJS failed to load within specified timeout.\");\n",
              "      root._bokeh_failed_load = true;\n",
              "    } else if (force !== true) {\n",
              "      var cell = $(document.getElementById(\"1435\")).parents('.cell').data().cell;\n",
              "      cell.output_area.append_execute_result(NB_LOAD_WARNING)\n",
              "    }\n",
              "\n",
              "  }\n",
              "\n",
              "  if (root._bokeh_is_loading === 0) {\n",
              "    console.log(\"Bokeh: BokehJS loaded, going straight to plotting\");\n",
              "    run_inline_js();\n",
              "  } else {\n",
              "    load_libs(js_urls, function() {\n",
              "      console.log(\"Bokeh: BokehJS plotting callback run at\", now());\n",
              "      run_inline_js();\n",
              "    });\n",
              "  }\n",
              "}(window));"
            ],
            "application/vnd.bokehjs_load.v0+json": "\n(function(root) {\n  function now() {\n    return new Date();\n  }\n\n  var force = true;\n\n  if (typeof (root._bokeh_onload_callbacks) === \"undefined\" || force === true) {\n    root._bokeh_onload_callbacks = [];\n    root._bokeh_is_loading = undefined;\n  }\n\n  \n\n  \n  if (typeof (root._bokeh_timeout) === \"undefined\" || force === true) {\n    root._bokeh_timeout = Date.now() + 5000;\n    root._bokeh_failed_load = false;\n  }\n\n  var NB_LOAD_WARNING = {'data': {'text/html':\n     \"<div style='background-color: #fdd'>\\n\"+\n     \"<p>\\n\"+\n     \"BokehJS does not appear to have successfully loaded. If loading BokehJS from CDN, this \\n\"+\n     \"may be due to a slow or bad network connection. Possible fixes:\\n\"+\n     \"</p>\\n\"+\n     \"<ul>\\n\"+\n     \"<li>re-rerun `output_notebook()` to attempt to load from CDN again, or</li>\\n\"+\n     \"<li>use INLINE resources instead, as so:</li>\\n\"+\n     \"</ul>\\n\"+\n     \"<code>\\n\"+\n     \"from bokeh.resources import INLINE\\n\"+\n     \"output_notebook(resources=INLINE)\\n\"+\n     \"</code>\\n\"+\n     \"</div>\"}};\n\n  function display_loaded() {\n    var el = document.getElementById(\"1435\");\n    if (el != null) {\n      el.textContent = \"BokehJS is loading...\";\n    }\n    if (root.Bokeh !== undefined) {\n      if (el != null) {\n        el.textContent = \"BokehJS \" + root.Bokeh.version + \" successfully loaded.\";\n      }\n    } else if (Date.now() < root._bokeh_timeout) {\n      setTimeout(display_loaded, 100)\n    }\n  }\n\n\n  function run_callbacks() {\n    try {\n      root._bokeh_onload_callbacks.forEach(function(callback) { callback() });\n    }\n    finally {\n      delete root._bokeh_onload_callbacks\n    }\n    console.info(\"Bokeh: all callbacks have finished\");\n  }\n\n  function load_libs(js_urls, callback) {\n    root._bokeh_onload_callbacks.push(callback);\n    if (root._bokeh_is_loading > 0) {\n      console.log(\"Bokeh: BokehJS is being loaded, scheduling callback at\", now());\n      return null;\n    }\n    if (js_urls == null || js_urls.length === 0) {\n      run_callbacks();\n      return null;\n    }\n    console.log(\"Bokeh: BokehJS not loaded, scheduling load and callback at\", now());\n    root._bokeh_is_loading = js_urls.length;\n    for (var i = 0; i < js_urls.length; i++) {\n      var url = js_urls[i];\n      var s = document.createElement('script');\n      s.src = url;\n      s.async = false;\n      s.onreadystatechange = s.onload = function() {\n        root._bokeh_is_loading--;\n        if (root._bokeh_is_loading === 0) {\n          console.log(\"Bokeh: all BokehJS libraries loaded\");\n          run_callbacks()\n        }\n      };\n      s.onerror = function() {\n        console.warn(\"failed to load library \" + url);\n      };\n      console.log(\"Bokeh: injecting script tag for BokehJS library: \", url);\n      document.getElementsByTagName(\"head\")[0].appendChild(s);\n    }\n  };var element = document.getElementById(\"1435\");\n  if (element == null) {\n    console.log(\"Bokeh: ERROR: autoload.js configured with elementid '1435' but no matching script tag was found. \")\n    return false;\n  }\n\n  var js_urls = [\"https://cdn.pydata.org/bokeh/release/bokeh-1.0.4.min.js\", \"https://cdn.pydata.org/bokeh/release/bokeh-widgets-1.0.4.min.js\", \"https://cdn.pydata.org/bokeh/release/bokeh-tables-1.0.4.min.js\", \"https://cdn.pydata.org/bokeh/release/bokeh-gl-1.0.4.min.js\"];\n\n  var inline_js = [\n    function(Bokeh) {\n      Bokeh.set_log_level(\"info\");\n    },\n    \n    function(Bokeh) {\n      \n    },\n    function(Bokeh) {\n      console.log(\"Bokeh: injecting CSS: https://cdn.pydata.org/bokeh/release/bokeh-1.0.4.min.css\");\n      Bokeh.embed.inject_css(\"https://cdn.pydata.org/bokeh/release/bokeh-1.0.4.min.css\");\n      console.log(\"Bokeh: injecting CSS: https://cdn.pydata.org/bokeh/release/bokeh-widgets-1.0.4.min.css\");\n      Bokeh.embed.inject_css(\"https://cdn.pydata.org/bokeh/release/bokeh-widgets-1.0.4.min.css\");\n      console.log(\"Bokeh: injecting CSS: https://cdn.pydata.org/bokeh/release/bokeh-tables-1.0.4.min.css\");\n      Bokeh.embed.inject_css(\"https://cdn.pydata.org/bokeh/release/bokeh-tables-1.0.4.min.css\");\n    }\n  ];\n\n  function run_inline_js() {\n    \n    if ((root.Bokeh !== undefined) || (force === true)) {\n      for (var i = 0; i < inline_js.length; i++) {\n        inline_js[i].call(root, root.Bokeh);\n      }if (force === true) {\n        display_loaded();\n      }} else if (Date.now() < root._bokeh_timeout) {\n      setTimeout(run_inline_js, 100);\n    } else if (!root._bokeh_failed_load) {\n      console.log(\"Bokeh: BokehJS failed to load within specified timeout.\");\n      root._bokeh_failed_load = true;\n    } else if (force !== true) {\n      var cell = $(document.getElementById(\"1435\")).parents('.cell').data().cell;\n      cell.output_area.append_execute_result(NB_LOAD_WARNING)\n    }\n\n  }\n\n  if (root._bokeh_is_loading === 0) {\n    console.log(\"Bokeh: BokehJS loaded, going straight to plotting\");\n    run_inline_js();\n  } else {\n    load_libs(js_urls, function() {\n      console.log(\"Bokeh: BokehJS plotting callback run at\", now());\n      run_inline_js();\n    });\n  }\n}(window));"
          },
          "metadata": {
            "tags": []
          }
        },
        {
          "output_type": "display_data",
          "data": {
            "text/html": [
              "\n",
              "\n",
              "\n",
              "\n",
              "\n",
              "\n",
              "  <div class=\"bk-root\" id=\"23eec58a-a773-4d65-9d51-f0ce997e50d9\" data-root-id=\"1436\"></div>\n"
            ]
          },
          "metadata": {
            "tags": []
          }
        },
        {
          "output_type": "display_data",
          "data": {
            "application/javascript": [
              "(function(root) {\n",
              "  function embed_document(root) {\n",
              "    \n",
              "  var docs_json = {\"0dd7556c-8791-4614-b444-358832858807\":{\"roots\":{\"references\":[{\"attributes\":{\"below\":[{\"id\":\"1445\",\"type\":\"LinearAxis\"}],\"left\":[{\"id\":\"1450\",\"type\":\"LinearAxis\"}],\"min_border\":0,\"min_border_bottom\":0,\"min_border_left\":0,\"min_border_right\":0,\"min_border_top\":0,\"outline_line_color\":{\"value\":null},\"plot_height\":625,\"plot_width\":750,\"renderers\":[{\"id\":\"1445\",\"type\":\"LinearAxis\"},{\"id\":\"1449\",\"type\":\"Grid\"},{\"id\":\"1450\",\"type\":\"LinearAxis\"},{\"id\":\"1454\",\"type\":\"Grid\"},{\"id\":\"1463\",\"type\":\"BoxAnnotation\"},{\"id\":\"1466\",\"type\":\"TileRenderer\"},{\"id\":\"1471\",\"type\":\"GlyphRenderer\"}],\"title\":{\"id\":\"1491\",\"type\":\"Title\"},\"toolbar\":{\"id\":\"1458\",\"type\":\"Toolbar\"},\"x_range\":{\"id\":\"1437\",\"type\":\"Range1d\"},\"x_scale\":{\"id\":\"1441\",\"type\":\"LinearScale\"},\"y_range\":{\"id\":\"1439\",\"type\":\"Range1d\"},\"y_scale\":{\"id\":\"1443\",\"type\":\"LinearScale\"}},\"id\":\"1436\",\"subtype\":\"Figure\",\"type\":\"Plot\"},{\"attributes\":{},\"id\":\"1455\",\"type\":\"PanTool\"},{\"attributes\":{},\"id\":\"1494\",\"type\":\"BasicTickFormatter\"},{\"attributes\":{},\"id\":\"1496\",\"type\":\"BasicTickFormatter\"},{\"attributes\":{},\"id\":\"1456\",\"type\":\"WheelZoomTool\"},{\"attributes\":{},\"id\":\"1497\",\"type\":\"Selection\"},{\"attributes\":{},\"id\":\"1457\",\"type\":\"ResetTool\"},{\"attributes\":{\"callback\":null,\"end\":-8210000,\"start\":-8242000},\"id\":\"1437\",\"type\":\"Range1d\"},{\"attributes\":{},\"id\":\"1498\",\"type\":\"UnionRenderers\"},{\"attributes\":{\"tile_source\":{\"id\":\"1434\",\"type\":\"WMTSTileSource\"}},\"id\":\"1466\",\"type\":\"TileRenderer\"},{\"attributes\":{\"attribution\":\"Map tiles by <a href=\\\"https://stamen.com\\\">Stamen Design</a>, under <a href=\\\"https://creativecommons.org/licenses/by/3.0\\\">CC BY 3.0</a>. Data by <a href=\\\"https://openstreetmap.org\\\">OpenStreetMap</a>, under <a href=\\\"https://creativecommons.org/licenses/by-sa/3.0\\\">CC BY SA</a>.\",\"url\":\"http://tile.stamen.com/terrain/{Z}/{X}/{Y}.png\"},\"id\":\"1434\",\"type\":\"WMTSTileSource\"},{\"attributes\":{\"callback\":null,\"data\":{},\"selected\":{\"id\":\"1497\",\"type\":\"Selection\"},\"selection_policy\":{\"id\":\"1498\",\"type\":\"UnionRenderers\"}},\"id\":\"1468\",\"type\":\"ColumnDataSource\"},{\"attributes\":{\"fill_alpha\":{\"value\":0.1},\"fill_color\":{\"value\":\"#1f77b4\"},\"line_alpha\":{\"value\":0.1},\"line_color\":{\"value\":\"#1f77b4\"},\"size\":{\"units\":\"screen\",\"value\":5},\"x\":{\"value\":-8235342.458022454},\"y\":{\"value\":4979453.639905763}},\"id\":\"1470\",\"type\":\"Circle\"},{\"attributes\":{\"bottom_units\":\"screen\",\"fill_alpha\":{\"value\":0.5},\"fill_color\":{\"value\":\"lightgrey\"},\"left_units\":\"screen\",\"level\":\"overlay\",\"line_alpha\":{\"value\":1.0},\"line_color\":{\"value\":\"black\"},\"line_dash\":[4,4],\"line_width\":{\"value\":2},\"plot\":null,\"render_mode\":\"css\",\"right_units\":\"screen\",\"top_units\":\"screen\"},\"id\":\"1463\",\"type\":\"BoxAnnotation\"},{\"attributes\":{\"callback\":null,\"end\":4990000,\"start\":4965000},\"id\":\"1439\",\"type\":\"Range1d\"},{\"attributes\":{\"data_source\":{\"id\":\"1468\",\"type\":\"ColumnDataSource\"},\"glyph\":{\"id\":\"1469\",\"type\":\"Circle\"},\"hover_glyph\":null,\"muted_glyph\":null,\"nonselection_glyph\":{\"id\":\"1470\",\"type\":\"Circle\"},\"selection_glyph\":null,\"view\":{\"id\":\"1472\",\"type\":\"CDSView\"}},\"id\":\"1471\",\"type\":\"GlyphRenderer\"},{\"attributes\":{},\"id\":\"1441\",\"type\":\"LinearScale\"},{\"attributes\":{\"fill_color\":{\"value\":\"blue\"},\"line_color\":{\"value\":null},\"size\":{\"units\":\"screen\",\"value\":5},\"x\":{\"value\":-8235342.458022454},\"y\":{\"value\":4979453.639905763}},\"id\":\"1469\",\"type\":\"Circle\"},{\"attributes\":{},\"id\":\"1443\",\"type\":\"LinearScale\"},{\"attributes\":{\"formatter\":{\"id\":\"1494\",\"type\":\"BasicTickFormatter\"},\"plot\":{\"id\":\"1436\",\"subtype\":\"Figure\",\"type\":\"Plot\"},\"ticker\":{\"id\":\"1446\",\"type\":\"BasicTicker\"},\"visible\":false},\"id\":\"1445\",\"type\":\"LinearAxis\"},{\"attributes\":{\"grid_line_color\":{\"value\":null},\"plot\":{\"id\":\"1436\",\"subtype\":\"Figure\",\"type\":\"Plot\"},\"ticker\":{\"id\":\"1446\",\"type\":\"BasicTicker\"}},\"id\":\"1449\",\"type\":\"Grid\"},{\"attributes\":{},\"id\":\"1446\",\"type\":\"BasicTicker\"},{\"attributes\":{\"formatter\":{\"id\":\"1496\",\"type\":\"BasicTickFormatter\"},\"plot\":{\"id\":\"1436\",\"subtype\":\"Figure\",\"type\":\"Plot\"},\"ticker\":{\"id\":\"1451\",\"type\":\"BasicTicker\"},\"visible\":false},\"id\":\"1450\",\"type\":\"LinearAxis\"},{\"attributes\":{\"match_aspect\":true,\"overlay\":{\"id\":\"1463\",\"type\":\"BoxAnnotation\"}},\"id\":\"1462\",\"type\":\"BoxZoomTool\"},{\"attributes\":{\"active_drag\":\"auto\",\"active_inspect\":\"auto\",\"active_multi\":null,\"active_scroll\":\"auto\",\"active_tap\":\"auto\",\"tools\":[{\"id\":\"1455\",\"type\":\"PanTool\"},{\"id\":\"1456\",\"type\":\"WheelZoomTool\"},{\"id\":\"1457\",\"type\":\"ResetTool\"},{\"id\":\"1462\",\"type\":\"BoxZoomTool\"}]},\"id\":\"1458\",\"type\":\"Toolbar\"},{\"attributes\":{},\"id\":\"1451\",\"type\":\"BasicTicker\"},{\"attributes\":{\"source\":{\"id\":\"1468\",\"type\":\"ColumnDataSource\"}},\"id\":\"1472\",\"type\":\"CDSView\"},{\"attributes\":{\"dimension\":1,\"grid_line_color\":{\"value\":null},\"plot\":{\"id\":\"1436\",\"subtype\":\"Figure\",\"type\":\"Plot\"},\"ticker\":{\"id\":\"1451\",\"type\":\"BasicTicker\"}},\"id\":\"1454\",\"type\":\"Grid\"},{\"attributes\":{\"plot\":null,\"text\":\"\"},\"id\":\"1491\",\"type\":\"Title\"}],\"root_ids\":[\"1436\"]},\"title\":\"Bokeh Application\",\"version\":\"1.0.4\"}};\n",
              "  var render_items = [{\"docid\":\"0dd7556c-8791-4614-b444-358832858807\",\"roots\":{\"1436\":\"23eec58a-a773-4d65-9d51-f0ce997e50d9\"}}];\n",
              "  root.Bokeh.embed.embed_items_notebook(docs_json, render_items);\n",
              "\n",
              "  }\n",
              "  if (root.Bokeh !== undefined) {\n",
              "    embed_document(root);\n",
              "  } else {\n",
              "    var attempts = 0;\n",
              "    var timer = setInterval(function(root) {\n",
              "      if (root.Bokeh !== undefined) {\n",
              "        embed_document(root);\n",
              "        clearInterval(timer);\n",
              "      }\n",
              "      attempts++;\n",
              "      if (attempts > 100) {\n",
              "        console.log(\"Bokeh: ERROR: Unable to run BokehJS code because BokehJS library is missing\");\n",
              "        clearInterval(timer);\n",
              "      }\n",
              "    }, 10, root)\n",
              "  }\n",
              "})(window);"
            ],
            "application/vnd.bokehjs_exec.v0+json": ""
          },
          "metadata": {
            "tags": [],
            "application/vnd.bokehjs_exec.v0+json": {
              "id": "1436"
            }
          }
        }
      ]
    },
    {
      "cell_type": "code",
      "metadata": {
        "id": "vskqyijjZBrM",
        "colab_type": "code",
        "colab": {
          "base_uri": "https://localhost:8080/",
          "height": 67
        },
        "outputId": "71a5dd61-cf0d-4b4c-bb38-3115c1c27c0e"
      },
      "source": [
        "dd=da.read_csv('nuevo_trip_data_1.csv', usecols= ['pickup_longitude', 'pickup_latitude'])\n",
        "dd.dtypes"
      ],
      "execution_count": 42,
      "outputs": [
        {
          "output_type": "execute_result",
          "data": {
            "text/plain": [
              "pickup_longitude    float64\n",
              "pickup_latitude     float64\n",
              "dtype: object"
            ]
          },
          "metadata": {
            "tags": []
          },
          "execution_count": 42
        }
      ]
    },
    {
      "cell_type": "code",
      "metadata": {
        "id": "45GQ_xpvtfqP",
        "colab_type": "code",
        "colab": {
          "base_uri": "https://localhost:8080/",
          "height": 34
        },
        "outputId": "9c882fcf-d06b-493e-ba24-b6bc916b2e59"
      },
      "source": [
        "!pip install pyproj\n",
        "from pyproj import Proj, transform\n",
        "import pyproj"
      ],
      "execution_count": 93,
      "outputs": [
        {
          "output_type": "stream",
          "text": [
            "Requirement already satisfied: pyproj in /usr/local/lib/python3.6/dist-packages (2.2.1)\n"
          ],
          "name": "stdout"
        }
      ]
    },
    {
      "cell_type": "code",
      "metadata": {
        "id": "KDvbUUbOxL3e",
        "colab_type": "code",
        "colab": {}
      },
      "source": [
        "project_projection = pyproj.Proj(\"+init=EPSG:4326\")  # wgs84\n",
        "google_projection = pyproj.Proj(\"+init=EPSG:3857\")  # default google projection\n",
        "dd=da.read_csv('nuevo_trip_data_1.csv', usecols= ['pickup_longitude', 'pickup_latitude'])\n",
        "d=dd['pickup_longitude']\n",
        "c=dd['pickup_latitude']\n",
        "d.compute()\n",
        "c.compute()\n",
        "puo,pua = pyproj.transform(google_projection, project_projection, d, c)"
      ],
      "execution_count": 0,
      "outputs": []
    },
    {
      "cell_type": "code",
      "metadata": {
        "id": "6QpPsmoByRpZ",
        "colab_type": "code",
        "colab": {}
      },
      "source": [
        ""
      ],
      "execution_count": 0,
      "outputs": []
    },
    {
      "cell_type": "code",
      "metadata": {
        "id": "EUagEiIvEHlr",
        "colab_type": "code",
        "colab": {
          "base_uri": "https://localhost:8080/",
          "height": 326
        },
        "outputId": "9199e24e-0349-4f60-aec8-c8686137bb7a"
      },
      "source": [
        "import math\n",
        "import numpy as np\n",
        "RADIUS = 6378137.0\n",
        "from bokeh.tile_providers import STAMEN_TERRAIN\n",
        "output_notebook()\n",
        "dd=da.read_csv('nuevo_trip_data_1.csv', usecols= ['medallion', 'pickup_datetime','pickup_longitude', 'pickup_latitude'])\n",
        "#dd['viajesLargos']=dd.viajesLargos.map(lambda viajesLargos: 'y' if viajesLargos>1200 else 'n')\n",
        "#dd['pickup_longitude']=dd.pickup_longitude.map(lambda x: math.radians(np.float64(x)) * RADIUS)\n",
        "#dd['pickup_latitude']=dd.pickup_latitude.map(lambda y: math.radians(np.float64(y)) * RADIUS)\n",
        "muestras = dd.sample(frac=.50)\n",
        "p= base_plot()\n",
        "p.add_tile(STAMEN_TERRAIN)\n",
        "p.circle(x=lon2x(muestras['pickup_longitude']), y=lat2y(muestras['pickup_latitude']), **options)\n",
        "show(p)"
      ],
      "execution_count": 120,
      "outputs": [
        {
          "output_type": "display_data",
          "data": {
            "text/html": [
              "\n",
              "    <div class=\"bk-root\">\n",
              "        <a href=\"https://bokeh.pydata.org\" target=\"_blank\" class=\"bk-logo bk-logo-small bk-logo-notebook\"></a>\n",
              "        <span id=\"1877\">Loading BokehJS ...</span>\n",
              "    </div>"
            ]
          },
          "metadata": {
            "tags": []
          }
        },
        {
          "output_type": "display_data",
          "data": {
            "application/javascript": [
              "\n",
              "(function(root) {\n",
              "  function now() {\n",
              "    return new Date();\n",
              "  }\n",
              "\n",
              "  var force = true;\n",
              "\n",
              "  if (typeof (root._bokeh_onload_callbacks) === \"undefined\" || force === true) {\n",
              "    root._bokeh_onload_callbacks = [];\n",
              "    root._bokeh_is_loading = undefined;\n",
              "  }\n",
              "\n",
              "  var JS_MIME_TYPE = 'application/javascript';\n",
              "  var HTML_MIME_TYPE = 'text/html';\n",
              "  var EXEC_MIME_TYPE = 'application/vnd.bokehjs_exec.v0+json';\n",
              "  var CLASS_NAME = 'output_bokeh rendered_html';\n",
              "\n",
              "  /**\n",
              "   * Render data to the DOM node\n",
              "   */\n",
              "  function render(props, node) {\n",
              "    var script = document.createElement(\"script\");\n",
              "    node.appendChild(script);\n",
              "  }\n",
              "\n",
              "  /**\n",
              "   * Handle when an output is cleared or removed\n",
              "   */\n",
              "  function handleClearOutput(event, handle) {\n",
              "    var cell = handle.cell;\n",
              "\n",
              "    var id = cell.output_area._bokeh_element_id;\n",
              "    var server_id = cell.output_area._bokeh_server_id;\n",
              "    // Clean up Bokeh references\n",
              "    if (id != null && id in Bokeh.index) {\n",
              "      Bokeh.index[id].model.document.clear();\n",
              "      delete Bokeh.index[id];\n",
              "    }\n",
              "\n",
              "    if (server_id !== undefined) {\n",
              "      // Clean up Bokeh references\n",
              "      var cmd = \"from bokeh.io.state import curstate; print(curstate().uuid_to_server['\" + server_id + \"'].get_sessions()[0].document.roots[0]._id)\";\n",
              "      cell.notebook.kernel.execute(cmd, {\n",
              "        iopub: {\n",
              "          output: function(msg) {\n",
              "            var id = msg.content.text.trim();\n",
              "            if (id in Bokeh.index) {\n",
              "              Bokeh.index[id].model.document.clear();\n",
              "              delete Bokeh.index[id];\n",
              "            }\n",
              "          }\n",
              "        }\n",
              "      });\n",
              "      // Destroy server and session\n",
              "      var cmd = \"import bokeh.io.notebook as ion; ion.destroy_server('\" + server_id + \"')\";\n",
              "      cell.notebook.kernel.execute(cmd);\n",
              "    }\n",
              "  }\n",
              "\n",
              "  /**\n",
              "   * Handle when a new output is added\n",
              "   */\n",
              "  function handleAddOutput(event, handle) {\n",
              "    var output_area = handle.output_area;\n",
              "    var output = handle.output;\n",
              "\n",
              "    // limit handleAddOutput to display_data with EXEC_MIME_TYPE content only\n",
              "    if ((output.output_type != \"display_data\") || (!output.data.hasOwnProperty(EXEC_MIME_TYPE))) {\n",
              "      return\n",
              "    }\n",
              "\n",
              "    var toinsert = output_area.element.find(\".\" + CLASS_NAME.split(' ')[0]);\n",
              "\n",
              "    if (output.metadata[EXEC_MIME_TYPE][\"id\"] !== undefined) {\n",
              "      toinsert[toinsert.length - 1].firstChild.textContent = output.data[JS_MIME_TYPE];\n",
              "      // store reference to embed id on output_area\n",
              "      output_area._bokeh_element_id = output.metadata[EXEC_MIME_TYPE][\"id\"];\n",
              "    }\n",
              "    if (output.metadata[EXEC_MIME_TYPE][\"server_id\"] !== undefined) {\n",
              "      var bk_div = document.createElement(\"div\");\n",
              "      bk_div.innerHTML = output.data[HTML_MIME_TYPE];\n",
              "      var script_attrs = bk_div.children[0].attributes;\n",
              "      for (var i = 0; i < script_attrs.length; i++) {\n",
              "        toinsert[toinsert.length - 1].firstChild.setAttribute(script_attrs[i].name, script_attrs[i].value);\n",
              "      }\n",
              "      // store reference to server id on output_area\n",
              "      output_area._bokeh_server_id = output.metadata[EXEC_MIME_TYPE][\"server_id\"];\n",
              "    }\n",
              "  }\n",
              "\n",
              "  function register_renderer(events, OutputArea) {\n",
              "\n",
              "    function append_mime(data, metadata, element) {\n",
              "      // create a DOM node to render to\n",
              "      var toinsert = this.create_output_subarea(\n",
              "        metadata,\n",
              "        CLASS_NAME,\n",
              "        EXEC_MIME_TYPE\n",
              "      );\n",
              "      this.keyboard_manager.register_events(toinsert);\n",
              "      // Render to node\n",
              "      var props = {data: data, metadata: metadata[EXEC_MIME_TYPE]};\n",
              "      render(props, toinsert[toinsert.length - 1]);\n",
              "      element.append(toinsert);\n",
              "      return toinsert\n",
              "    }\n",
              "\n",
              "    /* Handle when an output is cleared or removed */\n",
              "    events.on('clear_output.CodeCell', handleClearOutput);\n",
              "    events.on('delete.Cell', handleClearOutput);\n",
              "\n",
              "    /* Handle when a new output is added */\n",
              "    events.on('output_added.OutputArea', handleAddOutput);\n",
              "\n",
              "    /**\n",
              "     * Register the mime type and append_mime function with output_area\n",
              "     */\n",
              "    OutputArea.prototype.register_mime_type(EXEC_MIME_TYPE, append_mime, {\n",
              "      /* Is output safe? */\n",
              "      safe: true,\n",
              "      /* Index of renderer in `output_area.display_order` */\n",
              "      index: 0\n",
              "    });\n",
              "  }\n",
              "\n",
              "  // register the mime type if in Jupyter Notebook environment and previously unregistered\n",
              "  if (root.Jupyter !== undefined) {\n",
              "    var events = require('base/js/events');\n",
              "    var OutputArea = require('notebook/js/outputarea').OutputArea;\n",
              "\n",
              "    if (OutputArea.prototype.mime_types().indexOf(EXEC_MIME_TYPE) == -1) {\n",
              "      register_renderer(events, OutputArea);\n",
              "    }\n",
              "  }\n",
              "\n",
              "  \n",
              "  if (typeof (root._bokeh_timeout) === \"undefined\" || force === true) {\n",
              "    root._bokeh_timeout = Date.now() + 5000;\n",
              "    root._bokeh_failed_load = false;\n",
              "  }\n",
              "\n",
              "  var NB_LOAD_WARNING = {'data': {'text/html':\n",
              "     \"<div style='background-color: #fdd'>\\n\"+\n",
              "     \"<p>\\n\"+\n",
              "     \"BokehJS does not appear to have successfully loaded. If loading BokehJS from CDN, this \\n\"+\n",
              "     \"may be due to a slow or bad network connection. Possible fixes:\\n\"+\n",
              "     \"</p>\\n\"+\n",
              "     \"<ul>\\n\"+\n",
              "     \"<li>re-rerun `output_notebook()` to attempt to load from CDN again, or</li>\\n\"+\n",
              "     \"<li>use INLINE resources instead, as so:</li>\\n\"+\n",
              "     \"</ul>\\n\"+\n",
              "     \"<code>\\n\"+\n",
              "     \"from bokeh.resources import INLINE\\n\"+\n",
              "     \"output_notebook(resources=INLINE)\\n\"+\n",
              "     \"</code>\\n\"+\n",
              "     \"</div>\"}};\n",
              "\n",
              "  function display_loaded() {\n",
              "    var el = document.getElementById(\"1877\");\n",
              "    if (el != null) {\n",
              "      el.textContent = \"BokehJS is loading...\";\n",
              "    }\n",
              "    if (root.Bokeh !== undefined) {\n",
              "      if (el != null) {\n",
              "        el.textContent = \"BokehJS \" + root.Bokeh.version + \" successfully loaded.\";\n",
              "      }\n",
              "    } else if (Date.now() < root._bokeh_timeout) {\n",
              "      setTimeout(display_loaded, 100)\n",
              "    }\n",
              "  }\n",
              "\n",
              "\n",
              "  function run_callbacks() {\n",
              "    try {\n",
              "      root._bokeh_onload_callbacks.forEach(function(callback) { callback() });\n",
              "    }\n",
              "    finally {\n",
              "      delete root._bokeh_onload_callbacks\n",
              "    }\n",
              "    console.info(\"Bokeh: all callbacks have finished\");\n",
              "  }\n",
              "\n",
              "  function load_libs(js_urls, callback) {\n",
              "    root._bokeh_onload_callbacks.push(callback);\n",
              "    if (root._bokeh_is_loading > 0) {\n",
              "      console.log(\"Bokeh: BokehJS is being loaded, scheduling callback at\", now());\n",
              "      return null;\n",
              "    }\n",
              "    if (js_urls == null || js_urls.length === 0) {\n",
              "      run_callbacks();\n",
              "      return null;\n",
              "    }\n",
              "    console.log(\"Bokeh: BokehJS not loaded, scheduling load and callback at\", now());\n",
              "    root._bokeh_is_loading = js_urls.length;\n",
              "    for (var i = 0; i < js_urls.length; i++) {\n",
              "      var url = js_urls[i];\n",
              "      var s = document.createElement('script');\n",
              "      s.src = url;\n",
              "      s.async = false;\n",
              "      s.onreadystatechange = s.onload = function() {\n",
              "        root._bokeh_is_loading--;\n",
              "        if (root._bokeh_is_loading === 0) {\n",
              "          console.log(\"Bokeh: all BokehJS libraries loaded\");\n",
              "          run_callbacks()\n",
              "        }\n",
              "      };\n",
              "      s.onerror = function() {\n",
              "        console.warn(\"failed to load library \" + url);\n",
              "      };\n",
              "      console.log(\"Bokeh: injecting script tag for BokehJS library: \", url);\n",
              "      document.getElementsByTagName(\"head\")[0].appendChild(s);\n",
              "    }\n",
              "  };var element = document.getElementById(\"1877\");\n",
              "  if (element == null) {\n",
              "    console.log(\"Bokeh: ERROR: autoload.js configured with elementid '1877' but no matching script tag was found. \")\n",
              "    return false;\n",
              "  }\n",
              "\n",
              "  var js_urls = [\"https://cdn.pydata.org/bokeh/release/bokeh-1.0.4.min.js\", \"https://cdn.pydata.org/bokeh/release/bokeh-widgets-1.0.4.min.js\", \"https://cdn.pydata.org/bokeh/release/bokeh-tables-1.0.4.min.js\", \"https://cdn.pydata.org/bokeh/release/bokeh-gl-1.0.4.min.js\"];\n",
              "\n",
              "  var inline_js = [\n",
              "    function(Bokeh) {\n",
              "      Bokeh.set_log_level(\"info\");\n",
              "    },\n",
              "    \n",
              "    function(Bokeh) {\n",
              "      \n",
              "    },\n",
              "    function(Bokeh) {\n",
              "      console.log(\"Bokeh: injecting CSS: https://cdn.pydata.org/bokeh/release/bokeh-1.0.4.min.css\");\n",
              "      Bokeh.embed.inject_css(\"https://cdn.pydata.org/bokeh/release/bokeh-1.0.4.min.css\");\n",
              "      console.log(\"Bokeh: injecting CSS: https://cdn.pydata.org/bokeh/release/bokeh-widgets-1.0.4.min.css\");\n",
              "      Bokeh.embed.inject_css(\"https://cdn.pydata.org/bokeh/release/bokeh-widgets-1.0.4.min.css\");\n",
              "      console.log(\"Bokeh: injecting CSS: https://cdn.pydata.org/bokeh/release/bokeh-tables-1.0.4.min.css\");\n",
              "      Bokeh.embed.inject_css(\"https://cdn.pydata.org/bokeh/release/bokeh-tables-1.0.4.min.css\");\n",
              "    }\n",
              "  ];\n",
              "\n",
              "  function run_inline_js() {\n",
              "    \n",
              "    if ((root.Bokeh !== undefined) || (force === true)) {\n",
              "      for (var i = 0; i < inline_js.length; i++) {\n",
              "        inline_js[i].call(root, root.Bokeh);\n",
              "      }if (force === true) {\n",
              "        display_loaded();\n",
              "      }} else if (Date.now() < root._bokeh_timeout) {\n",
              "      setTimeout(run_inline_js, 100);\n",
              "    } else if (!root._bokeh_failed_load) {\n",
              "      console.log(\"Bokeh: BokehJS failed to load within specified timeout.\");\n",
              "      root._bokeh_failed_load = true;\n",
              "    } else if (force !== true) {\n",
              "      var cell = $(document.getElementById(\"1877\")).parents('.cell').data().cell;\n",
              "      cell.output_area.append_execute_result(NB_LOAD_WARNING)\n",
              "    }\n",
              "\n",
              "  }\n",
              "\n",
              "  if (root._bokeh_is_loading === 0) {\n",
              "    console.log(\"Bokeh: BokehJS loaded, going straight to plotting\");\n",
              "    run_inline_js();\n",
              "  } else {\n",
              "    load_libs(js_urls, function() {\n",
              "      console.log(\"Bokeh: BokehJS plotting callback run at\", now());\n",
              "      run_inline_js();\n",
              "    });\n",
              "  }\n",
              "}(window));"
            ],
            "application/vnd.bokehjs_load.v0+json": "\n(function(root) {\n  function now() {\n    return new Date();\n  }\n\n  var force = true;\n\n  if (typeof (root._bokeh_onload_callbacks) === \"undefined\" || force === true) {\n    root._bokeh_onload_callbacks = [];\n    root._bokeh_is_loading = undefined;\n  }\n\n  \n\n  \n  if (typeof (root._bokeh_timeout) === \"undefined\" || force === true) {\n    root._bokeh_timeout = Date.now() + 5000;\n    root._bokeh_failed_load = false;\n  }\n\n  var NB_LOAD_WARNING = {'data': {'text/html':\n     \"<div style='background-color: #fdd'>\\n\"+\n     \"<p>\\n\"+\n     \"BokehJS does not appear to have successfully loaded. If loading BokehJS from CDN, this \\n\"+\n     \"may be due to a slow or bad network connection. Possible fixes:\\n\"+\n     \"</p>\\n\"+\n     \"<ul>\\n\"+\n     \"<li>re-rerun `output_notebook()` to attempt to load from CDN again, or</li>\\n\"+\n     \"<li>use INLINE resources instead, as so:</li>\\n\"+\n     \"</ul>\\n\"+\n     \"<code>\\n\"+\n     \"from bokeh.resources import INLINE\\n\"+\n     \"output_notebook(resources=INLINE)\\n\"+\n     \"</code>\\n\"+\n     \"</div>\"}};\n\n  function display_loaded() {\n    var el = document.getElementById(\"1877\");\n    if (el != null) {\n      el.textContent = \"BokehJS is loading...\";\n    }\n    if (root.Bokeh !== undefined) {\n      if (el != null) {\n        el.textContent = \"BokehJS \" + root.Bokeh.version + \" successfully loaded.\";\n      }\n    } else if (Date.now() < root._bokeh_timeout) {\n      setTimeout(display_loaded, 100)\n    }\n  }\n\n\n  function run_callbacks() {\n    try {\n      root._bokeh_onload_callbacks.forEach(function(callback) { callback() });\n    }\n    finally {\n      delete root._bokeh_onload_callbacks\n    }\n    console.info(\"Bokeh: all callbacks have finished\");\n  }\n\n  function load_libs(js_urls, callback) {\n    root._bokeh_onload_callbacks.push(callback);\n    if (root._bokeh_is_loading > 0) {\n      console.log(\"Bokeh: BokehJS is being loaded, scheduling callback at\", now());\n      return null;\n    }\n    if (js_urls == null || js_urls.length === 0) {\n      run_callbacks();\n      return null;\n    }\n    console.log(\"Bokeh: BokehJS not loaded, scheduling load and callback at\", now());\n    root._bokeh_is_loading = js_urls.length;\n    for (var i = 0; i < js_urls.length; i++) {\n      var url = js_urls[i];\n      var s = document.createElement('script');\n      s.src = url;\n      s.async = false;\n      s.onreadystatechange = s.onload = function() {\n        root._bokeh_is_loading--;\n        if (root._bokeh_is_loading === 0) {\n          console.log(\"Bokeh: all BokehJS libraries loaded\");\n          run_callbacks()\n        }\n      };\n      s.onerror = function() {\n        console.warn(\"failed to load library \" + url);\n      };\n      console.log(\"Bokeh: injecting script tag for BokehJS library: \", url);\n      document.getElementsByTagName(\"head\")[0].appendChild(s);\n    }\n  };var element = document.getElementById(\"1877\");\n  if (element == null) {\n    console.log(\"Bokeh: ERROR: autoload.js configured with elementid '1877' but no matching script tag was found. \")\n    return false;\n  }\n\n  var js_urls = [\"https://cdn.pydata.org/bokeh/release/bokeh-1.0.4.min.js\", \"https://cdn.pydata.org/bokeh/release/bokeh-widgets-1.0.4.min.js\", \"https://cdn.pydata.org/bokeh/release/bokeh-tables-1.0.4.min.js\", \"https://cdn.pydata.org/bokeh/release/bokeh-gl-1.0.4.min.js\"];\n\n  var inline_js = [\n    function(Bokeh) {\n      Bokeh.set_log_level(\"info\");\n    },\n    \n    function(Bokeh) {\n      \n    },\n    function(Bokeh) {\n      console.log(\"Bokeh: injecting CSS: https://cdn.pydata.org/bokeh/release/bokeh-1.0.4.min.css\");\n      Bokeh.embed.inject_css(\"https://cdn.pydata.org/bokeh/release/bokeh-1.0.4.min.css\");\n      console.log(\"Bokeh: injecting CSS: https://cdn.pydata.org/bokeh/release/bokeh-widgets-1.0.4.min.css\");\n      Bokeh.embed.inject_css(\"https://cdn.pydata.org/bokeh/release/bokeh-widgets-1.0.4.min.css\");\n      console.log(\"Bokeh: injecting CSS: https://cdn.pydata.org/bokeh/release/bokeh-tables-1.0.4.min.css\");\n      Bokeh.embed.inject_css(\"https://cdn.pydata.org/bokeh/release/bokeh-tables-1.0.4.min.css\");\n    }\n  ];\n\n  function run_inline_js() {\n    \n    if ((root.Bokeh !== undefined) || (force === true)) {\n      for (var i = 0; i < inline_js.length; i++) {\n        inline_js[i].call(root, root.Bokeh);\n      }if (force === true) {\n        display_loaded();\n      }} else if (Date.now() < root._bokeh_timeout) {\n      setTimeout(run_inline_js, 100);\n    } else if (!root._bokeh_failed_load) {\n      console.log(\"Bokeh: BokehJS failed to load within specified timeout.\");\n      root._bokeh_failed_load = true;\n    } else if (force !== true) {\n      var cell = $(document.getElementById(\"1877\")).parents('.cell').data().cell;\n      cell.output_area.append_execute_result(NB_LOAD_WARNING)\n    }\n\n  }\n\n  if (root._bokeh_is_loading === 0) {\n    console.log(\"Bokeh: BokehJS loaded, going straight to plotting\");\n    run_inline_js();\n  } else {\n    load_libs(js_urls, function() {\n      console.log(\"Bokeh: BokehJS plotting callback run at\", now());\n      run_inline_js();\n    });\n  }\n}(window));"
          },
          "metadata": {
            "tags": []
          }
        },
        {
          "output_type": "error",
          "ename": "TypeError",
          "evalue": "ignored",
          "traceback": [
            "\u001b[0;31m---------------------------------------------------------------------------\u001b[0m",
            "\u001b[0;31mTypeError\u001b[0m                                 Traceback (most recent call last)",
            "\u001b[0;32m<ipython-input-120-576763a55db2>\u001b[0m in \u001b[0;36m<module>\u001b[0;34m()\u001b[0m\n\u001b[1;32m     11\u001b[0m \u001b[0mp\u001b[0m\u001b[0;34m=\u001b[0m \u001b[0mbase_plot\u001b[0m\u001b[0;34m(\u001b[0m\u001b[0;34m)\u001b[0m\u001b[0;34m\u001b[0m\u001b[0;34m\u001b[0m\u001b[0m\n\u001b[1;32m     12\u001b[0m \u001b[0mp\u001b[0m\u001b[0;34m.\u001b[0m\u001b[0madd_tile\u001b[0m\u001b[0;34m(\u001b[0m\u001b[0mSTAMEN_TERRAIN\u001b[0m\u001b[0;34m)\u001b[0m\u001b[0;34m\u001b[0m\u001b[0;34m\u001b[0m\u001b[0m\n\u001b[0;32m---> 13\u001b[0;31m \u001b[0mp\u001b[0m\u001b[0;34m.\u001b[0m\u001b[0mcircle\u001b[0m\u001b[0;34m(\u001b[0m\u001b[0mx\u001b[0m\u001b[0;34m=\u001b[0m\u001b[0mlon2x\u001b[0m\u001b[0;34m(\u001b[0m\u001b[0mmuestras\u001b[0m\u001b[0;34m[\u001b[0m\u001b[0;34m'pickup_longitude'\u001b[0m\u001b[0;34m]\u001b[0m\u001b[0;34m)\u001b[0m\u001b[0;34m,\u001b[0m \u001b[0my\u001b[0m\u001b[0;34m=\u001b[0m\u001b[0mlat2y\u001b[0m\u001b[0;34m(\u001b[0m\u001b[0mmuestras\u001b[0m\u001b[0;34m[\u001b[0m\u001b[0;34m'pickup_latitude'\u001b[0m\u001b[0;34m]\u001b[0m\u001b[0;34m)\u001b[0m\u001b[0;34m,\u001b[0m \u001b[0;34m**\u001b[0m\u001b[0moptions\u001b[0m\u001b[0;34m)\u001b[0m\u001b[0;34m\u001b[0m\u001b[0;34m\u001b[0m\u001b[0m\n\u001b[0m\u001b[1;32m     14\u001b[0m \u001b[0mshow\u001b[0m\u001b[0;34m(\u001b[0m\u001b[0mp\u001b[0m\u001b[0;34m)\u001b[0m\u001b[0;34m\u001b[0m\u001b[0;34m\u001b[0m\u001b[0m\n",
            "\u001b[0;32m<ipython-input-83-9393d5a89523>\u001b[0m in \u001b[0;36mlon2x\u001b[0;34m(a)\u001b[0m\n\u001b[1;32m      6\u001b[0m \u001b[0;34m\u001b[0m\u001b[0m\n\u001b[1;32m      7\u001b[0m \u001b[0;32mdef\u001b[0m \u001b[0mlon2x\u001b[0m\u001b[0;34m(\u001b[0m\u001b[0ma\u001b[0m\u001b[0;34m)\u001b[0m\u001b[0;34m:\u001b[0m\u001b[0;34m\u001b[0m\u001b[0;34m\u001b[0m\u001b[0m\n\u001b[0;32m----> 8\u001b[0;31m   \u001b[0;32mreturn\u001b[0m \u001b[0mmath\u001b[0m\u001b[0;34m.\u001b[0m\u001b[0mradians\u001b[0m\u001b[0;34m(\u001b[0m\u001b[0ma\u001b[0m\u001b[0;34m)\u001b[0m \u001b[0;34m*\u001b[0m \u001b[0mRADIUS\u001b[0m\u001b[0;34m\u001b[0m\u001b[0;34m\u001b[0m\u001b[0m\n\u001b[0m",
            "\u001b[0;31mTypeError\u001b[0m: Series.__float__ returned non-float (type function)"
          ]
        }
      ]
    },
    {
      "cell_type": "code",
      "metadata": {
        "id": "HrDF0VcpQtir",
        "colab_type": "code",
        "colab": {
          "base_uri": "https://localhost:8080/",
          "height": 34
        },
        "outputId": "ba0771c4-4606-4411-dfe1-f9717fd87bc4"
      },
      "source": [
        "!pip install pyproj"
      ],
      "execution_count": 126,
      "outputs": [
        {
          "output_type": "stream",
          "text": [
            "Requirement already satisfied: pyproj in /usr/local/lib/python3.6/dist-packages (2.2.1)\n"
          ],
          "name": "stdout"
        }
      ]
    },
    {
      "cell_type": "code",
      "metadata": {
        "id": "iK2NG3ntQw5q",
        "colab_type": "code",
        "colab": {}
      },
      "source": [
        "import pyproj\n",
        "from pyproj import Proj, transform\n",
        "from bokeh.models import BoxZoomTool\n",
        "from bokeh.plotting import figure, output_notebook, show\n",
        "from bokeh.tile_providers import STAMEN_TERRAIN\n",
        "import dask.dataframe as dd"
      ],
      "execution_count": 0,
      "outputs": []
    },
    {
      "cell_type": "code",
      "metadata": {
        "id": "GXDYqeHXQh9D",
        "colab_type": "code",
        "colab": {}
      },
      "source": [
        "colores = [\"red\", \"green\", \"blue\", \"gray\", \"pink\", \"orange\"]\n",
        "dias = [\"Lunes\", \"Martes\", \"Miercoles\", \"jueves\", \"viernes\",\"Sabado\", \"Domingo\"]"
      ],
      "execution_count": 0,
      "outputs": []
    },
    {
      "cell_type": "code",
      "metadata": {
        "id": "Hdjh5HdbENVd",
        "colab_type": "code",
        "colab": {}
      },
      "source": [
        "transformacion = lambda x, y: transform(Proj(init='epsg:4326'), Proj(init='epsg:3857'), x, y)"
      ],
      "execution_count": 0,
      "outputs": []
    },
    {
      "cell_type": "code",
      "metadata": {
        "id": "TCdYN7eWQABU",
        "colab_type": "code",
        "colab": {}
      },
      "source": [
        "count = 0"
      ],
      "execution_count": 0,
      "outputs": []
    },
    {
      "cell_type": "code",
      "metadata": {
        "id": "euH0smLqQIhX",
        "colab_type": "code",
        "colab": {}
      },
      "source": [
        ""
      ],
      "execution_count": 0,
      "outputs": []
    },
    {
      "cell_type": "code",
      "metadata": {
        "id": "kj0chzPnQNtR",
        "colab_type": "code",
        "colab": {}
      },
      "source": [
        ""
      ],
      "execution_count": 0,
      "outputs": []
    }
  ]
}