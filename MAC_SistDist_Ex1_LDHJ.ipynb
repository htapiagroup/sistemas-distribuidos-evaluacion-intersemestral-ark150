{
  "nbformat": 4,
  "nbformat_minor": 0,
  "metadata": {
    "colab": {
      "name": "MAC_SistDist_Ex1_LDHJ.ipynb",
      "version": "0.3.2",
      "provenance": [],
      "collapsed_sections": [],
      "toc_visible": true,
      "include_colab_link": true
    },
    "kernelspec": {
      "name": "python3",
      "display_name": "Python 3"
    }
  },
  "cells": [
    {
      "cell_type": "markdown",
      "metadata": {
        "id": "view-in-github",
        "colab_type": "text"
      },
      "source": [
        "<a href=\"https://colab.research.google.com/github/htapiagroup/sistemas-distribuidos-evaluacion-intersemestral-ark150/blob/master/MAC_SistDist_Ex1_LDHJ.ipynb\" target=\"_parent\"><img src=\"https://colab.research.google.com/assets/colab-badge.svg\" alt=\"Open In Colab\"/></a>"
      ]
    },
    {
      "cell_type": "markdown",
      "metadata": {
        "id": "4facps36SbDZ",
        "colab_type": "text"
      },
      "source": [
        "##Nombre: Luis Daniel Hernandez Jimenez\n",
        "\n",
        "Se realizo en conjunto con:\n",
        "\n",
        "David Cobos\n",
        "\n",
        "Samuel Baez Herrera\n",
        "\n",
        "Alexis Martinez Arteaga\n",
        "\n",
        "Lorrain Eugenio Giddings Soto\n",
        "\n",
        "Yoselin Aracely Campos Sacramento\n",
        "\n",
        "Ana Margarita Reyes Hernandez\n",
        "\n",
        "Aguilar Hernandez Joaquin\n",
        "\n",
        "Georgina Valenzuela Carrasco\n",
        "\n",
        "Horacio Tapia McClung"
      ]
    },
    {
      "cell_type": "markdown",
      "metadata": {
        "id": "umA2ktya9vrw",
        "colab_type": "text"
      },
      "source": [
        "Adquirir los datos.\n",
        "\n",
        "El conjunto de datos con el que van a trabajar esta disponibles en este enlace y consiste en 12 archivos de texto que tiene informacion del viajes de taxis en la ciudad de NY durante el 2013.\n",
        "\n",
        "En la red interna de LANIA usando cable la descarga del archivo comprimido desde el enlace tomó entre 5 y 10 minutos. Tomen sus provisiones\n",
        "\n",
        "El archivo comprimido tiene un tamaño de aproximadamente 4G, el tamaño de archivo mensual oscila entre 2.0 y 2.5G. La base de datos completa es de aproximadamente 30G.\n",
        "\n",
        "Una vez descargado el archivo pueden descomprimirlo usando la siguiente instruccion\n",
        "!7z x trip_data.7z -o/content/ sin embargo si intentan descomprimir todos los archivos en su sesion se van a terminar el espacio de disco disponible. \n",
        "\n",
        "En esta practica solo van a trabajar con datos correspondientes a los primeros cuatro meses."
      ]
    },
    {
      "cell_type": "code",
      "metadata": {
        "id": "W9NjXWdmXJui",
        "colab_type": "code",
        "colab": {
          "base_uri": "https://localhost:8080/",
          "height": 121
        },
        "outputId": "a7b503c6-f9a0-4e60-b99a-d86b8b844d2f"
      },
      "source": [
        "# Ejecuta esta celda para activar Google Drive.\n",
        "from google.colab import drive\n",
        "drive.mount('/content/drive')"
      ],
      "execution_count": 1,
      "outputs": [
        {
          "output_type": "stream",
          "text": [
            "Go to this URL in a browser: https://accounts.google.com/o/oauth2/auth?client_id=947318989803-6bn6qk8qdgf4n4g3pfee6491hc0brc4i.apps.googleusercontent.com&redirect_uri=urn%3Aietf%3Awg%3Aoauth%3A2.0%3Aoob&scope=email%20https%3A%2F%2Fwww.googleapis.com%2Fauth%2Fdocs.test%20https%3A%2F%2Fwww.googleapis.com%2Fauth%2Fdrive%20https%3A%2F%2Fwww.googleapis.com%2Fauth%2Fdrive.photos.readonly%20https%3A%2F%2Fwww.googleapis.com%2Fauth%2Fpeopleapi.readonly&response_type=code\n",
            "\n",
            "Enter your authorization code:\n",
            "··········\n",
            "Mounted at /content/drive\n"
          ],
          "name": "stdout"
        }
      ]
    },
    {
      "cell_type": "code",
      "metadata": {
        "id": "PHjgQuVsYw7R",
        "colab_type": "code",
        "colab": {
          "base_uri": "https://localhost:8080/",
          "height": 34
        },
        "outputId": "e1ffb962-4458-4a61-850d-a2b195871d3a"
      },
      "source": [
        "cd drive"
      ],
      "execution_count": 1,
      "outputs": [
        {
          "output_type": "stream",
          "text": [
            "/content/drive\n"
          ],
          "name": "stdout"
        }
      ]
    },
    {
      "cell_type": "code",
      "metadata": {
        "id": "Cq1oNWa_Y91P",
        "colab_type": "code",
        "colab": {
          "base_uri": "https://localhost:8080/",
          "height": 34
        },
        "outputId": "94f7387a-45c0-4a54-edf5-2092c0e77090"
      },
      "source": [
        "cd My\\ Drive/"
      ],
      "execution_count": 2,
      "outputs": [
        {
          "output_type": "stream",
          "text": [
            "/content/drive/My Drive\n"
          ],
          "name": "stdout"
        }
      ]
    },
    {
      "cell_type": "code",
      "metadata": {
        "id": "3-vzdLkgZDqD",
        "colab_type": "code",
        "colab": {
          "base_uri": "https://localhost:8080/",
          "height": 34
        },
        "outputId": "ff6bdb38-48d9-45e6-f1ec-8f8a9cda0a36"
      },
      "source": [
        "cd 'Colab Notebooks'"
      ],
      "execution_count": 3,
      "outputs": [
        {
          "output_type": "stream",
          "text": [
            "/content/drive/My Drive/Colab Notebooks\n"
          ],
          "name": "stdout"
        }
      ]
    },
    {
      "cell_type": "code",
      "metadata": {
        "id": "j1t9MPuRdWo2",
        "colab_type": "code",
        "colab": {
          "base_uri": "https://localhost:8080/",
          "height": 34
        },
        "outputId": "4b53c059-f905-42d5-c474-17f005c3c1c5"
      },
      "source": [
        "cd data"
      ],
      "execution_count": 4,
      "outputs": [
        {
          "output_type": "stream",
          "text": [
            "/content/drive/My Drive/Colab Notebooks/data\n"
          ],
          "name": "stdout"
        }
      ]
    },
    {
      "cell_type": "code",
      "metadata": {
        "id": "pHQ6iBJTJqj4",
        "colab_type": "code",
        "outputId": "58cecb8f-86e7-4de2-c5b6-e9e96efa776f",
        "colab": {
          "base_uri": "https://localhost:8080/",
          "height": 286
        }
      },
      "source": [
        "!wget https://archive.org/download/nycTaxiTripData2013/trip_data.7z"
      ],
      "execution_count": 13,
      "outputs": [
        {
          "output_type": "stream",
          "text": [
            "--2019-06-24 21:23:28--  https://archive.org/download/nycTaxiTripData2013/trip_data.7z\n",
            "Resolving archive.org (archive.org)... 207.241.224.2\n",
            "Connecting to archive.org (archive.org)|207.241.224.2|:443... connected.\n",
            "HTTP request sent, awaiting response... 302 Found\n",
            "Location: https://ia802501.us.archive.org/1/items/nycTaxiTripData2013/trip_data.7z [following]\n",
            "--2019-06-24 21:23:28--  https://ia802501.us.archive.org/1/items/nycTaxiTripData2013/trip_data.7z\n",
            "Resolving ia802501.us.archive.org (ia802501.us.archive.org)... 207.241.228.191\n",
            "Connecting to ia802501.us.archive.org (ia802501.us.archive.org)|207.241.228.191|:443... connected.\n",
            "HTTP request sent, awaiting response... 200 OK\n",
            "Length: 4102781969 (3.8G) [application/x-7z-compressed]\n",
            "Saving to: ‘trip_data.7z’\n",
            "\n",
            "trip_data.7z        100%[===================>]   3.82G  2.68MB/s    in 21m 13s \n",
            "\n",
            "2019-06-24 21:44:41 (3.07 MB/s) - ‘trip_data.7z’ saved [4102781969/4102781969]\n",
            "\n"
          ],
          "name": "stdout"
        }
      ]
    },
    {
      "cell_type": "code",
      "metadata": {
        "id": "jtJ96K5veJgT",
        "colab_type": "code",
        "outputId": "82df2ba2-72ca-4d8d-d818-628697cdaa03",
        "colab": {
          "base_uri": "https://localhost:8080/",
          "height": 571
        }
      },
      "source": [
        "!7z e trip_data.7z -o/content/drive/My\\ Drive/'Colab Notebooks'/data trip_data_1.csv"
      ],
      "execution_count": 6,
      "outputs": [
        {
          "output_type": "stream",
          "text": [
            "\n",
            "7-Zip [64] 16.02 : Copyright (c) 1999-2016 Igor Pavlov : 2016-05-21\n",
            "p7zip Version 16.02 (locale=en_US.UTF-8,Utf16=on,HugeFiles=on,64 bits,2 CPUs Intel(R) Xeon(R) CPU @ 2.30GHz (306F0),ASM,AES-NI)\n",
            "\n",
            "Scanning the drive for archives:\n",
            "  0M Scan\b\b\b\b\b\b\b\b\b         \b\b\b\b\b\b\b\b\b1 file, 4102781969 bytes (3913 MiB)\n",
            "\n",
            "Extracting archive: trip_data.7z\n",
            "--\n",
            "Path = trip_data.7z\n",
            "Type = 7z\n",
            "Physical Size = 4102781969\n",
            "Headers Size = 433\n",
            "Method = LZMA:24\n",
            "Solid = -\n",
            "Blocks = 12\n",
            "\n",
            "  0%\b\b\b\b    \b\b\b\b\n",
            "Would you like to replace the existing file:\n",
            "  Path:     /content/drive/My Drive/Colab Notebooks/data/trip_data_1.csv\n",
            "  Size:     2459600863 bytes (2346 MiB)\n",
            "  Modified: 2014-05-12 22:02:53\n",
            "with the file from archive:\n",
            "  Path:     trip_data_1.csv\n",
            "  Size:     2459600863 bytes (2346 MiB)\n",
            "  Modified: 2014-05-12 22:02:53\n",
            "? (Y)es / (N)o / (A)lways / (S)kip all / A(u)to rename all / (Q)uit? q\n",
            "\n",
            "Archives with Errors: 1\n",
            "\n",
            "\n",
            "\n",
            "Break signaled\n"
          ],
          "name": "stdout"
        }
      ]
    },
    {
      "cell_type": "code",
      "metadata": {
        "id": "mfrTbnxMU9NP",
        "colab_type": "code",
        "colab": {}
      },
      "source": [
        "!7z x trip_data.7z -o/content/"
      ],
      "execution_count": 0,
      "outputs": []
    },
    {
      "cell_type": "markdown",
      "metadata": {
        "id": "tqdNxe6X9-mi",
        "colab_type": "text"
      },
      "source": [
        "Crear un DataFrame usando la libreria pandas y responder lo siguiente:\n",
        "\n",
        "Indicar el tiempo en segundos, que tarda la libreria pandas en leer un archivo a un DataFrame\n",
        "\n",
        "Cual es la huella de memoria del proceso usado para generar el objeto DataFrame\n",
        "\n",
        "Cuanta memoria del sistema se usa para crear el objeto anterior"
      ]
    },
    {
      "cell_type": "code",
      "metadata": {
        "id": "UYQxv_-8TXw-",
        "colab_type": "code",
        "colab": {}
      },
      "source": [
        "import pandas as pd, time"
      ],
      "execution_count": 0,
      "outputs": []
    },
    {
      "cell_type": "code",
      "metadata": {
        "id": "3oC1GcQGhByh",
        "colab_type": "code",
        "colab": {}
      },
      "source": [
        "import psutil, os"
      ],
      "execution_count": 0,
      "outputs": []
    },
    {
      "cell_type": "code",
      "metadata": {
        "id": "zixCeHkgh8Fy",
        "colab_type": "code",
        "colab": {}
      },
      "source": [
        "#from time import time"
      ],
      "execution_count": 0,
      "outputs": []
    },
    {
      "cell_type": "code",
      "metadata": {
        "id": "aN5hinaifNiS",
        "colab_type": "code",
        "colab": {}
      },
      "source": [
        "def huella_de_memoria():\n",
        "  '''regresa la memoria usada por un proceso en python'''\n",
        "  mem= psutil.Process(os.getpid()).memory_info().rss\n",
        "  return (mem / 1024**2)"
      ],
      "execution_count": 0,
      "outputs": []
    },
    {
      "cell_type": "code",
      "metadata": {
        "id": "Z8TIWCR0g2_C",
        "colab_type": "code",
        "outputId": "ef05fd25-cc53-49ea-fb1f-57aeb7827252",
        "colab": {
          "base_uri": "https://localhost:8080/",
          "height": 34
        }
      },
      "source": [
        "a = huella_de_memoria()\n",
        "print('huella de memoria ',a,' mb')"
      ],
      "execution_count": 8,
      "outputs": [
        {
          "output_type": "stream",
          "text": [
            "huella de memoria  138.9765625  mb\n"
          ],
          "name": "stdout"
        }
      ]
    },
    {
      "cell_type": "code",
      "metadata": {
        "id": "V2xSW1sHfeen",
        "colab_type": "code",
        "outputId": "5d282bc5-e3e1-4d3a-8363-87c92c7330ee",
        "colab": {
          "base_uri": "https://localhost:8080/",
          "height": 50
        }
      },
      "source": [
        "t_start = time.time()\n",
        "antesH = huella_de_memoria()\n",
        "df = pd.read_csv('trip_data_1.csv')\n",
        "t_end = time.time()\n",
        "despuesH = huella_de_memoria()\n",
        "print('memoria al final del proceso', (despuesH-antesH))\n",
        "print('pd.read_csv(): {} s'.format(t_end-t_start)) # time [s]"
      ],
      "execution_count": 18,
      "outputs": [
        {
          "output_type": "stream",
          "text": [
            "memoria al final del proceso 981.82421875\n",
            "pd.read_csv(): 138.1043062210083 s\n"
          ],
          "name": "stdout"
        }
      ]
    },
    {
      "cell_type": "code",
      "metadata": {
        "id": "GQcXMM_W7ZmE",
        "colab_type": "code",
        "outputId": "7b53508d-47a9-4f31-c780-8b0a4b011775",
        "colab": {
          "base_uri": "https://localhost:8080/",
          "height": 34
        }
      },
      "source": [
        "b = huella_de_memoria()\n",
        "print('huella de memoria ',b,' mb')"
      ],
      "execution_count": 10,
      "outputs": [
        {
          "output_type": "stream",
          "text": [
            "huella de memoria  4424.1796875  mb\n"
          ],
          "name": "stdout"
        }
      ]
    },
    {
      "cell_type": "markdown",
      "metadata": {
        "id": "Esw-Ll_1jgbu",
        "colab_type": "text"
      },
      "source": [
        "LA cantidad usada para la contruccion del objeto es de 4964.09 gb"
      ]
    },
    {
      "cell_type": "markdown",
      "metadata": {
        "id": "SHaU7pag-FOa",
        "colab_type": "text"
      },
      "source": [
        "Responder las siguientes preguntas:\n",
        "\n",
        "Cuantas columnas contiene cada archivo de datos descomprimido\n",
        "\n",
        "Cuantos renglones tiene cada archivo"
      ]
    },
    {
      "cell_type": "code",
      "metadata": {
        "id": "ylQ-EuTMi1Pz",
        "colab_type": "code",
        "outputId": "28aea8b1-b2bc-4767-9835-15b8e39a0f3e",
        "colab": {
          "base_uri": "https://localhost:8080/",
          "height": 118
        }
      },
      "source": [
        "df.columns"
      ],
      "execution_count": 13,
      "outputs": [
        {
          "output_type": "execute_result",
          "data": {
            "text/plain": [
              "Index(['medallion', 'hack_license', 'vendor_id', 'rate_code',\n",
              "       'store_and_fwd_flag', 'pickup_datetime', 'dropoff_datetime',\n",
              "       'passenger_count', 'trip_time_in_secs', 'trip_distance',\n",
              "       'pickup_longitude', 'pickup_latitude', 'dropoff_longitude',\n",
              "       'dropoff_latitude'],\n",
              "      dtype='object')"
            ]
          },
          "metadata": {
            "tags": []
          },
          "execution_count": 13
        }
      ]
    },
    {
      "cell_type": "code",
      "metadata": {
        "id": "YehxgXv8m2q1",
        "colab_type": "code",
        "outputId": "5815e66c-17d3-4a9e-fda1-9d1bf1447380",
        "colab": {
          "base_uri": "https://localhost:8080/",
          "height": 34
        }
      },
      "source": [
        "df.shape"
      ],
      "execution_count": 14,
      "outputs": [
        {
          "output_type": "execute_result",
          "data": {
            "text/plain": [
              "(14776615, 14)"
            ]
          },
          "metadata": {
            "tags": []
          },
          "execution_count": 14
        }
      ]
    },
    {
      "cell_type": "markdown",
      "metadata": {
        "id": "n-PLpDVE-Kgh",
        "colab_type": "text"
      },
      "source": [
        "Identificar si existen renglones con errores en los datos, por ejemplo si hay columnas de mas (o de menos), si hay campos vacios, etc. Si se detectan renglones con errores:\n",
        "\n",
        "indicar claramente cuantos son los renglones con errores y a que archivos corresponden\n",
        "\n",
        "crear un nuevo conjunto de datos con los errores eliminados"
      ]
    },
    {
      "cell_type": "code",
      "metadata": {
        "id": "2zryKvUMo5u4",
        "colab_type": "code",
        "outputId": "8f652bd2-7a41-42b5-ab72-1416be527f35",
        "colab": {
          "base_uri": "https://localhost:8080/",
          "height": 168
        }
      },
      "source": [
        "df['passenger_count'].value_counts()"
      ],
      "execution_count": 23,
      "outputs": [
        {
          "output_type": "execute_result",
          "data": {
            "text/plain": [
              "1    10471701\n",
              "2     1986196\n",
              "5      920006\n",
              "3      597485\n",
              "6      520066\n",
              "4      280992\n",
              "0          80\n",
              "9           1\n",
              "Name: passenger_count, dtype: int64"
            ]
          },
          "metadata": {
            "tags": []
          },
          "execution_count": 23
        }
      ]
    },
    {
      "cell_type": "code",
      "metadata": {
        "id": "uVw5aXUyq3Et",
        "colab_type": "code",
        "outputId": "9f8b5093-7b97-48d2-f118-539e3f0f14c2",
        "colab": {
          "base_uri": "https://localhost:8080/",
          "height": 269
        }
      },
      "source": [
        "#Aportacion de samuel\n",
        "df.isnull().sum()"
      ],
      "execution_count": 16,
      "outputs": [
        {
          "output_type": "execute_result",
          "data": {
            "text/plain": [
              "medallion                   0\n",
              "hack_license                0\n",
              "vendor_id                   0\n",
              "rate_code                   0\n",
              "store_and_fwd_flag    7326207\n",
              "pickup_datetime             0\n",
              "dropoff_datetime            0\n",
              "passenger_count             0\n",
              "trip_time_in_secs           0\n",
              "trip_distance               0\n",
              "pickup_longitude            0\n",
              "pickup_latitude             0\n",
              "dropoff_longitude          86\n",
              "dropoff_latitude           86\n",
              "dtype: int64"
            ]
          },
          "metadata": {
            "tags": []
          },
          "execution_count": 16
        }
      ]
    },
    {
      "cell_type": "code",
      "metadata": {
        "id": "yVaeMk-Ur9am",
        "colab_type": "code",
        "outputId": "8116afe8-fba4-4c91-af85-9443bd79523f",
        "colab": {
          "base_uri": "https://localhost:8080/",
          "height": 269
        }
      },
      "source": [
        "#aportacion de samuel\n",
        "df.isna().sum()"
      ],
      "execution_count": 17,
      "outputs": [
        {
          "output_type": "execute_result",
          "data": {
            "text/plain": [
              "medallion                   0\n",
              "hack_license                0\n",
              "vendor_id                   0\n",
              "rate_code                   0\n",
              "store_and_fwd_flag    7326207\n",
              "pickup_datetime             0\n",
              "dropoff_datetime            0\n",
              "passenger_count             0\n",
              "trip_time_in_secs           0\n",
              "trip_distance               0\n",
              "pickup_longitude            0\n",
              "pickup_latitude             0\n",
              "dropoff_longitude          86\n",
              "dropoff_latitude           86\n",
              "dtype: int64"
            ]
          },
          "metadata": {
            "tags": []
          },
          "execution_count": 17
        }
      ]
    },
    {
      "cell_type": "code",
      "metadata": {
        "id": "5CWXUlpsp9sV",
        "colab_type": "code",
        "colab": {}
      },
      "source": [
        "#aportacion de samuel\n",
        "df=df.dropna(subset=['dropoff_longitude','dropoff_latitude'], how='all')"
      ],
      "execution_count": 0,
      "outputs": []
    },
    {
      "cell_type": "code",
      "metadata": {
        "id": "zz5LUZvOT86C",
        "colab_type": "code",
        "colab": {}
      },
      "source": [
        "df = df.drop(df[df.passenger_count > 9].index)"
      ],
      "execution_count": 0,
      "outputs": []
    },
    {
      "cell_type": "code",
      "metadata": {
        "id": "dpKeqMa0wNvA",
        "colab_type": "code",
        "outputId": "c8bd4816-b273-45d5-96bb-86231e8408ee",
        "colab": {
          "base_uri": "https://localhost:8080/",
          "height": 34
        }
      },
      "source": [
        "df.shape"
      ],
      "execution_count": 19,
      "outputs": [
        {
          "output_type": "execute_result",
          "data": {
            "text/plain": [
              "(14776529, 14)"
            ]
          },
          "metadata": {
            "tags": []
          },
          "execution_count": 19
        }
      ]
    },
    {
      "cell_type": "code",
      "metadata": {
        "id": "-sKvMns0xp4Q",
        "colab_type": "code",
        "colab": {}
      },
      "source": [
        "#aportacion de Lorrain\n",
        "del df['store_and_fwd_flag']"
      ],
      "execution_count": 0,
      "outputs": []
    },
    {
      "cell_type": "code",
      "metadata": {
        "id": "fQ_JzdMIxxrY",
        "colab_type": "code",
        "outputId": "a36eb82a-4130-4c79-eb19-563fab6e0143",
        "colab": {
          "base_uri": "https://localhost:8080/",
          "height": 101
        }
      },
      "source": [
        "df.columns"
      ],
      "execution_count": 21,
      "outputs": [
        {
          "output_type": "execute_result",
          "data": {
            "text/plain": [
              "Index(['medallion', 'hack_license', 'vendor_id', 'rate_code',\n",
              "       'pickup_datetime', 'dropoff_datetime', 'passenger_count',\n",
              "       'trip_time_in_secs', 'trip_distance', 'pickup_longitude',\n",
              "       'pickup_latitude', 'dropoff_longitude', 'dropoff_latitude'],\n",
              "      dtype='object')"
            ]
          },
          "metadata": {
            "tags": []
          },
          "execution_count": 21
        }
      ]
    },
    {
      "cell_type": "markdown",
      "metadata": {
        "id": "FaoQOj6z-Sm3",
        "colab_type": "text"
      },
      "source": [
        "Indicar el tiempo que tarda pandas en obtener el promedio de la distancia de viaje (trip_distance)"
      ]
    },
    {
      "cell_type": "code",
      "metadata": {
        "id": "MuopT6xxz6_P",
        "colab_type": "code",
        "outputId": "dbb3608e-4ef6-4e05-88d2-554b2b359a27",
        "colab": {
          "base_uri": "https://localhost:8080/",
          "height": 67
        }
      },
      "source": [
        "%%time\n",
        "df['trip_distance'].mean()"
      ],
      "execution_count": 22,
      "outputs": [
        {
          "output_type": "stream",
          "text": [
            "CPU times: user 31.3 ms, sys: 0 ns, total: 31.3 ms\n",
            "Wall time: 36 ms\n"
          ],
          "name": "stdout"
        },
        {
          "output_type": "execute_result",
          "data": {
            "text/plain": [
              "2.7709917978711136"
            ]
          },
          "metadata": {
            "tags": []
          },
          "execution_count": 22
        }
      ]
    },
    {
      "cell_type": "code",
      "metadata": {
        "id": "qZ4EUHbP18at",
        "colab_type": "code",
        "colab": {}
      },
      "source": [
        "#aportacion Alexis & Samuel\n",
        "promedio= df['trip_distance']!=0"
      ],
      "execution_count": 0,
      "outputs": []
    },
    {
      "cell_type": "code",
      "metadata": {
        "id": "A58MGgUC2CO5",
        "colab_type": "code",
        "outputId": "6a08049c-4c5b-48fe-faf5-c68524ce291f",
        "colab": {
          "base_uri": "https://localhost:8080/",
          "height": 67
        }
      },
      "source": [
        "%%time\n",
        "promedio.mean()"
      ],
      "execution_count": 24,
      "outputs": [
        {
          "output_type": "stream",
          "text": [
            "CPU times: user 29.9 ms, sys: 1.1 ms, total: 31 ms\n",
            "Wall time: 34.3 ms\n"
          ],
          "name": "stdout"
        },
        {
          "output_type": "execute_result",
          "data": {
            "text/plain": [
              "0.9943633582690495"
            ]
          },
          "metadata": {
            "tags": []
          },
          "execution_count": 24
        }
      ]
    },
    {
      "cell_type": "markdown",
      "metadata": {
        "id": "W0dxJv6kAnwE",
        "colab_type": "text"
      },
      "source": [
        "punto 6\n",
        "\n",
        "Todos los pasos siguientes deben realizarse usando la libreria dask\n",
        "\n",
        "Indicar el tiempo que tarda en obtener el promedio de la distancia de viaje (trip_distance)\n",
        "\n",
        "Indicar el tiempo que tarda en obtener el promedio de la duracion de viaje (trip_time_in_secs)\n",
        "\n",
        "Con las columnas pickup_datetime y dropoff_datetime como objetos temporales, crear una nueva columna en los dataframes que se llame duracion y compararla renglon a renglon con la columna trip_time_in_secs\n",
        "\n",
        "Definir un viaje_largo como aquellos en los que la duracion del viaje (trip_time_in_secs) sea mayor a 20 minutos."
      ]
    },
    {
      "cell_type": "code",
      "metadata": {
        "id": "DTdCkCnqAxNa",
        "colab_type": "code",
        "colab": {}
      },
      "source": [
        "import dask.dataframe as da"
      ],
      "execution_count": 0,
      "outputs": []
    },
    {
      "cell_type": "code",
      "metadata": {
        "id": "rn9jQREMCG20",
        "colab_type": "code",
        "colab": {}
      },
      "source": [
        "dd = da.read_csv('trip_data_1.csv')"
      ],
      "execution_count": 0,
      "outputs": []
    },
    {
      "cell_type": "code",
      "metadata": {
        "id": "WePrjky2Ds8h",
        "colab_type": "code",
        "colab": {
          "base_uri": "https://localhost:8080/",
          "height": 67
        },
        "outputId": "b12a750c-3848-4fa2-d3b1-1800d846d322"
      },
      "source": [
        "%%time\n",
        "dd['trip_distance'].mean().compute()"
      ],
      "execution_count": 27,
      "outputs": [
        {
          "output_type": "stream",
          "text": [
            "CPU times: user 59.7 s, sys: 5.23 s, total: 1min 4s\n",
            "Wall time: 1min 41s\n"
          ],
          "name": "stdout"
        },
        {
          "output_type": "execute_result",
          "data": {
            "text/plain": [
              "2.770975670679651"
            ]
          },
          "metadata": {
            "tags": []
          },
          "execution_count": 27
        }
      ]
    },
    {
      "cell_type": "code",
      "metadata": {
        "id": "qyInudk4CHAi",
        "colab_type": "code",
        "colab": {
          "base_uri": "https://localhost:8080/",
          "height": 50
        },
        "outputId": "4ba2d014-aaea-41de-804d-32591906ee75"
      },
      "source": [
        "%%time\n",
        "promediodask= dd['trip_distance']!=0"
      ],
      "execution_count": 28,
      "outputs": [
        {
          "output_type": "stream",
          "text": [
            "CPU times: user 2.9 ms, sys: 998 µs, total: 3.9 ms\n",
            "Wall time: 5.58 ms\n"
          ],
          "name": "stdout"
        }
      ]
    },
    {
      "cell_type": "code",
      "metadata": {
        "id": "zlg8h04FCHFl",
        "colab_type": "code",
        "colab": {
          "base_uri": "https://localhost:8080/",
          "height": 67
        },
        "outputId": "cc0bea45-40d1-49fb-d1b7-9dfcede25e46"
      },
      "source": [
        "%%time\n",
        "promediodask.mean().compute()"
      ],
      "execution_count": 29,
      "outputs": [
        {
          "output_type": "stream",
          "text": [
            "CPU times: user 1min 9s, sys: 15.4 s, total: 1min 25s\n",
            "Wall time: 1min 1s\n"
          ],
          "name": "stdout"
        },
        {
          "output_type": "execute_result",
          "data": {
            "text/plain": [
              "0.994357571067528"
            ]
          },
          "metadata": {
            "tags": []
          },
          "execution_count": 29
        }
      ]
    },
    {
      "cell_type": "code",
      "metadata": {
        "id": "03UcyE0xFThT",
        "colab_type": "code",
        "colab": {
          "base_uri": "https://localhost:8080/",
          "height": 67
        },
        "outputId": "fea148e3-25d2-498f-d58e-6ec105487e3c"
      },
      "source": [
        "%%time\n",
        "dd['trip_time_in_secs'].mean().compute()"
      ],
      "execution_count": 30,
      "outputs": [
        {
          "output_type": "stream",
          "text": [
            "CPU times: user 1min 9s, sys: 17.3 s, total: 1min 26s\n",
            "Wall time: 1min 3s\n"
          ],
          "name": "stdout"
        },
        {
          "output_type": "execute_result",
          "data": {
            "text/plain": [
              "683.4235930894863"
            ]
          },
          "metadata": {
            "tags": []
          },
          "execution_count": 30
        }
      ]
    },
    {
      "cell_type": "code",
      "metadata": {
        "id": "hnSWKOK0GdHY",
        "colab_type": "code",
        "colab": {}
      },
      "source": [
        "promediodasktiempo= dd['trip_time_in_secs']!=0"
      ],
      "execution_count": 0,
      "outputs": []
    },
    {
      "cell_type": "code",
      "metadata": {
        "id": "C8_vNaQnFTpg",
        "colab_type": "code",
        "colab": {
          "base_uri": "https://localhost:8080/",
          "height": 67
        },
        "outputId": "c370a78d-2039-4d2b-f2cf-ed82935efb80"
      },
      "source": [
        "%%time\n",
        "promediodasktiempo.mean().compute()"
      ],
      "execution_count": 32,
      "outputs": [
        {
          "output_type": "stream",
          "text": [
            "CPU times: user 1min 9s, sys: 13.3 s, total: 1min 22s\n",
            "Wall time: 59.7 s\n"
          ],
          "name": "stdout"
        },
        {
          "output_type": "execute_result",
          "data": {
            "text/plain": [
              "0.9976865472911083"
            ]
          },
          "metadata": {
            "tags": []
          },
          "execution_count": 32
        }
      ]
    },
    {
      "cell_type": "markdown",
      "metadata": {
        "id": "Sb--dGtMIWlo",
        "colab_type": "text"
      },
      "source": [
        "df['tip_fraction']= df['tip_amount']/(df['total_amount']-df['tip_amount'])\n",
        "\n",
        "df['tpep_dropoff_datetime']= pd.to_datetime(df['tpep_dropoff_datetime'])"
      ]
    },
    {
      "cell_type": "code",
      "metadata": {
        "id": "aiHlxUCRNZAh",
        "colab_type": "code",
        "colab": {}
      },
      "source": [
        "df['pickup_datetime']=da.to_datetime(df['pickup_datetime'])"
      ],
      "execution_count": 0,
      "outputs": []
    },
    {
      "cell_type": "code",
      "metadata": {
        "id": "mseKN7QqNkGz",
        "colab_type": "code",
        "colab": {}
      },
      "source": [
        "df['dropoff_datetime']=da.to_datetime(df['dropoff_datetime'])"
      ],
      "execution_count": 0,
      "outputs": []
    },
    {
      "cell_type": "code",
      "metadata": {
        "id": "XSaI3pMtSski",
        "colab_type": "code",
        "colab": {}
      },
      "source": [
        "#viajes = da.from_pandas((df['dropoff_datetime']-df['pickup_datetime']), npartitions=1)"
      ],
      "execution_count": 0,
      "outputs": []
    },
    {
      "cell_type": "code",
      "metadata": {
        "id": "YMDbBA1QgfnQ",
        "colab_type": "code",
        "colab": {}
      },
      "source": [
        "viajes=df['dropoff_datetime']-df['pickup_datetime']"
      ],
      "execution_count": 0,
      "outputs": []
    },
    {
      "cell_type": "code",
      "metadata": {
        "id": "q0ANylOkXU9a",
        "colab_type": "code",
        "colab": {}
      },
      "source": [
        "nuevo=df.assign(tiempo_viaje=viajes)"
      ],
      "execution_count": 0,
      "outputs": []
    },
    {
      "cell_type": "code",
      "metadata": {
        "id": "dSkloFQWgr3Q",
        "colab_type": "code",
        "colab": {
          "base_uri": "https://localhost:8080/",
          "height": 2910
        },
        "outputId": "225b5fb1-e24d-470f-e663-7d6fa8c6185f"
      },
      "source": [
        "nuevo"
      ],
      "execution_count": 40,
      "outputs": [
        {
          "output_type": "execute_result",
          "data": {
            "text/html": [
              "<div>\n",
              "<style scoped>\n",
              "    .dataframe tbody tr th:only-of-type {\n",
              "        vertical-align: middle;\n",
              "    }\n",
              "\n",
              "    .dataframe tbody tr th {\n",
              "        vertical-align: top;\n",
              "    }\n",
              "\n",
              "    .dataframe thead th {\n",
              "        text-align: right;\n",
              "    }\n",
              "</style>\n",
              "<table border=\"1\" class=\"dataframe\">\n",
              "  <thead>\n",
              "    <tr style=\"text-align: right;\">\n",
              "      <th></th>\n",
              "      <th>medallion</th>\n",
              "      <th>hack_license</th>\n",
              "      <th>vendor_id</th>\n",
              "      <th>rate_code</th>\n",
              "      <th>pickup_datetime</th>\n",
              "      <th>dropoff_datetime</th>\n",
              "      <th>passenger_count</th>\n",
              "      <th>trip_time_in_secs</th>\n",
              "      <th>trip_distance</th>\n",
              "      <th>pickup_longitude</th>\n",
              "      <th>pickup_latitude</th>\n",
              "      <th>dropoff_longitude</th>\n",
              "      <th>dropoff_latitude</th>\n",
              "      <th>tiempo_viaje</th>\n",
              "    </tr>\n",
              "  </thead>\n",
              "  <tbody>\n",
              "    <tr>\n",
              "      <th>0</th>\n",
              "      <td>89D227B655E5C82AECF13C3F540D4CF4</td>\n",
              "      <td>BA96DE419E711691B9445D6A6307C170</td>\n",
              "      <td>CMT</td>\n",
              "      <td>1</td>\n",
              "      <td>2013-01-01 15:11:48</td>\n",
              "      <td>2013-01-01 15:18:10</td>\n",
              "      <td>4</td>\n",
              "      <td>382</td>\n",
              "      <td>1.0</td>\n",
              "      <td>-73.978165</td>\n",
              "      <td>40.757977</td>\n",
              "      <td>-73.989838</td>\n",
              "      <td>40.751171</td>\n",
              "      <td>00:06:22</td>\n",
              "    </tr>\n",
              "    <tr>\n",
              "      <th>1</th>\n",
              "      <td>0BD7C8F5BA12B88E0B67BED28BEA73D8</td>\n",
              "      <td>9FD8F69F0804BDB5549F40E9DA1BE472</td>\n",
              "      <td>CMT</td>\n",
              "      <td>1</td>\n",
              "      <td>2013-01-06 00:18:35</td>\n",
              "      <td>2013-01-06 00:22:54</td>\n",
              "      <td>1</td>\n",
              "      <td>259</td>\n",
              "      <td>1.5</td>\n",
              "      <td>-74.006683</td>\n",
              "      <td>40.731781</td>\n",
              "      <td>-73.994499</td>\n",
              "      <td>40.750660</td>\n",
              "      <td>00:04:19</td>\n",
              "    </tr>\n",
              "    <tr>\n",
              "      <th>2</th>\n",
              "      <td>0BD7C8F5BA12B88E0B67BED28BEA73D8</td>\n",
              "      <td>9FD8F69F0804BDB5549F40E9DA1BE472</td>\n",
              "      <td>CMT</td>\n",
              "      <td>1</td>\n",
              "      <td>2013-01-05 18:49:41</td>\n",
              "      <td>2013-01-05 18:54:23</td>\n",
              "      <td>1</td>\n",
              "      <td>282</td>\n",
              "      <td>1.1</td>\n",
              "      <td>-74.004707</td>\n",
              "      <td>40.737770</td>\n",
              "      <td>-74.009834</td>\n",
              "      <td>40.726002</td>\n",
              "      <td>00:04:42</td>\n",
              "    </tr>\n",
              "    <tr>\n",
              "      <th>3</th>\n",
              "      <td>DFD2202EE08F7A8DC9A57B02ACB81FE2</td>\n",
              "      <td>51EE87E3205C985EF8431D850C786310</td>\n",
              "      <td>CMT</td>\n",
              "      <td>1</td>\n",
              "      <td>2013-01-07 23:54:15</td>\n",
              "      <td>2013-01-07 23:58:20</td>\n",
              "      <td>2</td>\n",
              "      <td>244</td>\n",
              "      <td>0.7</td>\n",
              "      <td>-73.974602</td>\n",
              "      <td>40.759945</td>\n",
              "      <td>-73.984734</td>\n",
              "      <td>40.759388</td>\n",
              "      <td>00:04:05</td>\n",
              "    </tr>\n",
              "    <tr>\n",
              "      <th>4</th>\n",
              "      <td>DFD2202EE08F7A8DC9A57B02ACB81FE2</td>\n",
              "      <td>51EE87E3205C985EF8431D850C786310</td>\n",
              "      <td>CMT</td>\n",
              "      <td>1</td>\n",
              "      <td>2013-01-07 23:25:03</td>\n",
              "      <td>2013-01-07 23:34:24</td>\n",
              "      <td>1</td>\n",
              "      <td>560</td>\n",
              "      <td>2.1</td>\n",
              "      <td>-73.976250</td>\n",
              "      <td>40.748528</td>\n",
              "      <td>-74.002586</td>\n",
              "      <td>40.747868</td>\n",
              "      <td>00:09:21</td>\n",
              "    </tr>\n",
              "    <tr>\n",
              "      <th>5</th>\n",
              "      <td>20D9ECB2CA0767CF7A01564DF2844A3E</td>\n",
              "      <td>598CCE5B9C1918568DEE71F43CF26CD2</td>\n",
              "      <td>CMT</td>\n",
              "      <td>1</td>\n",
              "      <td>2013-01-07 15:27:48</td>\n",
              "      <td>2013-01-07 15:38:37</td>\n",
              "      <td>1</td>\n",
              "      <td>648</td>\n",
              "      <td>1.7</td>\n",
              "      <td>-73.966743</td>\n",
              "      <td>40.764252</td>\n",
              "      <td>-73.983322</td>\n",
              "      <td>40.743763</td>\n",
              "      <td>00:10:49</td>\n",
              "    </tr>\n",
              "    <tr>\n",
              "      <th>6</th>\n",
              "      <td>496644932DF3932605C22C7926FF0FE0</td>\n",
              "      <td>513189AD756FF14FE670D10B92FAF04C</td>\n",
              "      <td>CMT</td>\n",
              "      <td>1</td>\n",
              "      <td>2013-01-08 11:01:15</td>\n",
              "      <td>2013-01-08 11:08:14</td>\n",
              "      <td>1</td>\n",
              "      <td>418</td>\n",
              "      <td>0.8</td>\n",
              "      <td>-73.995804</td>\n",
              "      <td>40.743977</td>\n",
              "      <td>-74.007416</td>\n",
              "      <td>40.744343</td>\n",
              "      <td>00:06:59</td>\n",
              "    </tr>\n",
              "    <tr>\n",
              "      <th>7</th>\n",
              "      <td>0B57B9633A2FECD3D3B1944AFC7471CF</td>\n",
              "      <td>CCD4367B417ED6634D986F573A552A62</td>\n",
              "      <td>CMT</td>\n",
              "      <td>1</td>\n",
              "      <td>2013-01-07 12:39:18</td>\n",
              "      <td>2013-01-07 13:10:56</td>\n",
              "      <td>3</td>\n",
              "      <td>1898</td>\n",
              "      <td>10.7</td>\n",
              "      <td>-73.989937</td>\n",
              "      <td>40.756775</td>\n",
              "      <td>-73.865250</td>\n",
              "      <td>40.770630</td>\n",
              "      <td>00:31:38</td>\n",
              "    </tr>\n",
              "    <tr>\n",
              "      <th>8</th>\n",
              "      <td>2C0E91FF20A856C891483ED63589F982</td>\n",
              "      <td>1DA2F6543A62B8ED934771661A9D2FA0</td>\n",
              "      <td>CMT</td>\n",
              "      <td>1</td>\n",
              "      <td>2013-01-07 18:15:47</td>\n",
              "      <td>2013-01-07 18:20:47</td>\n",
              "      <td>1</td>\n",
              "      <td>299</td>\n",
              "      <td>0.8</td>\n",
              "      <td>-73.980072</td>\n",
              "      <td>40.743137</td>\n",
              "      <td>-73.982712</td>\n",
              "      <td>40.735336</td>\n",
              "      <td>00:05:00</td>\n",
              "    </tr>\n",
              "    <tr>\n",
              "      <th>9</th>\n",
              "      <td>2D4B95E2FA7B2E85118EC5CA4570FA58</td>\n",
              "      <td>CD2F522EEE1FF5F5A8D8B679E23576B3</td>\n",
              "      <td>CMT</td>\n",
              "      <td>1</td>\n",
              "      <td>2013-01-07 15:33:28</td>\n",
              "      <td>2013-01-07 15:49:26</td>\n",
              "      <td>2</td>\n",
              "      <td>957</td>\n",
              "      <td>2.5</td>\n",
              "      <td>-73.977936</td>\n",
              "      <td>40.786983</td>\n",
              "      <td>-73.952919</td>\n",
              "      <td>40.806370</td>\n",
              "      <td>00:15:58</td>\n",
              "    </tr>\n",
              "    <tr>\n",
              "      <th>10</th>\n",
              "      <td>E12F6AF991172EAC3553144A0AF75A19</td>\n",
              "      <td>06918214E951FA0003D1CC54955C2AB0</td>\n",
              "      <td>CMT</td>\n",
              "      <td>1</td>\n",
              "      <td>2013-01-08 13:11:52</td>\n",
              "      <td>2013-01-08 13:19:50</td>\n",
              "      <td>1</td>\n",
              "      <td>477</td>\n",
              "      <td>1.3</td>\n",
              "      <td>-73.982452</td>\n",
              "      <td>40.773167</td>\n",
              "      <td>-73.964134</td>\n",
              "      <td>40.773815</td>\n",
              "      <td>00:07:58</td>\n",
              "    </tr>\n",
              "    <tr>\n",
              "      <th>11</th>\n",
              "      <td>E12F6AF991172EAC3553144A0AF75A19</td>\n",
              "      <td>06918214E951FA0003D1CC54955C2AB0</td>\n",
              "      <td>CMT</td>\n",
              "      <td>1</td>\n",
              "      <td>2013-01-08 09:50:05</td>\n",
              "      <td>2013-01-08 10:02:54</td>\n",
              "      <td>1</td>\n",
              "      <td>768</td>\n",
              "      <td>0.7</td>\n",
              "      <td>-73.995560</td>\n",
              "      <td>40.749294</td>\n",
              "      <td>-73.988686</td>\n",
              "      <td>40.759052</td>\n",
              "      <td>00:12:49</td>\n",
              "    </tr>\n",
              "    <tr>\n",
              "      <th>12</th>\n",
              "      <td>78FFD9CD0CDA541F335EF8B38FB494D6</td>\n",
              "      <td>E949C583ECF62C8F03FDCE1484954A08</td>\n",
              "      <td>CMT</td>\n",
              "      <td>1</td>\n",
              "      <td>2013-01-10 12:07:08</td>\n",
              "      <td>2013-01-10 12:17:29</td>\n",
              "      <td>1</td>\n",
              "      <td>620</td>\n",
              "      <td>2.3</td>\n",
              "      <td>-73.971497</td>\n",
              "      <td>40.791321</td>\n",
              "      <td>-73.964478</td>\n",
              "      <td>40.775921</td>\n",
              "      <td>00:10:21</td>\n",
              "    </tr>\n",
              "    <tr>\n",
              "      <th>13</th>\n",
              "      <td>237F49C3ECC11F5024B254268F054384</td>\n",
              "      <td>93C363DDF8ED9385D65FAD07CE3F5F07</td>\n",
              "      <td>CMT</td>\n",
              "      <td>1</td>\n",
              "      <td>2013-01-07 07:35:47</td>\n",
              "      <td>2013-01-07 07:46:00</td>\n",
              "      <td>1</td>\n",
              "      <td>612</td>\n",
              "      <td>2.3</td>\n",
              "      <td>-73.988510</td>\n",
              "      <td>40.774307</td>\n",
              "      <td>-73.981094</td>\n",
              "      <td>40.755325</td>\n",
              "      <td>00:10:13</td>\n",
              "    </tr>\n",
              "    <tr>\n",
              "      <th>14</th>\n",
              "      <td>3349F919AA8AE5DC9C50A3773EA45BD8</td>\n",
              "      <td>7CE849FEF67514F080AF80D990F7EF7F</td>\n",
              "      <td>CMT</td>\n",
              "      <td>1</td>\n",
              "      <td>2013-01-10 15:42:29</td>\n",
              "      <td>2013-01-10 16:04:02</td>\n",
              "      <td>1</td>\n",
              "      <td>1293</td>\n",
              "      <td>3.2</td>\n",
              "      <td>-73.994911</td>\n",
              "      <td>40.723221</td>\n",
              "      <td>-73.971558</td>\n",
              "      <td>40.761612</td>\n",
              "      <td>00:21:33</td>\n",
              "    </tr>\n",
              "    <tr>\n",
              "      <th>15</th>\n",
              "      <td>3349F919AA8AE5DC9C50A3773EA45BD8</td>\n",
              "      <td>7CE849FEF67514F080AF80D990F7EF7F</td>\n",
              "      <td>CMT</td>\n",
              "      <td>1</td>\n",
              "      <td>2013-01-10 14:27:28</td>\n",
              "      <td>2013-01-10 14:45:21</td>\n",
              "      <td>1</td>\n",
              "      <td>1073</td>\n",
              "      <td>4.4</td>\n",
              "      <td>-74.010391</td>\n",
              "      <td>40.708702</td>\n",
              "      <td>-73.987846</td>\n",
              "      <td>40.756104</td>\n",
              "      <td>00:17:53</td>\n",
              "    </tr>\n",
              "    <tr>\n",
              "      <th>16</th>\n",
              "      <td>4C005EEBAA7BF26B84B21586332488A2</td>\n",
              "      <td>351BE7D984BE17DB2FA80A748E816472</td>\n",
              "      <td>CMT</td>\n",
              "      <td>1</td>\n",
              "      <td>2013-01-07 22:09:59</td>\n",
              "      <td>2013-01-07 22:19:50</td>\n",
              "      <td>1</td>\n",
              "      <td>591</td>\n",
              "      <td>1.7</td>\n",
              "      <td>-73.973732</td>\n",
              "      <td>40.756287</td>\n",
              "      <td>-73.998413</td>\n",
              "      <td>40.756832</td>\n",
              "      <td>00:09:51</td>\n",
              "    </tr>\n",
              "    <tr>\n",
              "      <th>17</th>\n",
              "      <td>7D99C30FCE69B1A9DD27E2AEAC9BFA0C</td>\n",
              "      <td>460C3F57DD9CB2265DB75B14CD70224D</td>\n",
              "      <td>CMT</td>\n",
              "      <td>1</td>\n",
              "      <td>2013-01-07 17:18:16</td>\n",
              "      <td>2013-01-07 17:20:55</td>\n",
              "      <td>1</td>\n",
              "      <td>158</td>\n",
              "      <td>0.7</td>\n",
              "      <td>-73.968925</td>\n",
              "      <td>40.767704</td>\n",
              "      <td>-73.961990</td>\n",
              "      <td>40.776566</td>\n",
              "      <td>00:02:39</td>\n",
              "    </tr>\n",
              "    <tr>\n",
              "      <th>18</th>\n",
              "      <td>E6FBF80668FE0611AEA44FD9574A7E32</td>\n",
              "      <td>36773E80775F26CD1158EB5450A61C79</td>\n",
              "      <td>CMT</td>\n",
              "      <td>1</td>\n",
              "      <td>2013-01-07 06:08:51</td>\n",
              "      <td>2013-01-07 06:13:14</td>\n",
              "      <td>1</td>\n",
              "      <td>262</td>\n",
              "      <td>1.7</td>\n",
              "      <td>-73.962120</td>\n",
              "      <td>40.769737</td>\n",
              "      <td>-73.979561</td>\n",
              "      <td>40.755390</td>\n",
              "      <td>00:04:23</td>\n",
              "    </tr>\n",
              "    <tr>\n",
              "      <th>19</th>\n",
              "      <td>0C5296F3C8B16E702F8F2E06F5106552</td>\n",
              "      <td>D2363240A9295EF570FC6069BC4F4C92</td>\n",
              "      <td>CMT</td>\n",
              "      <td>1</td>\n",
              "      <td>2013-01-07 22:25:46</td>\n",
              "      <td>2013-01-07 22:36:56</td>\n",
              "      <td>1</td>\n",
              "      <td>669</td>\n",
              "      <td>2.3</td>\n",
              "      <td>-73.989708</td>\n",
              "      <td>40.756714</td>\n",
              "      <td>-73.977615</td>\n",
              "      <td>40.787575</td>\n",
              "      <td>00:11:10</td>\n",
              "    </tr>\n",
              "    <tr>\n",
              "      <th>20</th>\n",
              "      <td>D8AADA4E722C87C10E609654612630DD</td>\n",
              "      <td>8F1E4F779A4D67431C3FCFA4E70A87DC</td>\n",
              "      <td>CMT</td>\n",
              "      <td>2</td>\n",
              "      <td>2013-01-10 23:41:51</td>\n",
              "      <td>2013-01-11 00:09:11</td>\n",
              "      <td>1</td>\n",
              "      <td>1640</td>\n",
              "      <td>17.5</td>\n",
              "      <td>-73.783310</td>\n",
              "      <td>40.648766</td>\n",
              "      <td>-73.988914</td>\n",
              "      <td>40.748207</td>\n",
              "      <td>00:27:20</td>\n",
              "    </tr>\n",
              "    <tr>\n",
              "      <th>21</th>\n",
              "      <td>B6FC8357E0D53B0F1FA897D536A20F5C</td>\n",
              "      <td>113A5BA8513934DEE97A342E3535DE96</td>\n",
              "      <td>CMT</td>\n",
              "      <td>1</td>\n",
              "      <td>2013-01-07 18:05:36</td>\n",
              "      <td>2013-01-07 18:23:50</td>\n",
              "      <td>4</td>\n",
              "      <td>1094</td>\n",
              "      <td>3.8</td>\n",
              "      <td>-73.956505</td>\n",
              "      <td>40.771278</td>\n",
              "      <td>-73.996368</td>\n",
              "      <td>40.732460</td>\n",
              "      <td>00:18:14</td>\n",
              "    </tr>\n",
              "    <tr>\n",
              "      <th>22</th>\n",
              "      <td>E12F6AF991172EAC3553144A0AF75A19</td>\n",
              "      <td>06918214E951FA0003D1CC54955C2AB0</td>\n",
              "      <td>CMT</td>\n",
              "      <td>1</td>\n",
              "      <td>2013-01-08 13:29:25</td>\n",
              "      <td>2013-01-08 13:37:52</td>\n",
              "      <td>1</td>\n",
              "      <td>507</td>\n",
              "      <td>1.2</td>\n",
              "      <td>-73.955780</td>\n",
              "      <td>40.779320</td>\n",
              "      <td>-73.967285</td>\n",
              "      <td>40.763344</td>\n",
              "      <td>00:08:27</td>\n",
              "    </tr>\n",
              "    <tr>\n",
              "      <th>23</th>\n",
              "      <td>4C005EEBAA7BF26B84B21586332488A2</td>\n",
              "      <td>351BE7D984BE17DB2FA80A748E816472</td>\n",
              "      <td>CMT</td>\n",
              "      <td>1</td>\n",
              "      <td>2013-01-07 21:13:02</td>\n",
              "      <td>2013-01-07 21:22:31</td>\n",
              "      <td>1</td>\n",
              "      <td>568</td>\n",
              "      <td>1.1</td>\n",
              "      <td>-73.978439</td>\n",
              "      <td>40.764679</td>\n",
              "      <td>-73.977684</td>\n",
              "      <td>40.777004</td>\n",
              "      <td>00:09:29</td>\n",
              "    </tr>\n",
              "    <tr>\n",
              "      <th>24</th>\n",
              "      <td>E9BA494DC1A1F26D186394EFBB8327CF</td>\n",
              "      <td>BBF604B3A2426BFBAAC982AAAA0BF1B5</td>\n",
              "      <td>CMT</td>\n",
              "      <td>1</td>\n",
              "      <td>2013-01-01 18:36:53</td>\n",
              "      <td>2013-01-01 18:39:04</td>\n",
              "      <td>1</td>\n",
              "      <td>131</td>\n",
              "      <td>0.5</td>\n",
              "      <td>-73.992172</td>\n",
              "      <td>40.749954</td>\n",
              "      <td>-73.996750</td>\n",
              "      <td>40.744553</td>\n",
              "      <td>00:02:11</td>\n",
              "    </tr>\n",
              "    <tr>\n",
              "      <th>25</th>\n",
              "      <td>E6FBF80668FE0611AEA44FD9574A7E32</td>\n",
              "      <td>36773E80775F26CD1158EB5450A61C79</td>\n",
              "      <td>CMT</td>\n",
              "      <td>1</td>\n",
              "      <td>2013-01-07 08:17:06</td>\n",
              "      <td>2013-01-07 08:22:46</td>\n",
              "      <td>1</td>\n",
              "      <td>340</td>\n",
              "      <td>1.5</td>\n",
              "      <td>-73.992111</td>\n",
              "      <td>40.689701</td>\n",
              "      <td>-74.007156</td>\n",
              "      <td>40.679295</td>\n",
              "      <td>00:05:40</td>\n",
              "    </tr>\n",
              "    <tr>\n",
              "      <th>26</th>\n",
              "      <td>0C5296F3C8B16E702F8F2E06F5106552</td>\n",
              "      <td>D2363240A9295EF570FC6069BC4F4C92</td>\n",
              "      <td>CMT</td>\n",
              "      <td>1</td>\n",
              "      <td>2013-01-07 22:39:03</td>\n",
              "      <td>2013-01-07 22:44:16</td>\n",
              "      <td>1</td>\n",
              "      <td>312</td>\n",
              "      <td>1.5</td>\n",
              "      <td>-73.978653</td>\n",
              "      <td>40.787735</td>\n",
              "      <td>-73.965790</td>\n",
              "      <td>40.805321</td>\n",
              "      <td>00:05:13</td>\n",
              "    </tr>\n",
              "    <tr>\n",
              "      <th>27</th>\n",
              "      <td>A3B17384165197E18CA0A1BB61277EE9</td>\n",
              "      <td>B8396B62883EA332EFD2771A6B031D05</td>\n",
              "      <td>CMT</td>\n",
              "      <td>1</td>\n",
              "      <td>2013-01-07 06:26:32</td>\n",
              "      <td>2013-01-07 06:28:24</td>\n",
              "      <td>2</td>\n",
              "      <td>111</td>\n",
              "      <td>0.5</td>\n",
              "      <td>-73.965317</td>\n",
              "      <td>40.769375</td>\n",
              "      <td>-73.967133</td>\n",
              "      <td>40.763699</td>\n",
              "      <td>00:01:52</td>\n",
              "    </tr>\n",
              "    <tr>\n",
              "      <th>28</th>\n",
              "      <td>8E189DABE265CC03FEF4BFC695B32559</td>\n",
              "      <td>906939B31C0B93768242A58A682412B8</td>\n",
              "      <td>CMT</td>\n",
              "      <td>1</td>\n",
              "      <td>2013-01-01 14:02:01</td>\n",
              "      <td>2013-01-01 14:27:39</td>\n",
              "      <td>2</td>\n",
              "      <td>1537</td>\n",
              "      <td>10.2</td>\n",
              "      <td>-73.862709</td>\n",
              "      <td>40.769142</td>\n",
              "      <td>-73.982079</td>\n",
              "      <td>40.762295</td>\n",
              "      <td>00:25:38</td>\n",
              "    </tr>\n",
              "    <tr>\n",
              "      <th>29</th>\n",
              "      <td>312E0CB058D7FC1A6494EDB66D360CD2</td>\n",
              "      <td>7B5156F38990963332B33298C8BAE25E</td>\n",
              "      <td>CMT</td>\n",
              "      <td>1</td>\n",
              "      <td>2013-01-05 11:54:49</td>\n",
              "      <td>2013-01-05 12:03:48</td>\n",
              "      <td>1</td>\n",
              "      <td>539</td>\n",
              "      <td>0.8</td>\n",
              "      <td>-73.977127</td>\n",
              "      <td>40.748310</td>\n",
              "      <td>-73.990913</td>\n",
              "      <td>40.751053</td>\n",
              "      <td>00:08:59</td>\n",
              "    </tr>\n",
              "    <tr>\n",
              "      <th>...</th>\n",
              "      <td>...</td>\n",
              "      <td>...</td>\n",
              "      <td>...</td>\n",
              "      <td>...</td>\n",
              "      <td>...</td>\n",
              "      <td>...</td>\n",
              "      <td>...</td>\n",
              "      <td>...</td>\n",
              "      <td>...</td>\n",
              "      <td>...</td>\n",
              "      <td>...</td>\n",
              "      <td>...</td>\n",
              "      <td>...</td>\n",
              "      <td>...</td>\n",
              "    </tr>\n",
              "    <tr>\n",
              "      <th>14776585</th>\n",
              "      <td>237F49C3ECC11F5024B254268F054384</td>\n",
              "      <td>93C363DDF8ED9385D65FAD07CE3F5F07</td>\n",
              "      <td>CMT</td>\n",
              "      <td>1</td>\n",
              "      <td>2013-01-07 07:48:00</td>\n",
              "      <td>2013-01-07 07:59:01</td>\n",
              "      <td>2</td>\n",
              "      <td>661</td>\n",
              "      <td>2.9</td>\n",
              "      <td>-73.982841</td>\n",
              "      <td>40.755905</td>\n",
              "      <td>-74.005470</td>\n",
              "      <td>40.720100</td>\n",
              "      <td>00:11:01</td>\n",
              "    </tr>\n",
              "    <tr>\n",
              "      <th>14776586</th>\n",
              "      <td>237F49C3ECC11F5024B254268F054384</td>\n",
              "      <td>93C363DDF8ED9385D65FAD07CE3F5F07</td>\n",
              "      <td>CMT</td>\n",
              "      <td>1</td>\n",
              "      <td>2013-01-07 09:08:37</td>\n",
              "      <td>2013-01-07 09:13:33</td>\n",
              "      <td>1</td>\n",
              "      <td>296</td>\n",
              "      <td>0.5</td>\n",
              "      <td>-73.976494</td>\n",
              "      <td>40.751560</td>\n",
              "      <td>-73.982880</td>\n",
              "      <td>40.755569</td>\n",
              "      <td>00:04:56</td>\n",
              "    </tr>\n",
              "    <tr>\n",
              "      <th>14776587</th>\n",
              "      <td>4C005EEBAA7BF26B84B21586332488A2</td>\n",
              "      <td>351BE7D984BE17DB2FA80A748E816472</td>\n",
              "      <td>CMT</td>\n",
              "      <td>1</td>\n",
              "      <td>2013-01-07 23:47:47</td>\n",
              "      <td>2013-01-07 23:54:43</td>\n",
              "      <td>1</td>\n",
              "      <td>415</td>\n",
              "      <td>1.5</td>\n",
              "      <td>-73.995262</td>\n",
              "      <td>40.743820</td>\n",
              "      <td>-73.987274</td>\n",
              "      <td>40.729321</td>\n",
              "      <td>00:06:56</td>\n",
              "    </tr>\n",
              "    <tr>\n",
              "      <th>14776588</th>\n",
              "      <td>32D306FD3A4D7CEDCFD8D644294DD5B7</td>\n",
              "      <td>05EACD5B806FC3D01A377606D37CF327</td>\n",
              "      <td>CMT</td>\n",
              "      <td>1</td>\n",
              "      <td>2013-01-08 15:11:04</td>\n",
              "      <td>2013-01-08 15:24:18</td>\n",
              "      <td>2</td>\n",
              "      <td>794</td>\n",
              "      <td>2.1</td>\n",
              "      <td>-73.969620</td>\n",
              "      <td>40.763390</td>\n",
              "      <td>-73.979118</td>\n",
              "      <td>40.784794</td>\n",
              "      <td>00:13:14</td>\n",
              "    </tr>\n",
              "    <tr>\n",
              "      <th>14776589</th>\n",
              "      <td>32D306FD3A4D7CEDCFD8D644294DD5B7</td>\n",
              "      <td>05EACD5B806FC3D01A377606D37CF327</td>\n",
              "      <td>CMT</td>\n",
              "      <td>1</td>\n",
              "      <td>2013-01-08 08:25:24</td>\n",
              "      <td>2013-01-08 08:35:12</td>\n",
              "      <td>1</td>\n",
              "      <td>588</td>\n",
              "      <td>1.2</td>\n",
              "      <td>-73.965637</td>\n",
              "      <td>40.774376</td>\n",
              "      <td>-73.977936</td>\n",
              "      <td>40.759560</td>\n",
              "      <td>00:09:48</td>\n",
              "    </tr>\n",
              "    <tr>\n",
              "      <th>14776590</th>\n",
              "      <td>50296A056AF5D221536DC98ABB1E3274</td>\n",
              "      <td>4F3E6D0E69CABD8954F8A126D54C5C20</td>\n",
              "      <td>CMT</td>\n",
              "      <td>1</td>\n",
              "      <td>2013-01-08 02:37:37</td>\n",
              "      <td>2013-01-08 02:55:20</td>\n",
              "      <td>3</td>\n",
              "      <td>1063</td>\n",
              "      <td>8.7</td>\n",
              "      <td>-74.003082</td>\n",
              "      <td>40.739986</td>\n",
              "      <td>-73.937691</td>\n",
              "      <td>40.838692</td>\n",
              "      <td>00:17:43</td>\n",
              "    </tr>\n",
              "    <tr>\n",
              "      <th>14776591</th>\n",
              "      <td>C6CE309A20A523E64FDCDECF150A2EC1</td>\n",
              "      <td>3DC3C9552D190C5D26B0358C23E449A6</td>\n",
              "      <td>CMT</td>\n",
              "      <td>1</td>\n",
              "      <td>2013-01-10 08:02:56</td>\n",
              "      <td>2013-01-10 08:14:24</td>\n",
              "      <td>1</td>\n",
              "      <td>687</td>\n",
              "      <td>2.7</td>\n",
              "      <td>-73.992874</td>\n",
              "      <td>40.758064</td>\n",
              "      <td>-73.979675</td>\n",
              "      <td>40.733341</td>\n",
              "      <td>00:11:28</td>\n",
              "    </tr>\n",
              "    <tr>\n",
              "      <th>14776592</th>\n",
              "      <td>C6CE309A20A523E64FDCDECF150A2EC1</td>\n",
              "      <td>3DC3C9552D190C5D26B0358C23E449A6</td>\n",
              "      <td>CMT</td>\n",
              "      <td>1</td>\n",
              "      <td>2013-01-10 15:00:16</td>\n",
              "      <td>2013-01-10 15:09:03</td>\n",
              "      <td>1</td>\n",
              "      <td>527</td>\n",
              "      <td>0.7</td>\n",
              "      <td>-73.974838</td>\n",
              "      <td>40.761784</td>\n",
              "      <td>-73.985031</td>\n",
              "      <td>40.758156</td>\n",
              "      <td>00:08:47</td>\n",
              "    </tr>\n",
              "    <tr>\n",
              "      <th>14776593</th>\n",
              "      <td>5E162F2D7F569949769648C56A23C525</td>\n",
              "      <td>6F7932F2B112DAABF1F2A385FE2AB819</td>\n",
              "      <td>CMT</td>\n",
              "      <td>1</td>\n",
              "      <td>2013-01-07 23:16:34</td>\n",
              "      <td>2013-01-07 23:43:22</td>\n",
              "      <td>2</td>\n",
              "      <td>1608</td>\n",
              "      <td>13.7</td>\n",
              "      <td>-73.982948</td>\n",
              "      <td>40.750858</td>\n",
              "      <td>-74.033707</td>\n",
              "      <td>40.617203</td>\n",
              "      <td>00:26:48</td>\n",
              "    </tr>\n",
              "    <tr>\n",
              "      <th>14776594</th>\n",
              "      <td>1836E1591EE79F810104064B945747AB</td>\n",
              "      <td>18EDD3FC80A78DC262E2442FEEA55F01</td>\n",
              "      <td>CMT</td>\n",
              "      <td>1</td>\n",
              "      <td>2013-01-08 03:05:09</td>\n",
              "      <td>2013-01-08 03:17:28</td>\n",
              "      <td>1</td>\n",
              "      <td>739</td>\n",
              "      <td>4.3</td>\n",
              "      <td>-73.987808</td>\n",
              "      <td>40.732471</td>\n",
              "      <td>-73.943024</td>\n",
              "      <td>40.705822</td>\n",
              "      <td>00:12:19</td>\n",
              "    </tr>\n",
              "    <tr>\n",
              "      <th>14776595</th>\n",
              "      <td>1836E1591EE79F810104064B945747AB</td>\n",
              "      <td>18EDD3FC80A78DC262E2442FEEA55F01</td>\n",
              "      <td>CMT</td>\n",
              "      <td>1</td>\n",
              "      <td>2013-01-07 17:54:25</td>\n",
              "      <td>2013-01-07 18:11:41</td>\n",
              "      <td>1</td>\n",
              "      <td>1035</td>\n",
              "      <td>2.9</td>\n",
              "      <td>-73.996529</td>\n",
              "      <td>40.732380</td>\n",
              "      <td>-73.966507</td>\n",
              "      <td>40.760593</td>\n",
              "      <td>00:17:16</td>\n",
              "    </tr>\n",
              "    <tr>\n",
              "      <th>14776596</th>\n",
              "      <td>A5A69FAD94C3DC7854F9DDEA994B6380</td>\n",
              "      <td>178BA04DD1A4E3A184C86AA3F110A742</td>\n",
              "      <td>CMT</td>\n",
              "      <td>1</td>\n",
              "      <td>2013-01-10 08:42:47</td>\n",
              "      <td>2013-01-10 08:53:25</td>\n",
              "      <td>1</td>\n",
              "      <td>637</td>\n",
              "      <td>1.1</td>\n",
              "      <td>-73.971596</td>\n",
              "      <td>40.750374</td>\n",
              "      <td>-73.972160</td>\n",
              "      <td>40.763680</td>\n",
              "      <td>00:10:38</td>\n",
              "    </tr>\n",
              "    <tr>\n",
              "      <th>14776597</th>\n",
              "      <td>5E162F2D7F569949769648C56A23C525</td>\n",
              "      <td>6F7932F2B112DAABF1F2A385FE2AB819</td>\n",
              "      <td>CMT</td>\n",
              "      <td>1</td>\n",
              "      <td>2013-01-07 20:01:08</td>\n",
              "      <td>2013-01-07 20:10:23</td>\n",
              "      <td>1</td>\n",
              "      <td>555</td>\n",
              "      <td>1.7</td>\n",
              "      <td>-73.988129</td>\n",
              "      <td>40.769798</td>\n",
              "      <td>-73.977654</td>\n",
              "      <td>40.753460</td>\n",
              "      <td>00:09:15</td>\n",
              "    </tr>\n",
              "    <tr>\n",
              "      <th>14776598</th>\n",
              "      <td>B36D470B76BD8F6D720A83D08891754E</td>\n",
              "      <td>A86011E8B4D0FCC19283230950DFCB3E</td>\n",
              "      <td>CMT</td>\n",
              "      <td>1</td>\n",
              "      <td>2013-01-07 22:01:57</td>\n",
              "      <td>2013-01-07 22:17:36</td>\n",
              "      <td>2</td>\n",
              "      <td>939</td>\n",
              "      <td>6.0</td>\n",
              "      <td>-73.984634</td>\n",
              "      <td>40.718761</td>\n",
              "      <td>-73.981766</td>\n",
              "      <td>40.675709</td>\n",
              "      <td>00:15:39</td>\n",
              "    </tr>\n",
              "    <tr>\n",
              "      <th>14776599</th>\n",
              "      <td>47CFD616C057758044C57D1B4BEFE759</td>\n",
              "      <td>A6DCBA545B1E1A2DC24BFEE1C0A54029</td>\n",
              "      <td>CMT</td>\n",
              "      <td>1</td>\n",
              "      <td>2013-01-07 19:48:22</td>\n",
              "      <td>2013-01-07 19:51:22</td>\n",
              "      <td>1</td>\n",
              "      <td>179</td>\n",
              "      <td>0.5</td>\n",
              "      <td>-73.972740</td>\n",
              "      <td>40.792896</td>\n",
              "      <td>-73.967850</td>\n",
              "      <td>40.800568</td>\n",
              "      <td>00:03:00</td>\n",
              "    </tr>\n",
              "    <tr>\n",
              "      <th>14776600</th>\n",
              "      <td>0CC08DE5645A7137059499EA11886805</td>\n",
              "      <td>4F2627F9FD34A9B9EFCCFC5147048345</td>\n",
              "      <td>CMT</td>\n",
              "      <td>1</td>\n",
              "      <td>2013-01-08 00:26:18</td>\n",
              "      <td>2013-01-08 00:33:41</td>\n",
              "      <td>1</td>\n",
              "      <td>442</td>\n",
              "      <td>2.2</td>\n",
              "      <td>-74.006546</td>\n",
              "      <td>40.739670</td>\n",
              "      <td>-73.982872</td>\n",
              "      <td>40.756832</td>\n",
              "      <td>00:07:23</td>\n",
              "    </tr>\n",
              "    <tr>\n",
              "      <th>14776601</th>\n",
              "      <td>0CC08DE5645A7137059499EA11886805</td>\n",
              "      <td>4F2627F9FD34A9B9EFCCFC5147048345</td>\n",
              "      <td>CMT</td>\n",
              "      <td>1</td>\n",
              "      <td>2013-01-07 19:57:17</td>\n",
              "      <td>2013-01-07 20:07:02</td>\n",
              "      <td>1</td>\n",
              "      <td>585</td>\n",
              "      <td>4.0</td>\n",
              "      <td>-74.014114</td>\n",
              "      <td>40.706306</td>\n",
              "      <td>-74.002693</td>\n",
              "      <td>40.760006</td>\n",
              "      <td>00:09:45</td>\n",
              "    </tr>\n",
              "    <tr>\n",
              "      <th>14776602</th>\n",
              "      <td>B7A16B1C396F4A5113257DDEB043D953</td>\n",
              "      <td>3DC4ACD88D75EF04FBC9CCDFEEF7C71E</td>\n",
              "      <td>CMT</td>\n",
              "      <td>1</td>\n",
              "      <td>2013-01-07 18:50:36</td>\n",
              "      <td>2013-01-07 19:02:03</td>\n",
              "      <td>1</td>\n",
              "      <td>686</td>\n",
              "      <td>2.2</td>\n",
              "      <td>-73.989914</td>\n",
              "      <td>40.736874</td>\n",
              "      <td>-74.009033</td>\n",
              "      <td>40.716122</td>\n",
              "      <td>00:11:27</td>\n",
              "    </tr>\n",
              "    <tr>\n",
              "      <th>14776603</th>\n",
              "      <td>E71CDEFCB364DA0D385629612EE30642</td>\n",
              "      <td>C7259B75B62CB850082BDEB4149DC075</td>\n",
              "      <td>CMT</td>\n",
              "      <td>1</td>\n",
              "      <td>2013-01-07 21:46:45</td>\n",
              "      <td>2013-01-07 21:50:30</td>\n",
              "      <td>1</td>\n",
              "      <td>224</td>\n",
              "      <td>0.9</td>\n",
              "      <td>-73.961113</td>\n",
              "      <td>40.765106</td>\n",
              "      <td>-73.959839</td>\n",
              "      <td>40.776237</td>\n",
              "      <td>00:03:45</td>\n",
              "    </tr>\n",
              "    <tr>\n",
              "      <th>14776604</th>\n",
              "      <td>E71CDEFCB364DA0D385629612EE30642</td>\n",
              "      <td>C7259B75B62CB850082BDEB4149DC075</td>\n",
              "      <td>CMT</td>\n",
              "      <td>1</td>\n",
              "      <td>2013-01-07 21:53:35</td>\n",
              "      <td>2013-01-07 21:54:57</td>\n",
              "      <td>1</td>\n",
              "      <td>82</td>\n",
              "      <td>0.5</td>\n",
              "      <td>-73.964081</td>\n",
              "      <td>40.770279</td>\n",
              "      <td>-73.958977</td>\n",
              "      <td>40.777237</td>\n",
              "      <td>00:01:22</td>\n",
              "    </tr>\n",
              "    <tr>\n",
              "      <th>14776605</th>\n",
              "      <td>A8262FA0AFCB6C7229F6888EAFBDE076</td>\n",
              "      <td>1BDF89260FEF1AE6FDDE839A0278D31D</td>\n",
              "      <td>CMT</td>\n",
              "      <td>2</td>\n",
              "      <td>2013-01-07 07:29:06</td>\n",
              "      <td>2013-01-07 08:19:39</td>\n",
              "      <td>1</td>\n",
              "      <td>3032</td>\n",
              "      <td>21.3</td>\n",
              "      <td>-73.776794</td>\n",
              "      <td>40.645775</td>\n",
              "      <td>-74.010933</td>\n",
              "      <td>40.704960</td>\n",
              "      <td>00:50:33</td>\n",
              "    </tr>\n",
              "    <tr>\n",
              "      <th>14776606</th>\n",
              "      <td>A8262FA0AFCB6C7229F6888EAFBDE076</td>\n",
              "      <td>1BDF89260FEF1AE6FDDE839A0278D31D</td>\n",
              "      <td>CMT</td>\n",
              "      <td>1</td>\n",
              "      <td>2013-01-07 14:30:23</td>\n",
              "      <td>2013-01-07 14:42:14</td>\n",
              "      <td>1</td>\n",
              "      <td>711</td>\n",
              "      <td>1.4</td>\n",
              "      <td>-73.946114</td>\n",
              "      <td>40.801075</td>\n",
              "      <td>-73.966530</td>\n",
              "      <td>40.805023</td>\n",
              "      <td>00:11:51</td>\n",
              "    </tr>\n",
              "    <tr>\n",
              "      <th>14776607</th>\n",
              "      <td>F33EF464441839C6F0DABAABBC93B45D</td>\n",
              "      <td>313F66DD09C308EADA3B307F6B8CF7A9</td>\n",
              "      <td>CMT</td>\n",
              "      <td>1</td>\n",
              "      <td>2013-01-10 10:56:47</td>\n",
              "      <td>2013-01-10 11:05:52</td>\n",
              "      <td>1</td>\n",
              "      <td>545</td>\n",
              "      <td>1.4</td>\n",
              "      <td>-73.975410</td>\n",
              "      <td>40.759106</td>\n",
              "      <td>-73.961830</td>\n",
              "      <td>40.776527</td>\n",
              "      <td>00:09:05</td>\n",
              "    </tr>\n",
              "    <tr>\n",
              "      <th>14776608</th>\n",
              "      <td>56CE01E7DBE0E6449FA1758F082D8884</td>\n",
              "      <td>4C6FE2FCFED26629D515D291EC1516A0</td>\n",
              "      <td>CMT</td>\n",
              "      <td>1</td>\n",
              "      <td>2013-01-10 14:50:01</td>\n",
              "      <td>2013-01-10 15:19:10</td>\n",
              "      <td>1</td>\n",
              "      <td>1748</td>\n",
              "      <td>4.0</td>\n",
              "      <td>-73.957344</td>\n",
              "      <td>40.785732</td>\n",
              "      <td>-73.994942</td>\n",
              "      <td>40.742931</td>\n",
              "      <td>00:29:09</td>\n",
              "    </tr>\n",
              "    <tr>\n",
              "      <th>14776609</th>\n",
              "      <td>32201027CDC62D654DC3AD9747A07C96</td>\n",
              "      <td>B8DDB9F8143017E22104050B26C2A65D</td>\n",
              "      <td>CMT</td>\n",
              "      <td>1</td>\n",
              "      <td>2013-01-05 08:58:18</td>\n",
              "      <td>2013-01-05 09:05:56</td>\n",
              "      <td>1</td>\n",
              "      <td>458</td>\n",
              "      <td>3.2</td>\n",
              "      <td>-73.998901</td>\n",
              "      <td>40.734509</td>\n",
              "      <td>-73.966820</td>\n",
              "      <td>40.770138</td>\n",
              "      <td>00:07:38</td>\n",
              "    </tr>\n",
              "    <tr>\n",
              "      <th>14776610</th>\n",
              "      <td>B33E71CD9E8FE1BE3B70FEB6E807DD15</td>\n",
              "      <td>BAF57796E45D921BB23217E17A372FF6</td>\n",
              "      <td>CMT</td>\n",
              "      <td>1</td>\n",
              "      <td>2013-01-06 04:58:23</td>\n",
              "      <td>2013-01-06 05:11:24</td>\n",
              "      <td>1</td>\n",
              "      <td>781</td>\n",
              "      <td>3.3</td>\n",
              "      <td>-73.989029</td>\n",
              "      <td>40.759327</td>\n",
              "      <td>-73.953743</td>\n",
              "      <td>40.770672</td>\n",
              "      <td>00:13:01</td>\n",
              "    </tr>\n",
              "    <tr>\n",
              "      <th>14776611</th>\n",
              "      <td>ED160B76D5349C8AC1ECF22CD4B8D538</td>\n",
              "      <td>3B93F6DA5DEBDE9560993FA624C4FF76</td>\n",
              "      <td>CMT</td>\n",
              "      <td>1</td>\n",
              "      <td>2013-01-08 14:42:04</td>\n",
              "      <td>2013-01-08 14:50:27</td>\n",
              "      <td>1</td>\n",
              "      <td>503</td>\n",
              "      <td>1.0</td>\n",
              "      <td>-73.993042</td>\n",
              "      <td>40.733990</td>\n",
              "      <td>-73.982483</td>\n",
              "      <td>40.724823</td>\n",
              "      <td>00:08:23</td>\n",
              "    </tr>\n",
              "    <tr>\n",
              "      <th>14776612</th>\n",
              "      <td>D83F9AC0E33F6F19869C243BE6AB6FE5</td>\n",
              "      <td>85A55B6772275374EF90AC9457DC1F83</td>\n",
              "      <td>CMT</td>\n",
              "      <td>1</td>\n",
              "      <td>2013-01-10 13:29:23</td>\n",
              "      <td>2013-01-10 13:34:45</td>\n",
              "      <td>1</td>\n",
              "      <td>321</td>\n",
              "      <td>0.9</td>\n",
              "      <td>-73.979553</td>\n",
              "      <td>40.785011</td>\n",
              "      <td>-73.968262</td>\n",
              "      <td>40.788158</td>\n",
              "      <td>00:05:22</td>\n",
              "    </tr>\n",
              "    <tr>\n",
              "      <th>14776613</th>\n",
              "      <td>04E59442A7DDBCE515E33CD355D866E7</td>\n",
              "      <td>7913172189931A1A1632562B10AB53C4</td>\n",
              "      <td>CMT</td>\n",
              "      <td>1</td>\n",
              "      <td>2013-01-06 16:30:15</td>\n",
              "      <td>2013-01-06 16:42:26</td>\n",
              "      <td>1</td>\n",
              "      <td>730</td>\n",
              "      <td>1.3</td>\n",
              "      <td>-73.968002</td>\n",
              "      <td>40.762161</td>\n",
              "      <td>-73.985992</td>\n",
              "      <td>40.770542</td>\n",
              "      <td>00:12:11</td>\n",
              "    </tr>\n",
              "    <tr>\n",
              "      <th>14776614</th>\n",
              "      <td>D30BED60331C79E3F7ACD05B325ED42F</td>\n",
              "      <td>B5E1D2461A5BCC8819188DACEC17CD69</td>\n",
              "      <td>CMT</td>\n",
              "      <td>1</td>\n",
              "      <td>2013-01-05 20:38:46</td>\n",
              "      <td>2013-01-05 20:43:06</td>\n",
              "      <td>1</td>\n",
              "      <td>260</td>\n",
              "      <td>0.8</td>\n",
              "      <td>-73.982224</td>\n",
              "      <td>40.766670</td>\n",
              "      <td>-73.989212</td>\n",
              "      <td>40.773636</td>\n",
              "      <td>00:04:20</td>\n",
              "    </tr>\n",
              "  </tbody>\n",
              "</table>\n",
              "<p>14776529 rows × 14 columns</p>\n",
              "</div>"
            ],
            "text/plain": [
              "                                 medallion  ... tiempo_viaje\n",
              "0         89D227B655E5C82AECF13C3F540D4CF4  ...     00:06:22\n",
              "1         0BD7C8F5BA12B88E0B67BED28BEA73D8  ...     00:04:19\n",
              "2         0BD7C8F5BA12B88E0B67BED28BEA73D8  ...     00:04:42\n",
              "3         DFD2202EE08F7A8DC9A57B02ACB81FE2  ...     00:04:05\n",
              "4         DFD2202EE08F7A8DC9A57B02ACB81FE2  ...     00:09:21\n",
              "5         20D9ECB2CA0767CF7A01564DF2844A3E  ...     00:10:49\n",
              "6         496644932DF3932605C22C7926FF0FE0  ...     00:06:59\n",
              "7         0B57B9633A2FECD3D3B1944AFC7471CF  ...     00:31:38\n",
              "8         2C0E91FF20A856C891483ED63589F982  ...     00:05:00\n",
              "9         2D4B95E2FA7B2E85118EC5CA4570FA58  ...     00:15:58\n",
              "10        E12F6AF991172EAC3553144A0AF75A19  ...     00:07:58\n",
              "11        E12F6AF991172EAC3553144A0AF75A19  ...     00:12:49\n",
              "12        78FFD9CD0CDA541F335EF8B38FB494D6  ...     00:10:21\n",
              "13        237F49C3ECC11F5024B254268F054384  ...     00:10:13\n",
              "14        3349F919AA8AE5DC9C50A3773EA45BD8  ...     00:21:33\n",
              "15        3349F919AA8AE5DC9C50A3773EA45BD8  ...     00:17:53\n",
              "16        4C005EEBAA7BF26B84B21586332488A2  ...     00:09:51\n",
              "17        7D99C30FCE69B1A9DD27E2AEAC9BFA0C  ...     00:02:39\n",
              "18        E6FBF80668FE0611AEA44FD9574A7E32  ...     00:04:23\n",
              "19        0C5296F3C8B16E702F8F2E06F5106552  ...     00:11:10\n",
              "20        D8AADA4E722C87C10E609654612630DD  ...     00:27:20\n",
              "21        B6FC8357E0D53B0F1FA897D536A20F5C  ...     00:18:14\n",
              "22        E12F6AF991172EAC3553144A0AF75A19  ...     00:08:27\n",
              "23        4C005EEBAA7BF26B84B21586332488A2  ...     00:09:29\n",
              "24        E9BA494DC1A1F26D186394EFBB8327CF  ...     00:02:11\n",
              "25        E6FBF80668FE0611AEA44FD9574A7E32  ...     00:05:40\n",
              "26        0C5296F3C8B16E702F8F2E06F5106552  ...     00:05:13\n",
              "27        A3B17384165197E18CA0A1BB61277EE9  ...     00:01:52\n",
              "28        8E189DABE265CC03FEF4BFC695B32559  ...     00:25:38\n",
              "29        312E0CB058D7FC1A6494EDB66D360CD2  ...     00:08:59\n",
              "...                                    ...  ...          ...\n",
              "14776585  237F49C3ECC11F5024B254268F054384  ...     00:11:01\n",
              "14776586  237F49C3ECC11F5024B254268F054384  ...     00:04:56\n",
              "14776587  4C005EEBAA7BF26B84B21586332488A2  ...     00:06:56\n",
              "14776588  32D306FD3A4D7CEDCFD8D644294DD5B7  ...     00:13:14\n",
              "14776589  32D306FD3A4D7CEDCFD8D644294DD5B7  ...     00:09:48\n",
              "14776590  50296A056AF5D221536DC98ABB1E3274  ...     00:17:43\n",
              "14776591  C6CE309A20A523E64FDCDECF150A2EC1  ...     00:11:28\n",
              "14776592  C6CE309A20A523E64FDCDECF150A2EC1  ...     00:08:47\n",
              "14776593  5E162F2D7F569949769648C56A23C525  ...     00:26:48\n",
              "14776594  1836E1591EE79F810104064B945747AB  ...     00:12:19\n",
              "14776595  1836E1591EE79F810104064B945747AB  ...     00:17:16\n",
              "14776596  A5A69FAD94C3DC7854F9DDEA994B6380  ...     00:10:38\n",
              "14776597  5E162F2D7F569949769648C56A23C525  ...     00:09:15\n",
              "14776598  B36D470B76BD8F6D720A83D08891754E  ...     00:15:39\n",
              "14776599  47CFD616C057758044C57D1B4BEFE759  ...     00:03:00\n",
              "14776600  0CC08DE5645A7137059499EA11886805  ...     00:07:23\n",
              "14776601  0CC08DE5645A7137059499EA11886805  ...     00:09:45\n",
              "14776602  B7A16B1C396F4A5113257DDEB043D953  ...     00:11:27\n",
              "14776603  E71CDEFCB364DA0D385629612EE30642  ...     00:03:45\n",
              "14776604  E71CDEFCB364DA0D385629612EE30642  ...     00:01:22\n",
              "14776605  A8262FA0AFCB6C7229F6888EAFBDE076  ...     00:50:33\n",
              "14776606  A8262FA0AFCB6C7229F6888EAFBDE076  ...     00:11:51\n",
              "14776607  F33EF464441839C6F0DABAABBC93B45D  ...     00:09:05\n",
              "14776608  56CE01E7DBE0E6449FA1758F082D8884  ...     00:29:09\n",
              "14776609  32201027CDC62D654DC3AD9747A07C96  ...     00:07:38\n",
              "14776610  B33E71CD9E8FE1BE3B70FEB6E807DD15  ...     00:13:01\n",
              "14776611  ED160B76D5349C8AC1ECF22CD4B8D538  ...     00:08:23\n",
              "14776612  D83F9AC0E33F6F19869C243BE6AB6FE5  ...     00:05:22\n",
              "14776613  04E59442A7DDBCE515E33CD355D866E7  ...     00:12:11\n",
              "14776614  D30BED60331C79E3F7ACD05B325ED42F  ...     00:04:20\n",
              "\n",
              "[14776529 rows x 14 columns]"
            ]
          },
          "metadata": {
            "tags": []
          },
          "execution_count": 40
        }
      ]
    },
    {
      "cell_type": "code",
      "metadata": {
        "id": "loUKAKE1XbmB",
        "colab_type": "code",
        "colab": {
          "base_uri": "https://localhost:8080/",
          "height": 34
        },
        "outputId": "abdd5fce-4620-4759-8e05-cb2f94713a58"
      },
      "source": [
        "nuevo.shape"
      ],
      "execution_count": 38,
      "outputs": [
        {
          "output_type": "execute_result",
          "data": {
            "text/plain": [
              "(14776529, 14)"
            ]
          },
          "metadata": {
            "tags": []
          },
          "execution_count": 38
        }
      ]
    },
    {
      "cell_type": "code",
      "metadata": {
        "id": "39plNTSOW68b",
        "colab_type": "code",
        "colab": {
          "base_uri": "https://localhost:8080/",
          "height": 118
        },
        "outputId": "1dd0b833-6a43-486d-f0be-4a1a913dbe86"
      },
      "source": [
        "nuevo.columns"
      ],
      "execution_count": 39,
      "outputs": [
        {
          "output_type": "execute_result",
          "data": {
            "text/plain": [
              "Index(['medallion', 'hack_license', 'vendor_id', 'rate_code',\n",
              "       'pickup_datetime', 'dropoff_datetime', 'passenger_count',\n",
              "       'trip_time_in_secs', 'trip_distance', 'pickup_longitude',\n",
              "       'pickup_latitude', 'dropoff_longitude', 'dropoff_latitude',\n",
              "       'tiempo_viaje'],\n",
              "      dtype='object')"
            ]
          },
          "metadata": {
            "tags": []
          },
          "execution_count": 39
        }
      ]
    },
    {
      "cell_type": "code",
      "metadata": {
        "id": "5jvgD8FEW_5a",
        "colab_type": "code",
        "colab": {
          "base_uri": "https://localhost:8080/",
          "height": 34
        },
        "outputId": "8cc80a76-4e14-4e6f-b4fb-ee0e8616854b"
      },
      "source": [
        "type(nuevo)"
      ],
      "execution_count": 53,
      "outputs": [
        {
          "output_type": "execute_result",
          "data": {
            "text/plain": [
              "pandas.core.frame.DataFrame"
            ]
          },
          "metadata": {
            "tags": []
          },
          "execution_count": 53
        }
      ]
    },
    {
      "cell_type": "code",
      "metadata": {
        "id": "K2k5uIRKGZ73",
        "colab_type": "code",
        "colab": {
          "base_uri": "https://localhost:8080/",
          "height": 299
        },
        "outputId": "65c6e138-2db7-43c2-d14f-58ac77aec270"
      },
      "source": [
        "nuevo.head()"
      ],
      "execution_count": 43,
      "outputs": [
        {
          "output_type": "execute_result",
          "data": {
            "text/html": [
              "<div>\n",
              "<style scoped>\n",
              "    .dataframe tbody tr th:only-of-type {\n",
              "        vertical-align: middle;\n",
              "    }\n",
              "\n",
              "    .dataframe tbody tr th {\n",
              "        vertical-align: top;\n",
              "    }\n",
              "\n",
              "    .dataframe thead th {\n",
              "        text-align: right;\n",
              "    }\n",
              "</style>\n",
              "<table border=\"1\" class=\"dataframe\">\n",
              "  <thead>\n",
              "    <tr style=\"text-align: right;\">\n",
              "      <th></th>\n",
              "      <th>medallion</th>\n",
              "      <th>hack_license</th>\n",
              "      <th>vendor_id</th>\n",
              "      <th>rate_code</th>\n",
              "      <th>pickup_datetime</th>\n",
              "      <th>dropoff_datetime</th>\n",
              "      <th>passenger_count</th>\n",
              "      <th>trip_time_in_secs</th>\n",
              "      <th>trip_distance</th>\n",
              "      <th>pickup_longitude</th>\n",
              "      <th>pickup_latitude</th>\n",
              "      <th>dropoff_longitude</th>\n",
              "      <th>dropoff_latitude</th>\n",
              "      <th>tiempo_viaje</th>\n",
              "    </tr>\n",
              "  </thead>\n",
              "  <tbody>\n",
              "    <tr>\n",
              "      <th>0</th>\n",
              "      <td>89D227B655E5C82AECF13C3F540D4CF4</td>\n",
              "      <td>BA96DE419E711691B9445D6A6307C170</td>\n",
              "      <td>CMT</td>\n",
              "      <td>1</td>\n",
              "      <td>2013-01-01 15:11:48</td>\n",
              "      <td>2013-01-01 15:18:10</td>\n",
              "      <td>4</td>\n",
              "      <td>382</td>\n",
              "      <td>1.0</td>\n",
              "      <td>-73.978165</td>\n",
              "      <td>40.757977</td>\n",
              "      <td>-73.989838</td>\n",
              "      <td>40.751171</td>\n",
              "      <td>00:06:22</td>\n",
              "    </tr>\n",
              "    <tr>\n",
              "      <th>1</th>\n",
              "      <td>0BD7C8F5BA12B88E0B67BED28BEA73D8</td>\n",
              "      <td>9FD8F69F0804BDB5549F40E9DA1BE472</td>\n",
              "      <td>CMT</td>\n",
              "      <td>1</td>\n",
              "      <td>2013-01-06 00:18:35</td>\n",
              "      <td>2013-01-06 00:22:54</td>\n",
              "      <td>1</td>\n",
              "      <td>259</td>\n",
              "      <td>1.5</td>\n",
              "      <td>-74.006683</td>\n",
              "      <td>40.731781</td>\n",
              "      <td>-73.994499</td>\n",
              "      <td>40.750660</td>\n",
              "      <td>00:04:19</td>\n",
              "    </tr>\n",
              "    <tr>\n",
              "      <th>2</th>\n",
              "      <td>0BD7C8F5BA12B88E0B67BED28BEA73D8</td>\n",
              "      <td>9FD8F69F0804BDB5549F40E9DA1BE472</td>\n",
              "      <td>CMT</td>\n",
              "      <td>1</td>\n",
              "      <td>2013-01-05 18:49:41</td>\n",
              "      <td>2013-01-05 18:54:23</td>\n",
              "      <td>1</td>\n",
              "      <td>282</td>\n",
              "      <td>1.1</td>\n",
              "      <td>-74.004707</td>\n",
              "      <td>40.737770</td>\n",
              "      <td>-74.009834</td>\n",
              "      <td>40.726002</td>\n",
              "      <td>00:04:42</td>\n",
              "    </tr>\n",
              "    <tr>\n",
              "      <th>3</th>\n",
              "      <td>DFD2202EE08F7A8DC9A57B02ACB81FE2</td>\n",
              "      <td>51EE87E3205C985EF8431D850C786310</td>\n",
              "      <td>CMT</td>\n",
              "      <td>1</td>\n",
              "      <td>2013-01-07 23:54:15</td>\n",
              "      <td>2013-01-07 23:58:20</td>\n",
              "      <td>2</td>\n",
              "      <td>244</td>\n",
              "      <td>0.7</td>\n",
              "      <td>-73.974602</td>\n",
              "      <td>40.759945</td>\n",
              "      <td>-73.984734</td>\n",
              "      <td>40.759388</td>\n",
              "      <td>00:04:05</td>\n",
              "    </tr>\n",
              "    <tr>\n",
              "      <th>4</th>\n",
              "      <td>DFD2202EE08F7A8DC9A57B02ACB81FE2</td>\n",
              "      <td>51EE87E3205C985EF8431D850C786310</td>\n",
              "      <td>CMT</td>\n",
              "      <td>1</td>\n",
              "      <td>2013-01-07 23:25:03</td>\n",
              "      <td>2013-01-07 23:34:24</td>\n",
              "      <td>1</td>\n",
              "      <td>560</td>\n",
              "      <td>2.1</td>\n",
              "      <td>-73.976250</td>\n",
              "      <td>40.748528</td>\n",
              "      <td>-74.002586</td>\n",
              "      <td>40.747868</td>\n",
              "      <td>00:09:21</td>\n",
              "    </tr>\n",
              "  </tbody>\n",
              "</table>\n",
              "</div>"
            ],
            "text/plain": [
              "                          medallion  ... tiempo_viaje\n",
              "0  89D227B655E5C82AECF13C3F540D4CF4  ...     00:06:22\n",
              "1  0BD7C8F5BA12B88E0B67BED28BEA73D8  ...     00:04:19\n",
              "2  0BD7C8F5BA12B88E0B67BED28BEA73D8  ...     00:04:42\n",
              "3  DFD2202EE08F7A8DC9A57B02ACB81FE2  ...     00:04:05\n",
              "4  DFD2202EE08F7A8DC9A57B02ACB81FE2  ...     00:09:21\n",
              "\n",
              "[5 rows x 14 columns]"
            ]
          },
          "metadata": {
            "tags": []
          },
          "execution_count": 43
        }
      ]
    },
    {
      "cell_type": "code",
      "metadata": {
        "id": "-X4V0sktX_cT",
        "colab_type": "code",
        "colab": {
          "base_uri": "https://localhost:8080/",
          "height": 269
        },
        "outputId": "6ca640c9-7662-4c87-c87a-048b7362a1e1"
      },
      "source": [
        "nuevo.dtypes"
      ],
      "execution_count": 44,
      "outputs": [
        {
          "output_type": "execute_result",
          "data": {
            "text/plain": [
              "medallion                     object\n",
              "hack_license                  object\n",
              "vendor_id                     object\n",
              "rate_code                      int64\n",
              "pickup_datetime       datetime64[ns]\n",
              "dropoff_datetime      datetime64[ns]\n",
              "passenger_count                int64\n",
              "trip_time_in_secs              int64\n",
              "trip_distance                float64\n",
              "pickup_longitude             float64\n",
              "pickup_latitude              float64\n",
              "dropoff_longitude            float64\n",
              "dropoff_latitude             float64\n",
              "tiempo_viaje         timedelta64[ns]\n",
              "dtype: object"
            ]
          },
          "metadata": {
            "tags": []
          },
          "execution_count": 44
        }
      ]
    },
    {
      "cell_type": "code",
      "metadata": {
        "id": "YhFKVGybZ600",
        "colab_type": "code",
        "colab": {}
      },
      "source": [
        "viajes=nuevo['trip_time_in_secs']\n"
      ],
      "execution_count": 0,
      "outputs": []
    },
    {
      "cell_type": "code",
      "metadata": {
        "id": "JrtptzpMzzmN",
        "colab_type": "code",
        "colab": {}
      },
      "source": [
        "va=viajes.to_frame()"
      ],
      "execution_count": 0,
      "outputs": []
    },
    {
      "cell_type": "code",
      "metadata": {
        "id": "aFDjhF1z0iWE",
        "colab_type": "code",
        "colab": {}
      },
      "source": [
        "#viajesdl=viajes.apply(madres, axis=1, meta=viajes)\n",
        "viajesdl=va.trip_time_in_secs.map(lambda trip_time_in_secs: 'y' if trip_time_in_secs>1200 else 'n')"
      ],
      "execution_count": 0,
      "outputs": []
    },
    {
      "cell_type": "code",
      "metadata": {
        "id": "7xYaHyqI4tCH",
        "colab_type": "code",
        "colab": {
          "base_uri": "https://localhost:8080/",
          "height": 1058
        },
        "outputId": "78e70e19-f344-4a0d-f851-90968596eae4"
      },
      "source": [
        "viajesdl"
      ],
      "execution_count": 43,
      "outputs": [
        {
          "output_type": "execute_result",
          "data": {
            "text/plain": [
              "0           n\n",
              "1           n\n",
              "2           n\n",
              "3           n\n",
              "4           n\n",
              "5           n\n",
              "6           n\n",
              "7           y\n",
              "8           n\n",
              "9           n\n",
              "10          n\n",
              "11          n\n",
              "12          n\n",
              "13          n\n",
              "14          y\n",
              "15          n\n",
              "16          n\n",
              "17          n\n",
              "18          n\n",
              "19          n\n",
              "20          y\n",
              "21          n\n",
              "22          n\n",
              "23          n\n",
              "24          n\n",
              "25          n\n",
              "26          n\n",
              "27          n\n",
              "28          y\n",
              "29          n\n",
              "           ..\n",
              "14776585    n\n",
              "14776586    n\n",
              "14776587    n\n",
              "14776588    n\n",
              "14776589    n\n",
              "14776590    n\n",
              "14776591    n\n",
              "14776592    n\n",
              "14776593    y\n",
              "14776594    n\n",
              "14776595    n\n",
              "14776596    n\n",
              "14776597    n\n",
              "14776598    n\n",
              "14776599    n\n",
              "14776600    n\n",
              "14776601    n\n",
              "14776602    n\n",
              "14776603    n\n",
              "14776604    n\n",
              "14776605    y\n",
              "14776606    n\n",
              "14776607    n\n",
              "14776608    y\n",
              "14776609    n\n",
              "14776610    n\n",
              "14776611    n\n",
              "14776612    n\n",
              "14776613    n\n",
              "14776614    n\n",
              "Name: trip_time_in_secs, Length: 14776529, dtype: object"
            ]
          },
          "metadata": {
            "tags": []
          },
          "execution_count": 43
        }
      ]
    },
    {
      "cell_type": "code",
      "metadata": {
        "id": "iZhGNGgGehO3",
        "colab_type": "code",
        "colab": {}
      },
      "source": [
        "nuevo=nuevo.assign(Viajes_largos=viajesdl)\n"
      ],
      "execution_count": 0,
      "outputs": []
    },
    {
      "cell_type": "code",
      "metadata": {
        "id": "YJMpOCxZsWeX",
        "colab_type": "code",
        "colab": {}
      },
      "source": [
        "nuevo"
      ],
      "execution_count": 0,
      "outputs": []
    },
    {
      "cell_type": "code",
      "metadata": {
        "id": "nLTPZeQnjViy",
        "colab_type": "code",
        "colab": {
          "base_uri": "https://localhost:8080/",
          "height": 67
        },
        "outputId": "51fc7d57-2ab7-400c-b14e-9bcd619a9108"
      },
      "source": [
        "nuevo['Viajes_largos'].value_counts()"
      ],
      "execution_count": 45,
      "outputs": [
        {
          "output_type": "execute_result",
          "data": {
            "text/plain": [
              "n    13061292\n",
              "y     1715237\n",
              "Name: Viajes_largos, dtype: int64"
            ]
          },
          "metadata": {
            "tags": []
          },
          "execution_count": 45
        }
      ]
    },
    {
      "cell_type": "code",
      "metadata": {
        "id": "Ij6M0lINjoiM",
        "colab_type": "code",
        "colab": {}
      },
      "source": [
        "vjt=nuevo['medallion'].value_counts()"
      ],
      "execution_count": 0,
      "outputs": []
    },
    {
      "cell_type": "code",
      "metadata": {
        "id": "vCa5XQg_Lx-l",
        "colab_type": "code",
        "colab": {
          "base_uri": "https://localhost:8080/",
          "height": 1058
        },
        "outputId": "27d7ebe3-c52c-4bfc-c94c-4a93275218cc"
      },
      "source": [
        "vjt"
      ],
      "execution_count": 57,
      "outputs": [
        {
          "output_type": "execute_result",
          "data": {
            "text/plain": [
              "7E1346F23960CC18D7D129FA28B63A75    2137\n",
              "6FFCF7A4F34BA44239636028E680E438    2112\n",
              "A979CDA04CFB8BA3D3ACBA7E8D7F0661    2039\n",
              "D5C7CD37EA4D372D00F0A681CDC93F11    1959\n",
              "849E486825860106403FB991A763BCC3    1957\n",
              "6FE6DFF9A59C0B64BE0CA64EE2699F08    1941\n",
              "06C961EBE7EF4D13F3AE6C005EE0F501    1893\n",
              "22908753E00888CC219C875C8D5BC4F6    1886\n",
              "6403BF98E4618E21C795C3B45A636D77    1882\n",
              "E6101A0F85312C49A5B5950E61D284DC    1882\n",
              "0310297769C8B049C0EA8E87C697F755    1881\n",
              "E9FD29C830D1C3D9C06B5D34E959B4B4    1870\n",
              "FB0E9C6498122E383A2D4E2D13A5D3FF    1869\n",
              "BC9EE7F807E71ACA2AEA11CAB51604F8    1869\n",
              "FC229C5E8895E11202ED3AED12366745    1866\n",
              "B45D01B7B5A22CFA218DEBC41C36C152    1866\n",
              "E90134322479C5C01D82226C11425CD0    1862\n",
              "075E4BFE6607421289B566A32BC135E5    1860\n",
              "0832BDD7A3BE2ECA14DC518FCA8B7E5D    1858\n",
              "DA1A4CB0E75444C73D1D1633E701206E    1856\n",
              "4F7C132D3130970CFA892CC858F5ECB5    1855\n",
              "7755E404335466AECD640879DDFF5E16    1852\n",
              "B6585890F68EE02702F32DECDEABC2A8    1847\n",
              "74573167F71AE8239A145571768C49AC    1847\n",
              "171FD91CBF0D6FABF499A9452A4950D5    1844\n",
              "113D0572C45BFA1D44C96D25A5F7089F    1843\n",
              "A532B1493C4DD88C450F6796369EAA6F    1841\n",
              "B3483C7FE98B736AAB5FD66CE1704BA1    1838\n",
              "535A73100304DAECC74E2727FFB245B8    1835\n",
              "7237EC7ABD6114EDDC87A3AA846F8418    1833\n",
              "                                    ... \n",
              "9BE6AD896FF34E3EC823A5329CAA889C       1\n",
              "B248F84BA51A50DEF23D6DD39C52C790       1\n",
              "ECCBC87E4B5CE2FE28308FD9F2A7BAF3       1\n",
              "8519ED2C1FF1FED8DA91AF1C295262AD       1\n",
              "372116418B540F1C22626F7B45A7A7C3       1\n",
              "A77652E73CA58167E33413B9278E1090       1\n",
              "0FE28AC30C6840B72575D900EF8C1192       1\n",
              "47B00AB9C91BDF83A2A5B0900F26AB67       1\n",
              "D05213C123A9D151078C5689599860AC       1\n",
              "0FCBC61ACD0479DC77E3CCCC0F5FFCA7       1\n",
              "DD65C3CD88CF99F9CE617B2D4C6D4DF1       1\n",
              "32CDADE270817C62FF3730EA993C7604       1\n",
              "6BA15ECAF8B8ED627ED071984400F0E8       1\n",
              "9BC726AA8D23FC117A8100EC9E2EABAD       1\n",
              "09D734FEF89D285B673B369B47600EC4       1\n",
              "2211BD68FD108E048BF084A3E9E17689       1\n",
              "943AED3BFF4E031B757172DCABB00AB4       1\n",
              "809BC82DD6837ABEAD00B67903882C27       1\n",
              "4F3778C52ECA6BD9CEBD801DD290C96D       1\n",
              "9A038577119AD16A90EB830508E5E63D       1\n",
              "0219EB9A4C74AAA118104359E5A5914C       1\n",
              "0972E3ED97DA223496CEDB7E304CB1CA       1\n",
              "E65514FD03C08EA29DF411099AE0C78F       1\n",
              "4C7A615C89B492613BDBB2502A919A3E       1\n",
              "84C5C4DC97CAF2300944DB7EA7384801       1\n",
              "4C522615874682EA62B5789AE8B71F9F       1\n",
              "6E6E810B1B8E67FD3E9169601218F7B2       1\n",
              "4CD94C1779440C4640E7D84A799E9826       1\n",
              "39609B3A2306A3D30F310553D418194B       1\n",
              "71792A2A850956D5E1B763DB453908E5       1\n",
              "Name: medallion, Length: 13426, dtype: int64"
            ]
          },
          "metadata": {
            "tags": []
          },
          "execution_count": 57
        }
      ]
    },
    {
      "cell_type": "code",
      "metadata": {
        "id": "CocrJa1PsnXh",
        "colab_type": "code",
        "colab": {
          "base_uri": "https://localhost:8080/",
          "height": 34
        },
        "outputId": "06c2f61b-7790-489b-cefe-490298da0355"
      },
      "source": [
        "type(vjt)"
      ],
      "execution_count": 56,
      "outputs": [
        {
          "output_type": "execute_result",
          "data": {
            "text/plain": [
              "pandas.core.series.Series"
            ]
          },
          "metadata": {
            "tags": []
          },
          "execution_count": 56
        }
      ]
    },
    {
      "cell_type": "code",
      "metadata": {
        "id": "TYmWnJ8ocz1U",
        "colab_type": "code",
        "colab": {}
      },
      "source": [
        "#viajesLargos.to_csv('/content/viajesLargos1*.csv')"
      ],
      "execution_count": 0,
      "outputs": []
    },
    {
      "cell_type": "markdown",
      "metadata": {
        "id": "8s6C_YzTCmG7",
        "colab_type": "text"
      },
      "source": [
        "Hacer una grafica temporal del numero total de pasajeros agregados por dias de la semana y despues por horas del dia. \n",
        "\n",
        "Sugerencia: agregar por el correspondiente periodo temporal y graficar. Que pueden observar de las graficas?"
      ]
    },
    {
      "cell_type": "code",
      "metadata": {
        "id": "7PChaGI9xvuD",
        "colab_type": "code",
        "colab": {}
      },
      "source": [
        "este='7E1346F23960CC18D7D129FA28B63A75'"
      ],
      "execution_count": 0,
      "outputs": []
    },
    {
      "cell_type": "code",
      "metadata": {
        "id": "K2pbJXynDMU_",
        "colab_type": "code",
        "colab": {}
      },
      "source": [
        "taxi=nuevo[nuevo.medallion==este]"
      ],
      "execution_count": 0,
      "outputs": []
    },
    {
      "cell_type": "code",
      "metadata": {
        "id": "eX2KAhpkMA3m",
        "colab_type": "code",
        "colab": {}
      },
      "source": [
        "import matplotlib.pyplot as plt"
      ],
      "execution_count": 0,
      "outputs": []
    },
    {
      "cell_type": "code",
      "metadata": {
        "id": "AAGBduCROo-A",
        "colab_type": "code",
        "colab": {}
      },
      "source": [
        "graf=nuevo"
      ],
      "execution_count": 0,
      "outputs": []
    },
    {
      "cell_type": "code",
      "metadata": {
        "id": "GJgAgRs0OsFc",
        "colab_type": "code",
        "colab": {}
      },
      "source": [
        "graf['hour'] = graf['dropoff_datetime'].dt.hour\n",
        "graf['weekday'] = graf['dropoff_datetime'].dt.weekday"
      ],
      "execution_count": 0,
      "outputs": []
    },
    {
      "cell_type": "code",
      "metadata": {
        "id": "-KlOWyZoO36Z",
        "colab_type": "code",
        "colab": {}
      },
      "source": [
        "grafPorHora=graf.groupby('hour')\n",
        "grafPorDia=graf.groupby('weekday')"
      ],
      "execution_count": 0,
      "outputs": []
    },
    {
      "cell_type": "code",
      "metadata": {
        "id": "58Wlo5l2Pm8n",
        "colab_type": "code",
        "colab": {
          "base_uri": "https://localhost:8080/",
          "height": 678
        },
        "outputId": "bc2fcf15-bc92-42d1-9591-4faf60a2a148"
      },
      "source": [
        "nuevo.plot.line(x='dropoff_datetime', y='passenger_count', figsize=(13,5))\n",
        "nuevo.plot.line(x='pickup_datetime', y='passenger_count', figsize=(13,5))"
      ],
      "execution_count": 51,
      "outputs": [
        {
          "output_type": "execute_result",
          "data": {
            "text/plain": [
              "<matplotlib.axes._subplots.AxesSubplot at 0x7fead204cc88>"
            ]
          },
          "metadata": {
            "tags": []
          },
          "execution_count": 51
        },
        {
          "output_type": "display_data",
          "data": {
            "image/png": "[encoded data removed]",
            "text/plain": [
              "<Figure size 936x360 with 1 Axes>"
            ]
          },
          "metadata": {
            "tags": []
          }
        },
        {
          "output_type": "display_data",
          "data": {
            "image/png": "[encoded data removed]",
            "text/plain": [
              "<Figure size 936x360 with 1 Axes>"
            ]
          },
          "metadata": {
            "tags": []
          }
        }
      ]
    },
    {
      "cell_type": "code",
      "metadata": {
        "id": "uG-05MZmPOQR",
        "colab_type": "code",
        "colab": {
          "base_uri": "https://localhost:8080/",
          "height": 300
        },
        "outputId": "141e67b6-8b83-4b04-a773-12bb2cd37d46"
      },
      "source": [
        "grafPorHora['passenger_count'].sum().plot.line()\n",
        "#grafPorDia['passenger_count'].sum().plot.line()"
      ],
      "execution_count": 52,
      "outputs": [
        {
          "output_type": "execute_result",
          "data": {
            "text/plain": [
              "<matplotlib.axes._subplots.AxesSubplot at 0x7feaa3760908>"
            ]
          },
          "metadata": {
            "tags": []
          },
          "execution_count": 52
        },
        {
          "output_type": "display_data",
          "data": {
            "image/png": "[encoded data removed]",
            "text/plain": [
              "<Figure size 432x288 with 1 Axes>"
            ]
          },
          "metadata": {
            "tags": []
          }
        }
      ]
    },
    {
      "cell_type": "code",
      "metadata": {
        "id": "bU042JJBH1Kk",
        "colab_type": "code",
        "colab": {}
      },
      "source": [
        "taxi.sample(frac=.50)"
      ],
      "execution_count": 0,
      "outputs": []
    },
    {
      "cell_type": "code",
      "metadata": {
        "id": "P_CAQscNDWEx",
        "colab_type": "code",
        "colab": {
          "base_uri": "https://localhost:8080/",
          "height": 178
        },
        "outputId": "ad17f763-1ce6-44bd-b521-b96d5666f65b"
      },
      "source": [
        "taxi['hour'] = taxi['dropoff_datetime'].dt.hour\n",
        "taxi['weekday'] = taxi['dropoff_datetime'].dt.weekday"
      ],
      "execution_count": 53,
      "outputs": [
        {
          "output_type": "error",
          "ename": "NameError",
          "evalue": "ignored",
          "traceback": [
            "\u001b[0;31m---------------------------------------------------------------------------\u001b[0m",
            "\u001b[0;31mNameError\u001b[0m                                 Traceback (most recent call last)",
            "\u001b[0;32m<ipython-input-53-d5e0219408aa>\u001b[0m in \u001b[0;36m<module>\u001b[0;34m()\u001b[0m\n\u001b[0;32m----> 1\u001b[0;31m \u001b[0mtaxi\u001b[0m\u001b[0;34m[\u001b[0m\u001b[0;34m'hour'\u001b[0m\u001b[0;34m]\u001b[0m \u001b[0;34m=\u001b[0m \u001b[0mtaxi\u001b[0m\u001b[0;34m[\u001b[0m\u001b[0;34m'dropoff_datetime'\u001b[0m\u001b[0;34m]\u001b[0m\u001b[0;34m.\u001b[0m\u001b[0mdt\u001b[0m\u001b[0;34m.\u001b[0m\u001b[0mhour\u001b[0m\u001b[0;34m\u001b[0m\u001b[0;34m\u001b[0m\u001b[0m\n\u001b[0m\u001b[1;32m      2\u001b[0m \u001b[0mtaxi\u001b[0m\u001b[0;34m[\u001b[0m\u001b[0;34m'weekday'\u001b[0m\u001b[0;34m]\u001b[0m \u001b[0;34m=\u001b[0m \u001b[0mtaxi\u001b[0m\u001b[0;34m[\u001b[0m\u001b[0;34m'dropoff_datetime'\u001b[0m\u001b[0;34m]\u001b[0m\u001b[0;34m.\u001b[0m\u001b[0mdt\u001b[0m\u001b[0;34m.\u001b[0m\u001b[0mweekday\u001b[0m\u001b[0;34m\u001b[0m\u001b[0;34m\u001b[0m\u001b[0m\n",
            "\u001b[0;31mNameError\u001b[0m: name 'taxi' is not defined"
          ]
        }
      ]
    },
    {
      "cell_type": "code",
      "metadata": {
        "id": "Yaj3flQ1DYpL",
        "colab_type": "code",
        "colab": {}
      },
      "source": [
        "taxiPorHora = taxi.groupby('hour')"
      ],
      "execution_count": 0,
      "outputs": []
    },
    {
      "cell_type": "code",
      "metadata": {
        "id": "uVnQ_JQSMChf",
        "colab_type": "code",
        "colab": {
          "base_uri": "https://localhost:8080/",
          "height": 300
        },
        "outputId": "cae0f6b1-79a0-474c-e1ea-f555cf7d5f2f"
      },
      "source": [
        "taxiPorHora['passenger_count'].sum().plot.line()"
      ],
      "execution_count": 103,
      "outputs": [
        {
          "output_type": "execute_result",
          "data": {
            "text/plain": [
              "<matplotlib.axes._subplots.AxesSubplot at 0x7ff962398b00>"
            ]
          },
          "metadata": {
            "tags": []
          },
          "execution_count": 103
        },
        {
          "output_type": "display_data",
          "data": {
            "image/png": "[encoded data removed]",
            "text/plain": [
              "<Figure size 432x288 with 1 Axes>"
            ]
          },
          "metadata": {
            "tags": []
          }
        }
      ]
    },
    {
      "cell_type": "markdown",
      "metadata": {
        "id": "MCs7v33zCsiB",
        "colab_type": "text"
      },
      "source": [
        "Elegir el vehiculo con mas viajes en cada mes y graficar en un mapa los sitios donde se suben pasajeros agrupados por\n",
        "dia de la semana (un color distinto para cada dia)\n",
        "hora del dia (un color distinto para cada intervalo de cuatro horas,00:00 - 03:59, 04:00--07:59, 08:00-11:59, etc.)\n",
        "\n",
        "Repetir para las posiciones donde se bajan los pasajeros para el mismo vehiculo."
      ]
    },
    {
      "cell_type": "code",
      "metadata": {
        "id": "u8iY05XcEhId",
        "colab_type": "code",
        "colab": {}
      },
      "source": [
        "nuevo.dtypes"
      ],
      "execution_count": 0,
      "outputs": []
    },
    {
      "cell_type": "code",
      "metadata": {
        "id": "kvuOroPZDsXE",
        "colab_type": "code",
        "colab": {}
      },
      "source": [
        "from bokeh.models import BoxZoomTool\n",
        "from bokeh.plotting import figure, output_notebook, show"
      ],
      "execution_count": 0,
      "outputs": []
    },
    {
      "cell_type": "code",
      "metadata": {
        "id": "XcBJlhFxD_Mo",
        "colab_type": "code",
        "colab": {}
      },
      "source": [
        "NYC = x_range, y_range = ((-8242000,-8210000), (4965000,4990000))\n",
        "\n",
        "plot_width  = int(750)\n",
        "plot_height = int(plot_width//1.2)\n",
        "\n",
        "def base_plot(tools='pan,wheel_zoom,reset',plot_width=plot_width, plot_height=plot_height, **plot_args):\n",
        "    p = figure(tools=tools, plot_width=plot_width, plot_height=plot_height,\n",
        "        x_range=x_range, y_range=y_range, outline_line_color=None,\n",
        "        min_border=0, min_border_left=0, min_border_right=0,\n",
        "        min_border_top=0, min_border_bottom=0, **plot_args)\n",
        "\n",
        "    p.axis.visible = False\n",
        "    p.xgrid.grid_line_color = None\n",
        "    p.ygrid.grid_line_color = None\n",
        "\n",
        "    p.add_tools(BoxZoomTool(match_aspect=True))\n",
        "\n",
        "    return p\n",
        "\n",
        "options = dict(line_color=None, fill_color='blue', size=5)"
      ],
      "execution_count": 0,
      "outputs": []
    },
    {
      "cell_type": "code",
      "metadata": {
        "id": "EUagEiIvEHlr",
        "colab_type": "code",
        "colab": {}
      },
      "source": [
        "from bokeh.tile_providers import STAMEN_TERRAIN\n",
        "output_notebook()\n",
        "muestras = taxi.sample(frac=.50)\n",
        "p= base_plot()\n",
        "p.add_tile(STAMEN_TERRAIN)\n",
        "p.circle(x=muestras['dropoff_longitude'], y=muestras['dropoff_latitude'], **options)\n",
        "show(p)"
      ],
      "execution_count": 0,
      "outputs": []
    },
    {
      "cell_type": "code",
      "metadata": {
        "id": "Hdjh5HdbENVd",
        "colab_type": "code",
        "colab": {}
      },
      "source": [
        ""
      ],
      "execution_count": 0,
      "outputs": []
    }
  ]
}